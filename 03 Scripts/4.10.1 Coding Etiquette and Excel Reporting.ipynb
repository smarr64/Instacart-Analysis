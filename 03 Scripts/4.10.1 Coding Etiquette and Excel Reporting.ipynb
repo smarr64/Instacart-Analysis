{
 "cells": [
  {
   "cell_type": "markdown",
   "id": "cabf463b",
   "metadata": {},
   "source": [
    "# Table of Contents\n",
    "## Import the data set you exported in Exercise 4.9 into a new Jupyter notebook.\n",
    "## Consider any security implications that might exist for this new data. You’ll need to address any PII data in the data before continuing your analysis.\n",
    "## The Instacart officers are interested in comparing customer behavior in different geographic areas. Create a regional segmentation of the data. You’ll need to create a “Region” column based on the “State” column from your customers data set\n",
    "## The Instacart CFO isn’t interested in customers who don’t generate much revenue for the app. Create an exclusion flag for low-activity customers (customers with less than 5 orders) and exclude them from the data. Make sure you export this sample.\n",
    "## Create a profiling variable based on age, income, certain goods in the “department_id” column, and number of dependents\n",
    "###  Age\n",
    "###  Income\n",
    "###  n_dependants\n",
    "###  Fam_Status and Crosstabs\n",
    "###  Create Profiles from Crosstab Data\n",
    "## Sales and Marketing Questions\n",
    "###  The sales team needs to know what the busiest days of the week and hours of the day are (i.e., the days and times with the most orders) in order to schedule ads at times when there are fewer orders\n",
    "###  They also want to know whether there are particular times of the day when people spend the most money, as this might inform the type of products they advertise at these times\n",
    "###  Instacart has a lot of products with different price tags. Marketing and sales want to use simpler price range groupings to help direct their efforts.\n",
    "###  Are there certain types of products that are more popular than others? The marketing and sales teams want to know which departments have the highest frequency of product orders.\n",
    "###  The marketing and sales teams are particularly interested in the different types of customers in their system and how their ordering behaviors differ. For example\n",
    "####     What’s the distribution among users in regards to their brand loyalty (i.e., how often do they return to Instacart)?\n",
    "####     Are there differences in ordering habits based on a customer’s loyalty status?\n",
    "####     Are there differences in ordering habits based on a customer’s region?\n",
    "####     Is there a connection between age and family status in terms of ordering habits?\n",
    "####     What different classifications does the demographic information suggest? Age? Income? Certain types of goods? Family status?\n",
    "####     What differences can you find in ordering habits of different customer profiles? Consider the price of orders, the frequency of orders, the products customers are ordering, and anything else you can think of.\n",
    "## Export Data"
   ]
  },
  {
   "cell_type": "code",
   "execution_count": null,
   "id": "2916fca1",
   "metadata": {},
   "outputs": [],
   "source": [
    "# Import the data set you exported in Exercise 4.9 into a new Jupyter notebook."
   ]
  },
  {
   "cell_type": "code",
   "execution_count": 1,
   "id": "44a5878b",
   "metadata": {},
   "outputs": [],
   "source": [
    "# import libraries\n",
    "import numpy as np\n",
    "import pandas as pd\n",
    "import os\n",
    "import scipy\n",
    "import seaborn as sns\n",
    "import matplotlib.pyplot as plp"
   ]
  },
  {
   "cell_type": "code",
   "execution_count": 2,
   "id": "cefd4569",
   "metadata": {},
   "outputs": [],
   "source": [
    "# create path\n",
    "path = r'C:\\Users\\eserc\\Documents\\Sharon Data Stuffffff sry'"
   ]
  },
  {
   "cell_type": "code",
   "execution_count": 3,
   "id": "a3280939",
   "metadata": {},
   "outputs": [],
   "source": [
    "# import data\n",
    "df = pd.read_pickle(os.path.join(path, '02 Data', 'Prepared Data', 'ords_prods_large_4_10.pkl'))"
   ]
  },
  {
   "cell_type": "code",
   "execution_count": 4,
   "id": "94d79d10",
   "metadata": {},
   "outputs": [
    {
     "data": {
      "text/plain": [
       "(28662555, 27)"
      ]
     },
     "execution_count": 4,
     "metadata": {},
     "output_type": "execute_result"
    }
   ],
   "source": [
    "# check output size\n",
    "df.shape"
   ]
  },
  {
   "cell_type": "code",
   "execution_count": 5,
   "id": "407b215b",
   "metadata": {},
   "outputs": [],
   "source": [
    "# create a random sampling assigning each value true or false\n",
    "np.random.seed(5)\n",
    "dev = np.random.rand(len(df)) <= 0.9"
   ]
  },
  {
   "cell_type": "code",
   "execution_count": 6,
   "id": "0eb25c54",
   "metadata": {},
   "outputs": [],
   "source": [
    "# store 90% of the dtata in the label 'big' and 10% in the label 'small'\n",
    "big = df[dev]\n",
    "small = df[~dev]"
   ]
  },
  {
   "cell_type": "code",
   "execution_count": 7,
   "id": "9f1e68ba",
   "metadata": {},
   "outputs": [],
   "source": [
    "# create small df for test to preserve RAM\n",
    "df2 = small"
   ]
  },
  {
   "cell_type": "code",
   "execution_count": 8,
   "id": "70212af5",
   "metadata": {},
   "outputs": [
    {
     "name": "stdout",
     "output_type": "stream",
     "text": [
      "<class 'pandas.core.frame.DataFrame'>\n",
      "Int64Index: 2866961 entries, 4 to 32641200\n",
      "Data columns (total 27 columns):\n",
      " #   Column                  Dtype  \n",
      "---  ------                  -----  \n",
      " 0   order_id                float16\n",
      " 1   user_id                 object \n",
      " 2   order_number            int8   \n",
      " 3   order_day_of_week       int8   \n",
      " 4   order_hour_of_day       int8   \n",
      " 5   days_since_prior_order  float16\n",
      " 6   product_id              float16\n",
      " 7   reordered               float16\n",
      " 8   product_name            object \n",
      " 9   department_id           int8   \n",
      " 10  prices                  float16\n",
      " 11  price_range_loc         object \n",
      " 12  busiest_days            object \n",
      " 13  busiest_period_of_day   object \n",
      " 14  max_order               float16\n",
      " 15  loyalty_flag            object \n",
      " 16  average_order           float16\n",
      " 17  spender                 object \n",
      " 18  first_name              object \n",
      " 19  last_name               object \n",
      " 20  gender                  object \n",
      " 21  state                   object \n",
      " 22  age                     int8   \n",
      " 23  date_joined             object \n",
      " 24  n_dependants            int8   \n",
      " 25  fam_status              object \n",
      " 26  income                  int32  \n",
      "dtypes: float16(7), int32(1), int8(6), object(13)\n",
      "memory usage: 371.8+ MB\n"
     ]
    }
   ],
   "source": [
    "# get a list of columns and data types\n",
    "df2.info()"
   ]
  },
  {
   "cell_type": "markdown",
   "id": "a698f9fd",
   "metadata": {
    "heading_collapsed": true
   },
   "source": [
    "# 2. Consider any security implications that might exist for this new data. You’ll need to address any PII data in the data before continuing your analysis."
   ]
  },
  {
   "cell_type": "code",
   "execution_count": 9,
   "id": "ce00f514",
   "metadata": {
    "hidden": true
   },
   "outputs": [],
   "source": [
    "# to hid PII we will drop names from this analysis\n",
    "df3 = df2.drop(['first_name','last_name'], axis=1)"
   ]
  },
  {
   "cell_type": "code",
   "execution_count": 10,
   "id": "84383e7a",
   "metadata": {
    "hidden": true
   },
   "outputs": [
    {
     "data": {
      "text/plain": [
       "Index(['order_id', 'user_id', 'order_number', 'order_day_of_week',\n",
       "       'order_hour_of_day', 'days_since_prior_order', 'product_id',\n",
       "       'reordered', 'product_name', 'department_id', 'prices',\n",
       "       'price_range_loc', 'busiest_days', 'busiest_period_of_day', 'max_order',\n",
       "       'loyalty_flag', 'average_order', 'spender', 'gender', 'state', 'age',\n",
       "       'date_joined', 'n_dependants', 'fam_status', 'income'],\n",
       "      dtype='object')"
      ]
     },
     "execution_count": 10,
     "metadata": {},
     "output_type": "execute_result"
    }
   ],
   "source": [
    "# check to see if PII columns are dropped\n",
    "df3.columns"
   ]
  },
  {
   "cell_type": "markdown",
   "id": "e6db59a3",
   "metadata": {
    "heading_collapsed": true
   },
   "source": [
    "# 3. The Instacart officers are interested in comparing customer behavior in different geographic areas. Create a regional segmentation of the data. You’ll need to create a “Region” column based on the “State” column from your customers data set."
   ]
  },
  {
   "cell_type": "code",
   "execution_count": 11,
   "id": "4c05f80c",
   "metadata": {
    "hidden": true
   },
   "outputs": [],
   "source": [
    "# create flags for different regions based on the state\n",
    "df3.loc[df3['state'] == 'Maine', 'region'] = 'Region 1'"
   ]
  },
  {
   "cell_type": "code",
   "execution_count": 12,
   "id": "c479d62c",
   "metadata": {
    "hidden": true
   },
   "outputs": [],
   "source": [
    "df3.loc[df3['state'] == 'Connecticut', 'region'] = 'Region 1'"
   ]
  },
  {
   "cell_type": "code",
   "execution_count": 13,
   "id": "9dea6303",
   "metadata": {
    "hidden": true
   },
   "outputs": [],
   "source": [
    "df3.loc[df3['state'] == 'Vermont', 'region'] = 'Region 1'"
   ]
  },
  {
   "cell_type": "code",
   "execution_count": 14,
   "id": "5d170920",
   "metadata": {
    "hidden": true
   },
   "outputs": [],
   "source": [
    "df3.loc[df3['state'] == 'Massachusetts', 'region'] = 'Region 1'"
   ]
  },
  {
   "cell_type": "code",
   "execution_count": 15,
   "id": "be8c22f9",
   "metadata": {
    "hidden": true
   },
   "outputs": [],
   "source": [
    "df3.loc[df3['state'] == 'Rhode Island', 'region'] = 'Region 1'"
   ]
  },
  {
   "cell_type": "code",
   "execution_count": 16,
   "id": "9d524f98",
   "metadata": {
    "hidden": true
   },
   "outputs": [],
   "source": [
    "df3.loc[df3['state'] == 'New Hampshire', 'region'] = 'Region 1'"
   ]
  },
  {
   "cell_type": "code",
   "execution_count": 17,
   "id": "25972c09",
   "metadata": {
    "hidden": true
   },
   "outputs": [],
   "source": [
    "df3.loc[df3['state'] == 'New York', 'region'] = 'Region 1'"
   ]
  },
  {
   "cell_type": "code",
   "execution_count": 18,
   "id": "12c2e712",
   "metadata": {
    "hidden": true
   },
   "outputs": [],
   "source": [
    "df3.loc[df3['state'] == 'New Jersey', 'region'] = 'Region 1'"
   ]
  },
  {
   "cell_type": "code",
   "execution_count": 19,
   "id": "541fd63a",
   "metadata": {
    "hidden": true
   },
   "outputs": [],
   "source": [
    "df3.loc[df3['state'] == 'Pennsylvania', 'region'] = 'Region 1'"
   ]
  },
  {
   "cell_type": "code",
   "execution_count": 20,
   "id": "68525a55",
   "metadata": {
    "hidden": true
   },
   "outputs": [],
   "source": [
    "df3.loc[df3['state'] == 'Wisconsin', 'region'] = 'Region 2'"
   ]
  },
  {
   "cell_type": "code",
   "execution_count": 21,
   "id": "88fa3d88",
   "metadata": {
    "hidden": true
   },
   "outputs": [],
   "source": [
    "df3.loc[df3['state'] == 'Michigan', 'region'] = 'Region 2'"
   ]
  },
  {
   "cell_type": "code",
   "execution_count": 22,
   "id": "36cf1ab7",
   "metadata": {
    "hidden": true
   },
   "outputs": [],
   "source": [
    "df3.loc[df3['state'] == 'Illinois', 'region'] = 'Region 2'"
   ]
  },
  {
   "cell_type": "code",
   "execution_count": 23,
   "id": "28f5a2a6",
   "metadata": {
    "hidden": true
   },
   "outputs": [],
   "source": [
    "df3.loc[df3['state'] == 'Indiana', 'region'] = 'Region 2'"
   ]
  },
  {
   "cell_type": "code",
   "execution_count": 24,
   "id": "07beb4e1",
   "metadata": {
    "hidden": true
   },
   "outputs": [],
   "source": [
    "df3.loc[df3['state'] == 'Ohio', 'region'] = 'Region 2'"
   ]
  },
  {
   "cell_type": "code",
   "execution_count": 25,
   "id": "2fc2e2b9",
   "metadata": {
    "hidden": true
   },
   "outputs": [],
   "source": [
    "df3.loc[df3['state'] == 'South Dakota', 'region'] = 'Region 2'"
   ]
  },
  {
   "cell_type": "code",
   "execution_count": 26,
   "id": "b1b00a13",
   "metadata": {
    "hidden": true
   },
   "outputs": [],
   "source": [
    "df3.loc[df3['state'] == 'North Dakota', 'region'] = 'Region 2'"
   ]
  },
  {
   "cell_type": "code",
   "execution_count": 27,
   "id": "7ee0b11b",
   "metadata": {
    "hidden": true
   },
   "outputs": [],
   "source": [
    "df3.loc[df3['state'] == 'Nebraska', 'region'] = 'Region 2'"
   ]
  },
  {
   "cell_type": "code",
   "execution_count": 28,
   "id": "7d87320f",
   "metadata": {
    "hidden": true
   },
   "outputs": [],
   "source": [
    "df3.loc[df3['state'] == 'Kansas', 'region'] = 'Region 2'"
   ]
  },
  {
   "cell_type": "code",
   "execution_count": 29,
   "id": "c102404d",
   "metadata": {
    "hidden": true
   },
   "outputs": [],
   "source": [
    "df3.loc[df3['state'] == 'Minnesota', 'region'] = 'Region 2'"
   ]
  },
  {
   "cell_type": "code",
   "execution_count": 30,
   "id": "a84e2fe4",
   "metadata": {
    "hidden": true
   },
   "outputs": [],
   "source": [
    "df3.loc[df3['state'] == 'Iowa', 'region'] = 'Region 2'"
   ]
  },
  {
   "cell_type": "code",
   "execution_count": 31,
   "id": "acbb75f9",
   "metadata": {
    "hidden": true
   },
   "outputs": [],
   "source": [
    "df3.loc[df3['state'] == 'Missouri', 'region'] = 'Region 2'"
   ]
  },
  {
   "cell_type": "code",
   "execution_count": 32,
   "id": "08325da4",
   "metadata": {
    "hidden": true
   },
   "outputs": [],
   "source": [
    "df3.loc[df3['state'] == 'Delaware', 'region'] = 'Region 3'"
   ]
  },
  {
   "cell_type": "code",
   "execution_count": 33,
   "id": "84bd42aa",
   "metadata": {
    "hidden": true
   },
   "outputs": [],
   "source": [
    "df3.loc[df3['state'] == 'Maryland', 'region'] = 'Region 3'"
   ]
  },
  {
   "cell_type": "code",
   "execution_count": 34,
   "id": "85bc194b",
   "metadata": {
    "hidden": true
   },
   "outputs": [],
   "source": [
    "df3.loc[df3['state'] == 'District of Columbia', 'region'] = 'Region 3'"
   ]
  },
  {
   "cell_type": "code",
   "execution_count": 35,
   "id": "136c3168",
   "metadata": {
    "hidden": true
   },
   "outputs": [],
   "source": [
    "df3.loc[df3['state'] == 'Virginia', 'region'] = 'Region 3'"
   ]
  },
  {
   "cell_type": "code",
   "execution_count": 36,
   "id": "098512d2",
   "metadata": {
    "hidden": true
   },
   "outputs": [],
   "source": [
    "df3.loc[df3['state'] == 'West Virginia', 'region'] = 'Region 3'"
   ]
  },
  {
   "cell_type": "code",
   "execution_count": 37,
   "id": "5a133fde",
   "metadata": {
    "hidden": true
   },
   "outputs": [],
   "source": [
    "df3.loc[df3['state'] == 'North Carolina', 'region'] = 'Region 3'"
   ]
  },
  {
   "cell_type": "code",
   "execution_count": 38,
   "id": "eac62190",
   "metadata": {
    "hidden": true
   },
   "outputs": [],
   "source": [
    "df3.loc[df3['state'] == 'South Carolina', 'region'] = 'Region 3'"
   ]
  },
  {
   "cell_type": "code",
   "execution_count": 39,
   "id": "ef134386",
   "metadata": {
    "hidden": true
   },
   "outputs": [],
   "source": [
    "df3.loc[df3['state'] == 'Georgia', 'region'] = 'Region 3'"
   ]
  },
  {
   "cell_type": "code",
   "execution_count": 40,
   "id": "c1fa93c3",
   "metadata": {
    "hidden": true
   },
   "outputs": [],
   "source": [
    "df3.loc[df3['state'] == 'Florida', 'region'] = 'Region 3'"
   ]
  },
  {
   "cell_type": "code",
   "execution_count": 41,
   "id": "69eb0cff",
   "metadata": {
    "hidden": true
   },
   "outputs": [],
   "source": [
    "df3.loc[df3['state'] == 'Tennessee', 'region'] = 'Region 3'"
   ]
  },
  {
   "cell_type": "code",
   "execution_count": 42,
   "id": "242c4387",
   "metadata": {
    "hidden": true
   },
   "outputs": [],
   "source": [
    "df3.loc[df3['state'] == 'Kentucky', 'region'] = 'Region 3'"
   ]
  },
  {
   "cell_type": "code",
   "execution_count": 43,
   "id": "dc6c3994",
   "metadata": {
    "hidden": true
   },
   "outputs": [],
   "source": [
    "df3.loc[df3['state'] == 'Mississippi', 'region'] = 'Region 3'"
   ]
  },
  {
   "cell_type": "code",
   "execution_count": 44,
   "id": "5e220913",
   "metadata": {
    "hidden": true
   },
   "outputs": [],
   "source": [
    "df3.loc[df3['state'] == 'Alabama', 'region'] = 'Region 3'"
   ]
  },
  {
   "cell_type": "code",
   "execution_count": 45,
   "id": "9b7d25ec",
   "metadata": {
    "hidden": true
   },
   "outputs": [],
   "source": [
    "df3.loc[df3['state'] == 'Texas', 'region'] = 'Region 3'"
   ]
  },
  {
   "cell_type": "code",
   "execution_count": 46,
   "id": "ec10efbd",
   "metadata": {
    "hidden": true
   },
   "outputs": [],
   "source": [
    "df3.loc[df3['state'] == 'Oklahoma', 'region'] = 'Region 3'"
   ]
  },
  {
   "cell_type": "code",
   "execution_count": 47,
   "id": "ac30f96e",
   "metadata": {
    "hidden": true
   },
   "outputs": [],
   "source": [
    "df3.loc[df3['state'] == 'Arkansas', 'region'] = 'Region 3'"
   ]
  },
  {
   "cell_type": "code",
   "execution_count": 48,
   "id": "22265f21",
   "metadata": {
    "hidden": true
   },
   "outputs": [],
   "source": [
    "df3.loc[df3['state'] == 'Louisiana', 'region'] = 'Region 3'"
   ]
  },
  {
   "cell_type": "code",
   "execution_count": 49,
   "id": "554744f0",
   "metadata": {
    "hidden": true
   },
   "outputs": [],
   "source": [
    "df3.loc[df3['state'] == 'Idaho', 'region'] = 'Region 4'"
   ]
  },
  {
   "cell_type": "code",
   "execution_count": 50,
   "id": "be73b04e",
   "metadata": {
    "hidden": true
   },
   "outputs": [],
   "source": [
    "df3.loc[df3['state'] == 'California', 'region'] = 'Region 4'"
   ]
  },
  {
   "cell_type": "code",
   "execution_count": 51,
   "id": "d9bb9079",
   "metadata": {
    "hidden": true
   },
   "outputs": [],
   "source": [
    "df3.loc[df3['state'] == 'Utah', 'region'] = 'Region 4'"
   ]
  },
  {
   "cell_type": "code",
   "execution_count": 52,
   "id": "9f430eae",
   "metadata": {
    "hidden": true
   },
   "outputs": [],
   "source": [
    "df3.loc[df3['state'] == 'Arizona', 'region'] = 'Region 4'"
   ]
  },
  {
   "cell_type": "code",
   "execution_count": 53,
   "id": "929c2501",
   "metadata": {
    "hidden": true
   },
   "outputs": [],
   "source": [
    "df3.loc[df3['state'] == 'Montana', 'region'] = 'Region 4'"
   ]
  },
  {
   "cell_type": "code",
   "execution_count": 54,
   "id": "1479a110",
   "metadata": {
    "hidden": true
   },
   "outputs": [],
   "source": [
    "df3.loc[df3['state'] == 'New Mexico', 'region'] = 'Region 4'"
   ]
  },
  {
   "cell_type": "code",
   "execution_count": 55,
   "id": "460672e5",
   "metadata": {
    "hidden": true
   },
   "outputs": [],
   "source": [
    "df3.loc[df3['state'] == 'Nevada', 'region'] = 'Region 4'"
   ]
  },
  {
   "cell_type": "code",
   "execution_count": 56,
   "id": "4150d209",
   "metadata": {
    "hidden": true
   },
   "outputs": [],
   "source": [
    "df3.loc[df3['state'] == 'Colorado', 'region'] = 'Region 4'"
   ]
  },
  {
   "cell_type": "code",
   "execution_count": 57,
   "id": "4f88042f",
   "metadata": {
    "hidden": true
   },
   "outputs": [],
   "source": [
    "df3.loc[df3['state'] == 'Alaska', 'region'] = 'Region 4'"
   ]
  },
  {
   "cell_type": "code",
   "execution_count": 58,
   "id": "a0b7715d",
   "metadata": {
    "hidden": true
   },
   "outputs": [],
   "source": [
    "df3.loc[df3['state'] == 'Washington', 'region'] = 'Region 4'"
   ]
  },
  {
   "cell_type": "code",
   "execution_count": 59,
   "id": "59f740a9",
   "metadata": {
    "hidden": true
   },
   "outputs": [],
   "source": [
    "df3.loc[df3['state'] == 'Oregon', 'region'] = 'Region 4'"
   ]
  },
  {
   "cell_type": "code",
   "execution_count": 60,
   "id": "99306546",
   "metadata": {
    "hidden": true
   },
   "outputs": [],
   "source": [
    "df3.loc[df3['state'] == 'Hawaii', 'region'] = 'Region 4'"
   ]
  },
  {
   "cell_type": "code",
   "execution_count": 61,
   "id": "b52ca074",
   "metadata": {
    "hidden": true
   },
   "outputs": [],
   "source": [
    "df3.loc[df3['state'] == 'Wyoming', 'region'] = 'Region 4'"
   ]
  },
  {
   "cell_type": "code",
   "execution_count": 62,
   "id": "75d55c1b",
   "metadata": {
    "hidden": true
   },
   "outputs": [
    {
     "data": {
      "text/plain": [
       "Region 3    953794\n",
       "Region 4    732599\n",
       "Region 2    672934\n",
       "Region 1    507634\n",
       "Name: region, dtype: int64"
      ]
     },
     "execution_count": 62,
     "metadata": {},
     "output_type": "execute_result"
    }
   ],
   "source": [
    "# check output\n",
    "df3['region'].value_counts(dropna = False)"
   ]
  },
  {
   "cell_type": "code",
   "execution_count": 63,
   "id": "30ac5a41",
   "metadata": {
    "hidden": true
   },
   "outputs": [],
   "source": [
    "# find highest spending region\n",
    "crosstab = pd.crosstab(df3['region'], df3['spender'], dropna = False)"
   ]
  },
  {
   "cell_type": "code",
   "execution_count": 64,
   "id": "fbe22ab5",
   "metadata": {
    "hidden": true
   },
   "outputs": [],
   "source": [
    "# copy to clipboard for excel analysis\n",
    "crosstab.to_clipboard()"
   ]
  },
  {
   "cell_type": "code",
   "execution_count": 65,
   "id": "ceafcc82",
   "metadata": {
    "hidden": true
   },
   "outputs": [
    {
     "data": {
      "text/html": [
       "<div>\n",
       "<style scoped>\n",
       "    .dataframe tbody tr th:only-of-type {\n",
       "        vertical-align: middle;\n",
       "    }\n",
       "\n",
       "    .dataframe tbody tr th {\n",
       "        vertical-align: top;\n",
       "    }\n",
       "\n",
       "    .dataframe thead th {\n",
       "        text-align: right;\n",
       "    }\n",
       "</style>\n",
       "<table border=\"1\" class=\"dataframe\">\n",
       "  <thead>\n",
       "    <tr style=\"text-align: right;\">\n",
       "      <th>spender</th>\n",
       "      <th>High Spender</th>\n",
       "      <th>Low Spender</th>\n",
       "    </tr>\n",
       "    <tr>\n",
       "      <th>region</th>\n",
       "      <th></th>\n",
       "      <th></th>\n",
       "    </tr>\n",
       "  </thead>\n",
       "  <tbody>\n",
       "    <tr>\n",
       "      <th>Region 1</th>\n",
       "      <td>9457</td>\n",
       "      <td>498177</td>\n",
       "    </tr>\n",
       "    <tr>\n",
       "      <th>Region 2</th>\n",
       "      <td>14069</td>\n",
       "      <td>658865</td>\n",
       "    </tr>\n",
       "    <tr>\n",
       "      <th>Region 3</th>\n",
       "      <td>18240</td>\n",
       "      <td>935554</td>\n",
       "    </tr>\n",
       "    <tr>\n",
       "      <th>Region 4</th>\n",
       "      <td>13903</td>\n",
       "      <td>718696</td>\n",
       "    </tr>\n",
       "  </tbody>\n",
       "</table>\n",
       "</div>"
      ],
      "text/plain": [
       "spender   High Spender  Low Spender\n",
       "region                             \n",
       "Region 1          9457       498177\n",
       "Region 2         14069       658865\n",
       "Region 3         18240       935554\n",
       "Region 4         13903       718696"
      ]
     },
     "execution_count": 65,
     "metadata": {},
     "output_type": "execute_result"
    }
   ],
   "source": [
    "crosstab.head()"
   ]
  },
  {
   "cell_type": "markdown",
   "id": "39bdd0cd",
   "metadata": {
    "hidden": true
   },
   "source": [
    "In terms of overall highest spenders, region two has the highest percentage of high spenders. Here's the breakdown of regions and percent of customers that are high spenders. They are all relatively close falling within 1.8 to 2 percent."
   ]
  },
  {
   "cell_type": "markdown",
   "id": "2a319d02",
   "metadata": {
    "heading_collapsed": true
   },
   "source": [
    "# 4. The Instacart CFO isn’t interested in customers who don’t generate much revenue for the app. Create an exclusion flag for low-activity customers (customers with less than 5 orders) and exclude them from the data. Make sure you export this sample."
   ]
  },
  {
   "cell_type": "code",
   "execution_count": 66,
   "id": "e8ebd84d",
   "metadata": {
    "hidden": true
   },
   "outputs": [],
   "source": [
    "# create exclusion flag\n",
    "\n",
    "def exclusion_flag(row):\n",
    "    \n",
    "    if row['order_number'] <5:\n",
    "        return 'No'\n",
    "    elif row['order_number'] >4:\n",
    "        return 'Yes'\n",
    "    else: return 'Not enough data'"
   ]
  },
  {
   "cell_type": "code",
   "execution_count": 67,
   "id": "24e61efc",
   "metadata": {
    "hidden": true
   },
   "outputs": [],
   "source": [
    "# apply filter\n",
    "\n",
    "df3['exclusion'] = df3.apply(exclusion_flag, axis=1)"
   ]
  },
  {
   "cell_type": "code",
   "execution_count": 68,
   "id": "ce361e5b",
   "metadata": {
    "hidden": true
   },
   "outputs": [
    {
     "data": {
      "text/plain": [
       "Yes    2308148\n",
       "No      558813\n",
       "Name: exclusion, dtype: int64"
      ]
     },
     "execution_count": 68,
     "metadata": {},
     "output_type": "execute_result"
    }
   ],
   "source": [
    "# check filter\n",
    "df3['exclusion'].value_counts(dropna = False)"
   ]
  },
  {
   "cell_type": "code",
   "execution_count": 69,
   "id": "a1cba81e",
   "metadata": {
    "hidden": true
   },
   "outputs": [],
   "source": [
    "# create data frame of subset with only exclusions = Yes\n",
    "df4 =  df3[df3['exclusion']=='Yes']"
   ]
  },
  {
   "cell_type": "code",
   "execution_count": null,
   "id": "59f61e0f",
   "metadata": {
    "hidden": true
   },
   "outputs": [],
   "source": [
    "# export data set\n",
    "df4.to_pickle(os.path.join('02 Data', 'Prepared Data', 'data_combined_large_4_10_1.pkl'))"
   ]
  },
  {
   "cell_type": "code",
   "execution_count": 70,
   "id": "26cf320b",
   "metadata": {
    "hidden": true
   },
   "outputs": [
    {
     "data": {
      "text/plain": [
       "(2308148, 27)"
      ]
     },
     "execution_count": 70,
     "metadata": {},
     "output_type": "execute_result"
    }
   ],
   "source": [
    "# check output\n",
    "df4.shape"
   ]
  },
  {
   "cell_type": "code",
   "execution_count": 71,
   "id": "c2a00c7e",
   "metadata": {
    "hidden": true
   },
   "outputs": [
    {
     "name": "stderr",
     "output_type": "stream",
     "text": [
      "C:\\Users\\eserc\\AppData\\Local\\Temp\\ipykernel_2852\\819257071.py:2: SettingWithCopyWarning: \n",
      "A value is trying to be set on a copy of a slice from a DataFrame\n",
      "\n",
      "See the caveats in the documentation: https://pandas.pydata.org/pandas-docs/stable/user_guide/indexing.html#returning-a-view-versus-a-copy\n",
      "  df4.drop('exclusion',axis = 1, inplace = True)\n"
     ]
    }
   ],
   "source": [
    "# drop exclusion column\n",
    "df4.drop('exclusion',axis = 1, inplace = True)"
   ]
  },
  {
   "cell_type": "code",
   "execution_count": 72,
   "id": "7b97d1e0",
   "metadata": {
    "hidden": true
   },
   "outputs": [
    {
     "data": {
      "text/plain": [
       "Index(['order_id', 'user_id', 'order_number', 'order_day_of_week',\n",
       "       'order_hour_of_day', 'days_since_prior_order', 'product_id',\n",
       "       'reordered', 'product_name', 'department_id', 'prices',\n",
       "       'price_range_loc', 'busiest_days', 'busiest_period_of_day', 'max_order',\n",
       "       'loyalty_flag', 'average_order', 'spender', 'gender', 'state', 'age',\n",
       "       'date_joined', 'n_dependants', 'fam_status', 'income', 'region'],\n",
       "      dtype='object')"
      ]
     },
     "execution_count": 72,
     "metadata": {},
     "output_type": "execute_result"
    }
   ],
   "source": [
    "# check to see if column was dropped\n",
    "df4.columns"
   ]
  },
  {
   "cell_type": "code",
   "execution_count": 73,
   "id": "f19a0a1b",
   "metadata": {
    "hidden": true
   },
   "outputs": [
    {
     "data": {
      "text/plain": [
       "(28662555, 27)"
      ]
     },
     "execution_count": 73,
     "metadata": {},
     "output_type": "execute_result"
    }
   ],
   "source": [
    "df.shape"
   ]
  },
  {
   "cell_type": "markdown",
   "id": "5970becc",
   "metadata": {
    "heading_collapsed": true
   },
   "source": [
    "# 5. Create a profiling variable based on age, income, certain goods in the “department_id” column, and number of dependents."
   ]
  },
  {
   "cell_type": "markdown",
   "id": "d7bb1867",
   "metadata": {
    "heading_collapsed": true
   },
   "source": [
    "# Age"
   ]
  },
  {
   "cell_type": "code",
   "execution_count": 314,
   "id": "2809ba8b",
   "metadata": {
    "hidden": true
   },
   "outputs": [
    {
     "data": {
      "text/plain": [
       "count    2.308148e+06\n",
       "mean     4.948535e+01\n",
       "std      1.848344e+01\n",
       "min      1.800000e+01\n",
       "25%      3.400000e+01\n",
       "50%      4.900000e+01\n",
       "75%      6.600000e+01\n",
       "max      8.100000e+01\n",
       "Name: age, dtype: float64"
      ]
     },
     "execution_count": 314,
     "metadata": {},
     "output_type": "execute_result"
    }
   ],
   "source": [
    "# get descriptive statistics on ages in our customer base\n",
    "df4['age'].describe()"
   ]
  },
  {
   "cell_type": "markdown",
   "id": "a39bf72a",
   "metadata": {
    "hidden": true
   },
   "source": [
    "The average age is 49 years old and ranges from 18-81 years old. "
   ]
  },
  {
   "cell_type": "code",
   "execution_count": 315,
   "id": "12433016",
   "metadata": {
    "hidden": true
   },
   "outputs": [
    {
     "data": {
      "image/png": "[encoded data removed]",
      "text/plain": [
       "<Figure size 432x288 with 1 Axes>"
      ]
     },
     "metadata": {
      "needs_background": "light"
     },
     "output_type": "display_data"
    }
   ],
   "source": [
    "# Get demographics on age \n",
    "age_hist = df4['age'].plot.hist(bins = 7)"
   ]
  },
  {
   "cell_type": "markdown",
   "id": "051928f3",
   "metadata": {
    "hidden": true
   },
   "source": [
    "The 70+ year old crowd has purchased the most items"
   ]
  },
  {
   "cell_type": "code",
   "execution_count": 316,
   "id": "d2aca621",
   "metadata": {
    "hidden": true
   },
   "outputs": [],
   "source": [
    "# save histogram\n",
    "age_hist.figure.savefig(os.path.join(path, '04 Analysis', 'Visualizations', 'hist_age.png'))"
   ]
  },
  {
   "cell_type": "code",
   "execution_count": 317,
   "id": "c5c0e40c",
   "metadata": {
    "hidden": true
   },
   "outputs": [],
   "source": [
    "# create ranges for age brackets\n",
    "def age_bracket(row):\n",
    "\n",
    "  if row['age'] <=30:\n",
    "    return '18-30'\n",
    "  elif (row['age'] >= 31) and (row['age'] <= 40):\n",
    "    return '31-40'\n",
    "  elif (row['age'] >= 41) and (row['age'] <= 50):\n",
    "    return '41-50'\n",
    "  elif (row['age'] >= 51) and (row['age'] <= 60):\n",
    "    return '51-60'\n",
    "  elif (row['age'] >= 61) and (row['age'] <= 70):\n",
    "    return '61-70'\n",
    "  elif row['age'] >= 71:\n",
    "    return '71-81'\n",
    "  else: return 'Not enough data'"
   ]
  },
  {
   "cell_type": "code",
   "execution_count": 318,
   "id": "cb2cbb1c",
   "metadata": {
    "hidden": true
   },
   "outputs": [
    {
     "name": "stderr",
     "output_type": "stream",
     "text": [
      "C:\\Users\\eserc\\AppData\\Local\\Temp\\ipykernel_8532\\2203663988.py:3: SettingWithCopyWarning: \n",
      "A value is trying to be set on a copy of a slice from a DataFrame.\n",
      "Try using .loc[row_indexer,col_indexer] = value instead\n",
      "\n",
      "See the caveats in the documentation: https://pandas.pydata.org/pandas-docs/stable/user_guide/indexing.html#returning-a-view-versus-a-copy\n",
      "  df4['age_range'] = df4.apply(age_bracket, axis=1)\n"
     ]
    }
   ],
   "source": [
    "# apply filter\n",
    "\n",
    "df4['age_range'] = df4.apply(age_bracket, axis=1)"
   ]
  },
  {
   "cell_type": "code",
   "execution_count": 319,
   "id": "ff250615",
   "metadata": {
    "hidden": true
   },
   "outputs": [
    {
     "data": {
      "image/png": "[encoded data removed]",
      "text/plain": [
       "<Figure size 432x288 with 1 Axes>"
      ]
     },
     "metadata": {
      "needs_background": "light"
     },
     "output_type": "display_data"
    }
   ],
   "source": [
    "# create bar for age range brackets\n",
    "bar_age = df4['age_range'].value_counts().sort_index().plot.bar(color = ['maroon'])"
   ]
  },
  {
   "cell_type": "code",
   "execution_count": 320,
   "id": "1a02accc",
   "metadata": {
    "hidden": true
   },
   "outputs": [],
   "source": [
    "crosstab_age = pd.crosstab(df4['age_range'], df4['spender'], dropna = False)"
   ]
  },
  {
   "cell_type": "code",
   "execution_count": 321,
   "id": "b1a2e8fb",
   "metadata": {
    "hidden": true
   },
   "outputs": [
    {
     "data": {
      "text/html": [
       "<div>\n",
       "<style scoped>\n",
       "    .dataframe tbody tr th:only-of-type {\n",
       "        vertical-align: middle;\n",
       "    }\n",
       "\n",
       "    .dataframe tbody tr th {\n",
       "        vertical-align: top;\n",
       "    }\n",
       "\n",
       "    .dataframe thead th {\n",
       "        text-align: right;\n",
       "    }\n",
       "</style>\n",
       "<table border=\"1\" class=\"dataframe\">\n",
       "  <thead>\n",
       "    <tr style=\"text-align: right;\">\n",
       "      <th>spender</th>\n",
       "      <th>High Spender</th>\n",
       "      <th>Low Spender</th>\n",
       "    </tr>\n",
       "    <tr>\n",
       "      <th>age_range</th>\n",
       "      <th></th>\n",
       "      <th></th>\n",
       "    </tr>\n",
       "  </thead>\n",
       "  <tbody>\n",
       "    <tr>\n",
       "      <th>18-30</th>\n",
       "      <td>8438</td>\n",
       "      <td>460454</td>\n",
       "    </tr>\n",
       "    <tr>\n",
       "      <th>31-40</th>\n",
       "      <td>6863</td>\n",
       "      <td>355146</td>\n",
       "    </tr>\n",
       "    <tr>\n",
       "      <th>41-50</th>\n",
       "      <td>8099</td>\n",
       "      <td>353588</td>\n",
       "    </tr>\n",
       "    <tr>\n",
       "      <th>51-60</th>\n",
       "      <td>6826</td>\n",
       "      <td>353706</td>\n",
       "    </tr>\n",
       "    <tr>\n",
       "      <th>61-70</th>\n",
       "      <td>7410</td>\n",
       "      <td>349656</td>\n",
       "    </tr>\n",
       "    <tr>\n",
       "      <th>71-81</th>\n",
       "      <td>7436</td>\n",
       "      <td>390526</td>\n",
       "    </tr>\n",
       "  </tbody>\n",
       "</table>\n",
       "</div>"
      ],
      "text/plain": [
       "spender    High Spender  Low Spender\n",
       "age_range                           \n",
       "18-30              8438       460454\n",
       "31-40              6863       355146\n",
       "41-50              8099       353588\n",
       "51-60              6826       353706\n",
       "61-70              7410       349656\n",
       "71-81              7436       390526"
      ]
     },
     "execution_count": 321,
     "metadata": {},
     "output_type": "execute_result"
    }
   ],
   "source": [
    "crosstab_age.head(7)"
   ]
  },
  {
   "cell_type": "markdown",
   "id": "a75d12b0",
   "metadata": {
    "hidden": true
   },
   "source": [
    "In terms of high spenders, the ratios all range between 1.8-2.2%. The highest spending age bracket is 41-50."
   ]
  },
  {
   "cell_type": "code",
   "execution_count": 322,
   "id": "298620ba",
   "metadata": {
    "hidden": true
   },
   "outputs": [],
   "source": [
    "# take crosstab to clipboard for excel analysis\n",
    "crosstab_age.to_clipboard()"
   ]
  },
  {
   "cell_type": "code",
   "execution_count": 323,
   "id": "e3b3f8ea",
   "metadata": {
    "hidden": true
   },
   "outputs": [
    {
     "data": {
      "text/html": [
       "<div>\n",
       "<style scoped>\n",
       "    .dataframe tbody tr th:only-of-type {\n",
       "        vertical-align: middle;\n",
       "    }\n",
       "\n",
       "    .dataframe tbody tr th {\n",
       "        vertical-align: top;\n",
       "    }\n",
       "\n",
       "    .dataframe thead tr th {\n",
       "        text-align: left;\n",
       "    }\n",
       "\n",
       "    .dataframe thead tr:last-of-type th {\n",
       "        text-align: right;\n",
       "    }\n",
       "</style>\n",
       "<table border=\"1\" class=\"dataframe\">\n",
       "  <thead>\n",
       "    <tr>\n",
       "      <th></th>\n",
       "      <th>income</th>\n",
       "    </tr>\n",
       "    <tr>\n",
       "      <th></th>\n",
       "      <th>mean</th>\n",
       "    </tr>\n",
       "    <tr>\n",
       "      <th>age_range</th>\n",
       "      <th></th>\n",
       "    </tr>\n",
       "  </thead>\n",
       "  <tbody>\n",
       "    <tr>\n",
       "      <th>18-30</th>\n",
       "      <td>70766.735713</td>\n",
       "    </tr>\n",
       "    <tr>\n",
       "      <th>31-40</th>\n",
       "      <td>70708.129008</td>\n",
       "    </tr>\n",
       "    <tr>\n",
       "      <th>41-50</th>\n",
       "      <td>117157.140577</td>\n",
       "    </tr>\n",
       "    <tr>\n",
       "      <th>51-60</th>\n",
       "      <td>115542.782566</td>\n",
       "    </tr>\n",
       "    <tr>\n",
       "      <th>61-70</th>\n",
       "      <td>116193.827780</td>\n",
       "    </tr>\n",
       "    <tr>\n",
       "      <th>71-81</th>\n",
       "      <td>116342.992386</td>\n",
       "    </tr>\n",
       "  </tbody>\n",
       "</table>\n",
       "</div>"
      ],
      "text/plain": [
       "                  income\n",
       "                    mean\n",
       "age_range               \n",
       "18-30       70766.735713\n",
       "31-40       70708.129008\n",
       "41-50      117157.140577\n",
       "51-60      115542.782566\n",
       "61-70      116193.827780\n",
       "71-81      116342.992386"
      ]
     },
     "execution_count": 323,
     "metadata": {},
     "output_type": "execute_result"
    }
   ],
   "source": [
    "df4.groupby('age_range').agg({'income': ['mean']})"
   ]
  },
  {
   "cell_type": "markdown",
   "id": "b4247ac3",
   "metadata": {
    "hidden": true
   },
   "source": [
    "The highest income bracket is also the highest spending group (41-50 year olds). It is interesting to note though that even though 18-40 year olds make significantly less money, they are still very close when it comes to high spender ratios."
   ]
  },
  {
   "cell_type": "code",
   "execution_count": 324,
   "id": "47220d27",
   "metadata": {
    "hidden": true
   },
   "outputs": [
    {
     "data": {
      "text/html": [
       "<div>\n",
       "<style scoped>\n",
       "    .dataframe tbody tr th:only-of-type {\n",
       "        vertical-align: middle;\n",
       "    }\n",
       "\n",
       "    .dataframe tbody tr th {\n",
       "        vertical-align: top;\n",
       "    }\n",
       "\n",
       "    .dataframe thead tr th {\n",
       "        text-align: left;\n",
       "    }\n",
       "\n",
       "    .dataframe thead tr:last-of-type th {\n",
       "        text-align: right;\n",
       "    }\n",
       "</style>\n",
       "<table border=\"1\" class=\"dataframe\">\n",
       "  <thead>\n",
       "    <tr>\n",
       "      <th></th>\n",
       "      <th>order_hour_of_day</th>\n",
       "    </tr>\n",
       "    <tr>\n",
       "      <th></th>\n",
       "      <th>mean</th>\n",
       "    </tr>\n",
       "    <tr>\n",
       "      <th>age_range</th>\n",
       "      <th></th>\n",
       "    </tr>\n",
       "  </thead>\n",
       "  <tbody>\n",
       "    <tr>\n",
       "      <th>18-30</th>\n",
       "      <td>13.336167</td>\n",
       "    </tr>\n",
       "    <tr>\n",
       "      <th>31-40</th>\n",
       "      <td>13.349790</td>\n",
       "    </tr>\n",
       "    <tr>\n",
       "      <th>41-50</th>\n",
       "      <td>13.408007</td>\n",
       "    </tr>\n",
       "    <tr>\n",
       "      <th>51-60</th>\n",
       "      <td>13.367130</td>\n",
       "    </tr>\n",
       "    <tr>\n",
       "      <th>61-70</th>\n",
       "      <td>13.369932</td>\n",
       "    </tr>\n",
       "    <tr>\n",
       "      <th>71-81</th>\n",
       "      <td>13.378395</td>\n",
       "    </tr>\n",
       "  </tbody>\n",
       "</table>\n",
       "</div>"
      ],
      "text/plain": [
       "          order_hour_of_day\n",
       "                       mean\n",
       "age_range                  \n",
       "18-30             13.336167\n",
       "31-40             13.349790\n",
       "41-50             13.408007\n",
       "51-60             13.367130\n",
       "61-70             13.369932\n",
       "71-81             13.378395"
      ]
     },
     "execution_count": 324,
     "metadata": {},
     "output_type": "execute_result"
    }
   ],
   "source": [
    "df4.groupby('age_range').agg({'order_hour_of_day': ['mean']})"
   ]
  },
  {
   "cell_type": "markdown",
   "id": "c7883523",
   "metadata": {
    "hidden": true
   },
   "source": [
    "The average hour of the day is very similar among all age brackets, all falling within the same .1 hours."
   ]
  },
  {
   "cell_type": "code",
   "execution_count": 325,
   "id": "33de9cf9",
   "metadata": {
    "hidden": true
   },
   "outputs": [
    {
     "data": {
      "text/html": [
       "<div>\n",
       "<style scoped>\n",
       "    .dataframe tbody tr th:only-of-type {\n",
       "        vertical-align: middle;\n",
       "    }\n",
       "\n",
       "    .dataframe tbody tr th {\n",
       "        vertical-align: top;\n",
       "    }\n",
       "\n",
       "    .dataframe thead tr th {\n",
       "        text-align: left;\n",
       "    }\n",
       "\n",
       "    .dataframe thead tr:last-of-type th {\n",
       "        text-align: right;\n",
       "    }\n",
       "</style>\n",
       "<table border=\"1\" class=\"dataframe\">\n",
       "  <thead>\n",
       "    <tr>\n",
       "      <th></th>\n",
       "      <th>prices</th>\n",
       "    </tr>\n",
       "    <tr>\n",
       "      <th></th>\n",
       "      <th>mean</th>\n",
       "    </tr>\n",
       "    <tr>\n",
       "      <th>age_range</th>\n",
       "      <th></th>\n",
       "    </tr>\n",
       "  </thead>\n",
       "  <tbody>\n",
       "    <tr>\n",
       "      <th>18-30</th>\n",
       "      <td>7.781250</td>\n",
       "    </tr>\n",
       "    <tr>\n",
       "      <th>31-40</th>\n",
       "      <td>7.792969</td>\n",
       "    </tr>\n",
       "    <tr>\n",
       "      <th>41-50</th>\n",
       "      <td>7.800781</td>\n",
       "    </tr>\n",
       "    <tr>\n",
       "      <th>51-60</th>\n",
       "      <td>7.769531</td>\n",
       "    </tr>\n",
       "    <tr>\n",
       "      <th>61-70</th>\n",
       "      <td>7.800781</td>\n",
       "    </tr>\n",
       "    <tr>\n",
       "      <th>71-81</th>\n",
       "      <td>7.804688</td>\n",
       "    </tr>\n",
       "  </tbody>\n",
       "</table>\n",
       "</div>"
      ],
      "text/plain": [
       "             prices\n",
       "               mean\n",
       "age_range          \n",
       "18-30      7.781250\n",
       "31-40      7.792969\n",
       "41-50      7.800781\n",
       "51-60      7.769531\n",
       "61-70      7.800781\n",
       "71-81      7.804688"
      ]
     },
     "execution_count": 325,
     "metadata": {},
     "output_type": "execute_result"
    }
   ],
   "source": [
    "df4.groupby('age_range').agg({'prices': ['mean']})"
   ]
  },
  {
   "cell_type": "markdown",
   "id": "b25f0a06",
   "metadata": {
    "hidden": true
   },
   "source": [
    "The average price per item is very similar among all age brackets, all falling within a 4 cent range."
   ]
  },
  {
   "cell_type": "code",
   "execution_count": 326,
   "id": "d44b2d0d",
   "metadata": {
    "hidden": true
   },
   "outputs": [
    {
     "data": {
      "text/html": [
       "<div>\n",
       "<style scoped>\n",
       "    .dataframe tbody tr th:only-of-type {\n",
       "        vertical-align: middle;\n",
       "    }\n",
       "\n",
       "    .dataframe tbody tr th {\n",
       "        vertical-align: top;\n",
       "    }\n",
       "\n",
       "    .dataframe thead tr th {\n",
       "        text-align: left;\n",
       "    }\n",
       "\n",
       "    .dataframe thead tr:last-of-type th {\n",
       "        text-align: right;\n",
       "    }\n",
       "</style>\n",
       "<table border=\"1\" class=\"dataframe\">\n",
       "  <thead>\n",
       "    <tr>\n",
       "      <th></th>\n",
       "      <th>max_order</th>\n",
       "    </tr>\n",
       "    <tr>\n",
       "      <th></th>\n",
       "      <th>mean</th>\n",
       "    </tr>\n",
       "    <tr>\n",
       "      <th>age_range</th>\n",
       "      <th></th>\n",
       "    </tr>\n",
       "  </thead>\n",
       "  <tbody>\n",
       "    <tr>\n",
       "      <th>18-30</th>\n",
       "      <td>39.12500</td>\n",
       "    </tr>\n",
       "    <tr>\n",
       "      <th>31-40</th>\n",
       "      <td>39.90625</td>\n",
       "    </tr>\n",
       "    <tr>\n",
       "      <th>41-50</th>\n",
       "      <td>39.34375</td>\n",
       "    </tr>\n",
       "    <tr>\n",
       "      <th>51-60</th>\n",
       "      <td>39.43750</td>\n",
       "    </tr>\n",
       "    <tr>\n",
       "      <th>61-70</th>\n",
       "      <td>39.46875</td>\n",
       "    </tr>\n",
       "    <tr>\n",
       "      <th>71-81</th>\n",
       "      <td>39.40625</td>\n",
       "    </tr>\n",
       "  </tbody>\n",
       "</table>\n",
       "</div>"
      ],
      "text/plain": [
       "          max_order\n",
       "               mean\n",
       "age_range          \n",
       "18-30      39.12500\n",
       "31-40      39.90625\n",
       "41-50      39.34375\n",
       "51-60      39.43750\n",
       "61-70      39.46875\n",
       "71-81      39.40625"
      ]
     },
     "execution_count": 326,
     "metadata": {},
     "output_type": "execute_result"
    }
   ],
   "source": [
    "df4.groupby('age_range').agg({'max_order': ['mean']})"
   ]
  },
  {
   "cell_type": "markdown",
   "id": "bc6ff43b",
   "metadata": {
    "hidden": true
   },
   "source": [
    "The average max order is very similar across age groups."
   ]
  },
  {
   "cell_type": "code",
   "execution_count": 327,
   "id": "8d58200f",
   "metadata": {
    "hidden": true
   },
   "outputs": [],
   "source": [
    "crosstab_age_reg = pd.crosstab(df4['age_range'], df4['region'], dropna = False)"
   ]
  },
  {
   "cell_type": "code",
   "execution_count": 328,
   "id": "e7001945",
   "metadata": {
    "hidden": true
   },
   "outputs": [
    {
     "data": {
      "text/html": [
       "<div>\n",
       "<style scoped>\n",
       "    .dataframe tbody tr th:only-of-type {\n",
       "        vertical-align: middle;\n",
       "    }\n",
       "\n",
       "    .dataframe tbody tr th {\n",
       "        vertical-align: top;\n",
       "    }\n",
       "\n",
       "    .dataframe thead th {\n",
       "        text-align: right;\n",
       "    }\n",
       "</style>\n",
       "<table border=\"1\" class=\"dataframe\">\n",
       "  <thead>\n",
       "    <tr style=\"text-align: right;\">\n",
       "      <th>region</th>\n",
       "      <th>Region 1</th>\n",
       "      <th>Region 2</th>\n",
       "      <th>Region 3</th>\n",
       "      <th>Region 4</th>\n",
       "    </tr>\n",
       "    <tr>\n",
       "      <th>age_range</th>\n",
       "      <th></th>\n",
       "      <th></th>\n",
       "      <th></th>\n",
       "      <th></th>\n",
       "    </tr>\n",
       "  </thead>\n",
       "  <tbody>\n",
       "    <tr>\n",
       "      <th>18-30</th>\n",
       "      <td>83765</td>\n",
       "      <td>108395</td>\n",
       "      <td>157491</td>\n",
       "      <td>119241</td>\n",
       "    </tr>\n",
       "    <tr>\n",
       "      <th>31-40</th>\n",
       "      <td>62529</td>\n",
       "      <td>83858</td>\n",
       "      <td>124014</td>\n",
       "      <td>91608</td>\n",
       "    </tr>\n",
       "    <tr>\n",
       "      <th>41-50</th>\n",
       "      <td>62503</td>\n",
       "      <td>88054</td>\n",
       "      <td>118573</td>\n",
       "      <td>92557</td>\n",
       "    </tr>\n",
       "    <tr>\n",
       "      <th>51-60</th>\n",
       "      <td>64099</td>\n",
       "      <td>85345</td>\n",
       "      <td>116840</td>\n",
       "      <td>94248</td>\n",
       "    </tr>\n",
       "    <tr>\n",
       "      <th>61-70</th>\n",
       "      <td>64235</td>\n",
       "      <td>83693</td>\n",
       "      <td>118425</td>\n",
       "      <td>90713</td>\n",
       "    </tr>\n",
       "  </tbody>\n",
       "</table>\n",
       "</div>"
      ],
      "text/plain": [
       "region     Region 1  Region 2  Region 3  Region 4\n",
       "age_range                                        \n",
       "18-30         83765    108395    157491    119241\n",
       "31-40         62529     83858    124014     91608\n",
       "41-50         62503     88054    118573     92557\n",
       "51-60         64099     85345    116840     94248\n",
       "61-70         64235     83693    118425     90713"
      ]
     },
     "execution_count": 328,
     "metadata": {},
     "output_type": "execute_result"
    }
   ],
   "source": [
    "crosstab_age_reg.head()"
   ]
  },
  {
   "cell_type": "markdown",
   "id": "30e378a5",
   "metadata": {
    "hidden": true
   },
   "source": [
    "The regions seem to follow a pretty even spread as well. The most popular region in each group is region 3."
   ]
  },
  {
   "cell_type": "markdown",
   "id": "4ccd26b3",
   "metadata": {
    "heading_collapsed": true
   },
   "source": [
    "# income"
   ]
  },
  {
   "cell_type": "code",
   "execution_count": 329,
   "id": "947a5b68",
   "metadata": {
    "hidden": true
   },
   "outputs": [
    {
     "data": {
      "text/plain": [
       "count    2.308148e+06\n",
       "mean     9.990649e+04\n",
       "std      4.325826e+04\n",
       "min      2.590300e+04\n",
       "25%      6.754600e+04\n",
       "50%      9.682500e+04\n",
       "75%      1.282230e+05\n",
       "max      5.939010e+05\n",
       "Name: income, dtype: float64"
      ]
     },
     "execution_count": 329,
     "metadata": {},
     "output_type": "execute_result"
    }
   ],
   "source": [
    "# get descriptive statistics on income in our customer base\n",
    "df4['income'].describe()"
   ]
  },
  {
   "cell_type": "code",
   "execution_count": 330,
   "id": "7b2e5c17",
   "metadata": {
    "hidden": true
   },
   "outputs": [
    {
     "data": {
      "image/png": "[encoded data removed]",
      "text/plain": [
       "<Figure size 432x288 with 1 Axes>"
      ]
     },
     "metadata": {
      "needs_background": "light"
     },
     "output_type": "display_data"
    }
   ],
   "source": [
    "# Get spread of income \n",
    "income_hist = df4['income'].plot.hist(bins = 30)"
   ]
  },
  {
   "cell_type": "markdown",
   "id": "67ce4871",
   "metadata": {
    "hidden": true
   },
   "source": [
    "A small portion of our customers make over 200,000. The majority fall within 40,000-180,000 approximately."
   ]
  },
  {
   "cell_type": "code",
   "execution_count": 331,
   "id": "41ba74b5",
   "metadata": {
    "hidden": true
   },
   "outputs": [],
   "source": [
    "# save histogram\n",
    "income_hist.figure.savefig(os.path.join(path, '04 Analysis', 'Visualizations', 'hist_income.png'))"
   ]
  },
  {
   "cell_type": "code",
   "execution_count": 332,
   "id": "a6cfffce",
   "metadata": {
    "hidden": true
   },
   "outputs": [],
   "source": [
    "# create ranges for age brackets\n",
    "def income_bracket(row):\n",
    "\n",
    "  if (row['income'] >= 25903) and (row['income'] <= 67546):\n",
    "    return 'low_income'\n",
    "  elif (row['income'] >= 67547) and (row['income'] <= 96825):\n",
    "    return 'low_mid_income'\n",
    "  elif(row['income'] >= 96826) and (row['income'] <= 128223):\n",
    "    return 'high_mid_income'\n",
    "  elif (row['income'] >= 128224):\n",
    "    return 'high_income'\n",
    "  else: return 'Not enough data'"
   ]
  },
  {
   "cell_type": "code",
   "execution_count": 333,
   "id": "6b59a243",
   "metadata": {
    "hidden": true
   },
   "outputs": [
    {
     "name": "stderr",
     "output_type": "stream",
     "text": [
      "C:\\Users\\eserc\\AppData\\Local\\Temp\\ipykernel_8532\\3712931610.py:3: SettingWithCopyWarning: \n",
      "A value is trying to be set on a copy of a slice from a DataFrame.\n",
      "Try using .loc[row_indexer,col_indexer] = value instead\n",
      "\n",
      "See the caveats in the documentation: https://pandas.pydata.org/pandas-docs/stable/user_guide/indexing.html#returning-a-view-versus-a-copy\n",
      "  df4['income_bracket'] = df4.apply(income_bracket, axis=1)\n"
     ]
    }
   ],
   "source": [
    "# apply filter\n",
    "\n",
    "df4['income_bracket'] = df4.apply(income_bracket, axis=1)"
   ]
  },
  {
   "cell_type": "code",
   "execution_count": 334,
   "id": "6d91bffe",
   "metadata": {
    "hidden": true
   },
   "outputs": [
    {
     "data": {
      "text/plain": [
       "low_income         577099\n",
       "high_mid_income    577039\n",
       "high_income        577025\n",
       "low_mid_income     576985\n",
       "Name: income_bracket, dtype: int64"
      ]
     },
     "execution_count": 334,
     "metadata": {},
     "output_type": "execute_result"
    }
   ],
   "source": [
    "# check filter\n",
    "df4['income_bracket'].value_counts()"
   ]
  },
  {
   "cell_type": "code",
   "execution_count": 335,
   "id": "9411d497",
   "metadata": {
    "hidden": true
   },
   "outputs": [],
   "source": [
    "# check for high spenders \n",
    "crosstab_income = pd.crosstab(df4['income_bracket'], df4['spender'], dropna = False)"
   ]
  },
  {
   "cell_type": "code",
   "execution_count": 336,
   "id": "f9a26f3d",
   "metadata": {
    "hidden": true
   },
   "outputs": [
    {
     "data": {
      "text/html": [
       "<div>\n",
       "<style scoped>\n",
       "    .dataframe tbody tr th:only-of-type {\n",
       "        vertical-align: middle;\n",
       "    }\n",
       "\n",
       "    .dataframe tbody tr th {\n",
       "        vertical-align: top;\n",
       "    }\n",
       "\n",
       "    .dataframe thead th {\n",
       "        text-align: right;\n",
       "    }\n",
       "</style>\n",
       "<table border=\"1\" class=\"dataframe\">\n",
       "  <thead>\n",
       "    <tr style=\"text-align: right;\">\n",
       "      <th>spender</th>\n",
       "      <th>High Spender</th>\n",
       "      <th>Low Spender</th>\n",
       "    </tr>\n",
       "    <tr>\n",
       "      <th>income_bracket</th>\n",
       "      <th></th>\n",
       "      <th></th>\n",
       "    </tr>\n",
       "  </thead>\n",
       "  <tbody>\n",
       "    <tr>\n",
       "      <th>high_income</th>\n",
       "      <td>34427</td>\n",
       "      <td>542598</td>\n",
       "    </tr>\n",
       "    <tr>\n",
       "      <th>high_mid_income</th>\n",
       "      <td>5943</td>\n",
       "      <td>571096</td>\n",
       "    </tr>\n",
       "    <tr>\n",
       "      <th>low_income</th>\n",
       "      <td>1386</td>\n",
       "      <td>575713</td>\n",
       "    </tr>\n",
       "    <tr>\n",
       "      <th>low_mid_income</th>\n",
       "      <td>3316</td>\n",
       "      <td>573669</td>\n",
       "    </tr>\n",
       "  </tbody>\n",
       "</table>\n",
       "</div>"
      ],
      "text/plain": [
       "spender          High Spender  Low Spender\n",
       "income_bracket                            \n",
       "high_income             34427       542598\n",
       "high_mid_income          5943       571096\n",
       "low_income               1386       575713\n",
       "low_mid_income           3316       573669"
      ]
     },
     "execution_count": 336,
     "metadata": {},
     "output_type": "execute_result"
    }
   ],
   "source": [
    "crosstab_income.head()"
   ]
  },
  {
   "cell_type": "markdown",
   "id": "07275c79",
   "metadata": {
    "hidden": true
   },
   "source": [
    "Unsurprisingly, our high income bracket has a much higher ratio of high spenders. Followed by high_mid_income, low_mid_income and low_income."
   ]
  },
  {
   "cell_type": "code",
   "execution_count": 337,
   "id": "e1d1570f",
   "metadata": {
    "hidden": true
   },
   "outputs": [],
   "source": [
    "crosstab_income_region = pd.crosstab(df4['income_bracket'], df4['region'], dropna = False)"
   ]
  },
  {
   "cell_type": "code",
   "execution_count": 338,
   "id": "66282fa6",
   "metadata": {
    "hidden": true
   },
   "outputs": [
    {
     "data": {
      "text/html": [
       "<div>\n",
       "<style scoped>\n",
       "    .dataframe tbody tr th:only-of-type {\n",
       "        vertical-align: middle;\n",
       "    }\n",
       "\n",
       "    .dataframe tbody tr th {\n",
       "        vertical-align: top;\n",
       "    }\n",
       "\n",
       "    .dataframe thead th {\n",
       "        text-align: right;\n",
       "    }\n",
       "</style>\n",
       "<table border=\"1\" class=\"dataframe\">\n",
       "  <thead>\n",
       "    <tr style=\"text-align: right;\">\n",
       "      <th>region</th>\n",
       "      <th>Region 1</th>\n",
       "      <th>Region 2</th>\n",
       "      <th>Region 3</th>\n",
       "      <th>Region 4</th>\n",
       "    </tr>\n",
       "    <tr>\n",
       "      <th>income_bracket</th>\n",
       "      <th></th>\n",
       "      <th></th>\n",
       "      <th></th>\n",
       "      <th></th>\n",
       "    </tr>\n",
       "  </thead>\n",
       "  <tbody>\n",
       "    <tr>\n",
       "      <th>high_income</th>\n",
       "      <td>102619</td>\n",
       "      <td>137770</td>\n",
       "      <td>189088</td>\n",
       "      <td>147548</td>\n",
       "    </tr>\n",
       "    <tr>\n",
       "      <th>high_mid_income</th>\n",
       "      <td>102494</td>\n",
       "      <td>137900</td>\n",
       "      <td>188474</td>\n",
       "      <td>148171</td>\n",
       "    </tr>\n",
       "    <tr>\n",
       "      <th>low_income</th>\n",
       "      <td>102126</td>\n",
       "      <td>133512</td>\n",
       "      <td>193545</td>\n",
       "      <td>147916</td>\n",
       "    </tr>\n",
       "    <tr>\n",
       "      <th>low_mid_income</th>\n",
       "      <td>102302</td>\n",
       "      <td>131163</td>\n",
       "      <td>196895</td>\n",
       "      <td>146625</td>\n",
       "    </tr>\n",
       "  </tbody>\n",
       "</table>\n",
       "</div>"
      ],
      "text/plain": [
       "region           Region 1  Region 2  Region 3  Region 4\n",
       "income_bracket                                         \n",
       "high_income        102619    137770    189088    147548\n",
       "high_mid_income    102494    137900    188474    148171\n",
       "low_income         102126    133512    193545    147916\n",
       "low_mid_income     102302    131163    196895    146625"
      ]
     },
     "execution_count": 338,
     "metadata": {},
     "output_type": "execute_result"
    }
   ],
   "source": [
    "crosstab_income_region.head()"
   ]
  },
  {
   "cell_type": "markdown",
   "id": "a84da93c",
   "metadata": {
    "hidden": true
   },
   "source": [
    "The regions have a very similar income spread."
   ]
  },
  {
   "cell_type": "code",
   "execution_count": 339,
   "id": "095a6a39",
   "metadata": {
    "hidden": true
   },
   "outputs": [
    {
     "data": {
      "text/html": [
       "<div>\n",
       "<style scoped>\n",
       "    .dataframe tbody tr th:only-of-type {\n",
       "        vertical-align: middle;\n",
       "    }\n",
       "\n",
       "    .dataframe tbody tr th {\n",
       "        vertical-align: top;\n",
       "    }\n",
       "\n",
       "    .dataframe thead tr th {\n",
       "        text-align: left;\n",
       "    }\n",
       "\n",
       "    .dataframe thead tr:last-of-type th {\n",
       "        text-align: right;\n",
       "    }\n",
       "</style>\n",
       "<table border=\"1\" class=\"dataframe\">\n",
       "  <thead>\n",
       "    <tr>\n",
       "      <th></th>\n",
       "      <th>max_order</th>\n",
       "    </tr>\n",
       "    <tr>\n",
       "      <th></th>\n",
       "      <th>mean</th>\n",
       "    </tr>\n",
       "    <tr>\n",
       "      <th>age_range</th>\n",
       "      <th></th>\n",
       "    </tr>\n",
       "  </thead>\n",
       "  <tbody>\n",
       "    <tr>\n",
       "      <th>18-30</th>\n",
       "      <td>39.12500</td>\n",
       "    </tr>\n",
       "    <tr>\n",
       "      <th>31-40</th>\n",
       "      <td>39.90625</td>\n",
       "    </tr>\n",
       "    <tr>\n",
       "      <th>41-50</th>\n",
       "      <td>39.34375</td>\n",
       "    </tr>\n",
       "    <tr>\n",
       "      <th>51-60</th>\n",
       "      <td>39.43750</td>\n",
       "    </tr>\n",
       "    <tr>\n",
       "      <th>61-70</th>\n",
       "      <td>39.46875</td>\n",
       "    </tr>\n",
       "    <tr>\n",
       "      <th>71-81</th>\n",
       "      <td>39.40625</td>\n",
       "    </tr>\n",
       "  </tbody>\n",
       "</table>\n",
       "</div>"
      ],
      "text/plain": [
       "          max_order\n",
       "               mean\n",
       "age_range          \n",
       "18-30      39.12500\n",
       "31-40      39.90625\n",
       "41-50      39.34375\n",
       "51-60      39.43750\n",
       "61-70      39.46875\n",
       "71-81      39.40625"
      ]
     },
     "execution_count": 339,
     "metadata": {},
     "output_type": "execute_result"
    }
   ],
   "source": [
    "df4.groupby('age_range').agg({'max_order': ['mean']})"
   ]
  },
  {
   "cell_type": "markdown",
   "id": "a34a8e64",
   "metadata": {
    "hidden": true
   },
   "source": [
    "Among the different income brackets, max order does not change dramatically."
   ]
  },
  {
   "cell_type": "code",
   "execution_count": 340,
   "id": "48eae288",
   "metadata": {
    "hidden": true
   },
   "outputs": [
    {
     "data": {
      "text/html": [
       "<div>\n",
       "<style scoped>\n",
       "    .dataframe tbody tr th:only-of-type {\n",
       "        vertical-align: middle;\n",
       "    }\n",
       "\n",
       "    .dataframe tbody tr th {\n",
       "        vertical-align: top;\n",
       "    }\n",
       "\n",
       "    .dataframe thead tr th {\n",
       "        text-align: left;\n",
       "    }\n",
       "\n",
       "    .dataframe thead tr:last-of-type th {\n",
       "        text-align: right;\n",
       "    }\n",
       "</style>\n",
       "<table border=\"1\" class=\"dataframe\">\n",
       "  <thead>\n",
       "    <tr>\n",
       "      <th></th>\n",
       "      <th>prices</th>\n",
       "    </tr>\n",
       "    <tr>\n",
       "      <th></th>\n",
       "      <th>mean</th>\n",
       "    </tr>\n",
       "    <tr>\n",
       "      <th>income_bracket</th>\n",
       "      <th></th>\n",
       "    </tr>\n",
       "  </thead>\n",
       "  <tbody>\n",
       "    <tr>\n",
       "      <th>high_income</th>\n",
       "      <td>7.945312</td>\n",
       "    </tr>\n",
       "    <tr>\n",
       "      <th>high_mid_income</th>\n",
       "      <td>7.953125</td>\n",
       "    </tr>\n",
       "    <tr>\n",
       "      <th>low_income</th>\n",
       "      <td>7.320312</td>\n",
       "    </tr>\n",
       "    <tr>\n",
       "      <th>low_mid_income</th>\n",
       "      <td>7.945312</td>\n",
       "    </tr>\n",
       "  </tbody>\n",
       "</table>\n",
       "</div>"
      ],
      "text/plain": [
       "                   prices\n",
       "                     mean\n",
       "income_bracket           \n",
       "high_income      7.945312\n",
       "high_mid_income  7.953125\n",
       "low_income       7.320312\n",
       "low_mid_income   7.945312"
      ]
     },
     "execution_count": 340,
     "metadata": {},
     "output_type": "execute_result"
    }
   ],
   "source": [
    "df4.groupby('income_bracket').agg({'prices': ['mean']})"
   ]
  },
  {
   "cell_type": "markdown",
   "id": "d822dad0",
   "metadata": {
    "hidden": true
   },
   "source": [
    "We see slight changes in the average price of an item in the income brackets."
   ]
  },
  {
   "cell_type": "code",
   "execution_count": 341,
   "id": "1ca47782",
   "metadata": {
    "hidden": true
   },
   "outputs": [
    {
     "data": {
      "text/html": [
       "<div>\n",
       "<style scoped>\n",
       "    .dataframe tbody tr th:only-of-type {\n",
       "        vertical-align: middle;\n",
       "    }\n",
       "\n",
       "    .dataframe tbody tr th {\n",
       "        vertical-align: top;\n",
       "    }\n",
       "\n",
       "    .dataframe thead tr th {\n",
       "        text-align: left;\n",
       "    }\n",
       "\n",
       "    .dataframe thead tr:last-of-type th {\n",
       "        text-align: right;\n",
       "    }\n",
       "</style>\n",
       "<table border=\"1\" class=\"dataframe\">\n",
       "  <thead>\n",
       "    <tr>\n",
       "      <th></th>\n",
       "      <th>order_hour_of_day</th>\n",
       "    </tr>\n",
       "    <tr>\n",
       "      <th></th>\n",
       "      <th>mean</th>\n",
       "    </tr>\n",
       "    <tr>\n",
       "      <th>income_bracket</th>\n",
       "      <th></th>\n",
       "    </tr>\n",
       "  </thead>\n",
       "  <tbody>\n",
       "    <tr>\n",
       "      <th>high_income</th>\n",
       "      <td>13.414129</td>\n",
       "    </tr>\n",
       "    <tr>\n",
       "      <th>high_mid_income</th>\n",
       "      <td>13.405174</td>\n",
       "    </tr>\n",
       "    <tr>\n",
       "      <th>low_income</th>\n",
       "      <td>13.258488</td>\n",
       "    </tr>\n",
       "    <tr>\n",
       "      <th>low_mid_income</th>\n",
       "      <td>13.389830</td>\n",
       "    </tr>\n",
       "  </tbody>\n",
       "</table>\n",
       "</div>"
      ],
      "text/plain": [
       "                order_hour_of_day\n",
       "                             mean\n",
       "income_bracket                   \n",
       "high_income             13.414129\n",
       "high_mid_income         13.405174\n",
       "low_income              13.258488\n",
       "low_mid_income          13.389830"
      ]
     },
     "execution_count": 341,
     "metadata": {},
     "output_type": "execute_result"
    }
   ],
   "source": [
    "df4.groupby('income_bracket').agg({'order_hour_of_day': ['mean']})"
   ]
  },
  {
   "cell_type": "markdown",
   "id": "49d2830e",
   "metadata": {
    "hidden": true
   },
   "source": [
    "All of the income brackets order at similar times of day, with the low_income ordering the soonest."
   ]
  },
  {
   "cell_type": "markdown",
   "id": "e3a3c60b",
   "metadata": {
    "heading_collapsed": true
   },
   "source": [
    "# n_dependants"
   ]
  },
  {
   "cell_type": "code",
   "execution_count": 342,
   "id": "b6ba6c00",
   "metadata": {
    "hidden": true
   },
   "outputs": [
    {
     "data": {
      "image/png": "[encoded data removed]",
      "text/plain": [
       "<Figure size 432x288 with 1 Axes>"
      ]
     },
     "metadata": {
      "needs_background": "light"
     },
     "output_type": "display_data"
    }
   ],
   "source": [
    "# Get spread of income\n",
    "dependants_bar = df4['n_dependants'].value_counts().sort_index().plot.bar(color = ['maroon'])"
   ]
  },
  {
   "cell_type": "markdown",
   "id": "b34898e9",
   "metadata": {
    "hidden": true
   },
   "source": [
    "The n_dependants is very similar"
   ]
  },
  {
   "cell_type": "code",
   "execution_count": 343,
   "id": "d99397ea",
   "metadata": {
    "hidden": true
   },
   "outputs": [],
   "source": [
    "crosstab_fam_dependants = pd.crosstab(df4['n_dependants'], df4['fam_status'], dropna = False)"
   ]
  },
  {
   "cell_type": "code",
   "execution_count": 344,
   "id": "dfa747f2",
   "metadata": {
    "hidden": true
   },
   "outputs": [
    {
     "data": {
      "text/html": [
       "<div>\n",
       "<style scoped>\n",
       "    .dataframe tbody tr th:only-of-type {\n",
       "        vertical-align: middle;\n",
       "    }\n",
       "\n",
       "    .dataframe tbody tr th {\n",
       "        vertical-align: top;\n",
       "    }\n",
       "\n",
       "    .dataframe thead th {\n",
       "        text-align: right;\n",
       "    }\n",
       "</style>\n",
       "<table border=\"1\" class=\"dataframe\">\n",
       "  <thead>\n",
       "    <tr style=\"text-align: right;\">\n",
       "      <th>fam_status</th>\n",
       "      <th>divorced/widowed</th>\n",
       "      <th>living with parents and siblings</th>\n",
       "      <th>married</th>\n",
       "      <th>single</th>\n",
       "    </tr>\n",
       "    <tr>\n",
       "      <th>n_dependants</th>\n",
       "      <th></th>\n",
       "      <th></th>\n",
       "      <th></th>\n",
       "      <th></th>\n",
       "    </tr>\n",
       "  </thead>\n",
       "  <tbody>\n",
       "    <tr>\n",
       "      <th>0</th>\n",
       "      <td>198652</td>\n",
       "      <td>0</td>\n",
       "      <td>0</td>\n",
       "      <td>377914</td>\n",
       "    </tr>\n",
       "    <tr>\n",
       "      <th>1</th>\n",
       "      <td>0</td>\n",
       "      <td>38895</td>\n",
       "      <td>536229</td>\n",
       "      <td>0</td>\n",
       "    </tr>\n",
       "    <tr>\n",
       "      <th>2</th>\n",
       "      <td>0</td>\n",
       "      <td>35852</td>\n",
       "      <td>540859</td>\n",
       "      <td>0</td>\n",
       "    </tr>\n",
       "    <tr>\n",
       "      <th>3</th>\n",
       "      <td>0</td>\n",
       "      <td>36071</td>\n",
       "      <td>543676</td>\n",
       "      <td>0</td>\n",
       "    </tr>\n",
       "  </tbody>\n",
       "</table>\n",
       "</div>"
      ],
      "text/plain": [
       "fam_status    divorced/widowed  living with parents and siblings  married  \\\n",
       "n_dependants                                                                \n",
       "0                       198652                                 0        0   \n",
       "1                            0                             38895   536229   \n",
       "2                            0                             35852   540859   \n",
       "3                            0                             36071   543676   \n",
       "\n",
       "fam_status    single  \n",
       "n_dependants          \n",
       "0             377914  \n",
       "1                  0  \n",
       "2                  0  \n",
       "3                  0  "
      ]
     },
     "execution_count": 344,
     "metadata": {},
     "output_type": "execute_result"
    }
   ],
   "source": [
    "crosstab_fam_dependants.head()"
   ]
  },
  {
   "cell_type": "markdown",
   "id": "f1a25388",
   "metadata": {
    "hidden": true
   },
   "source": [
    "This is very odd. According to our data, divorced/widowed and single people all have zero dependants. While thise with 1,2, or 3 kids are all married or living with parents and siblings."
   ]
  },
  {
   "cell_type": "code",
   "execution_count": 345,
   "id": "1d4534cb",
   "metadata": {
    "hidden": true
   },
   "outputs": [],
   "source": [
    "crosstab_fam_dependants_full = pd.crosstab(df['n_dependants'], df['fam_status'], dropna = False)"
   ]
  },
  {
   "cell_type": "code",
   "execution_count": 346,
   "id": "235fa6bc",
   "metadata": {
    "hidden": true
   },
   "outputs": [
    {
     "data": {
      "text/html": [
       "<div>\n",
       "<style scoped>\n",
       "    .dataframe tbody tr th:only-of-type {\n",
       "        vertical-align: middle;\n",
       "    }\n",
       "\n",
       "    .dataframe tbody tr th {\n",
       "        vertical-align: top;\n",
       "    }\n",
       "\n",
       "    .dataframe thead th {\n",
       "        text-align: right;\n",
       "    }\n",
       "</style>\n",
       "<table border=\"1\" class=\"dataframe\">\n",
       "  <thead>\n",
       "    <tr style=\"text-align: right;\">\n",
       "      <th>fam_status</th>\n",
       "      <th>divorced/widowed</th>\n",
       "      <th>living with parents and siblings</th>\n",
       "      <th>married</th>\n",
       "      <th>single</th>\n",
       "    </tr>\n",
       "    <tr>\n",
       "      <th>n_dependants</th>\n",
       "      <th></th>\n",
       "      <th></th>\n",
       "      <th></th>\n",
       "      <th></th>\n",
       "    </tr>\n",
       "  </thead>\n",
       "  <tbody>\n",
       "    <tr>\n",
       "      <th>0</th>\n",
       "      <td>2461606</td>\n",
       "      <td>0</td>\n",
       "      <td>0</td>\n",
       "      <td>4697362</td>\n",
       "    </tr>\n",
       "    <tr>\n",
       "      <th>1</th>\n",
       "      <td>0</td>\n",
       "      <td>476933</td>\n",
       "      <td>6673785</td>\n",
       "      <td>0</td>\n",
       "    </tr>\n",
       "    <tr>\n",
       "      <th>2</th>\n",
       "      <td>0</td>\n",
       "      <td>448599</td>\n",
       "      <td>6716293</td>\n",
       "      <td>0</td>\n",
       "    </tr>\n",
       "    <tr>\n",
       "      <th>3</th>\n",
       "      <td>0</td>\n",
       "      <td>451593</td>\n",
       "      <td>6736384</td>\n",
       "      <td>0</td>\n",
       "    </tr>\n",
       "  </tbody>\n",
       "</table>\n",
       "</div>"
      ],
      "text/plain": [
       "fam_status    divorced/widowed  living with parents and siblings  married  \\\n",
       "n_dependants                                                                \n",
       "0                      2461606                                 0        0   \n",
       "1                            0                            476933  6673785   \n",
       "2                            0                            448599  6716293   \n",
       "3                            0                            451593  6736384   \n",
       "\n",
       "fam_status     single  \n",
       "n_dependants           \n",
       "0             4697362  \n",
       "1                   0  \n",
       "2                   0  \n",
       "3                   0  "
      ]
     },
     "execution_count": 346,
     "metadata": {},
     "output_type": "execute_result"
    }
   ],
   "source": [
    "crosstab_fam_dependants_full"
   ]
  },
  {
   "cell_type": "markdown",
   "id": "dce64477",
   "metadata": {
    "hidden": true
   },
   "source": [
    "Even on the full data set this is true. How interesting."
   ]
  },
  {
   "cell_type": "markdown",
   "id": "de143862",
   "metadata": {
    "heading_collapsed": true
   },
   "source": [
    "# Fam_Status and Crosstabs"
   ]
  },
  {
   "cell_type": "code",
   "execution_count": 347,
   "id": "2b278249",
   "metadata": {
    "hidden": true
   },
   "outputs": [],
   "source": [
    "df5 = df4[df4['fam_status'] == 'divorced/widowed']"
   ]
  },
  {
   "cell_type": "code",
   "execution_count": 348,
   "id": "61e30fc2",
   "metadata": {
    "hidden": true
   },
   "outputs": [],
   "source": [
    "crosstab_divorced_age = pd.crosstab(df5['fam_status'], df5['age_range'], dropna = False)"
   ]
  },
  {
   "cell_type": "code",
   "execution_count": 349,
   "id": "6a85bcfb",
   "metadata": {
    "hidden": true
   },
   "outputs": [
    {
     "data": {
      "text/html": [
       "<div>\n",
       "<style scoped>\n",
       "    .dataframe tbody tr th:only-of-type {\n",
       "        vertical-align: middle;\n",
       "    }\n",
       "\n",
       "    .dataframe tbody tr th {\n",
       "        vertical-align: top;\n",
       "    }\n",
       "\n",
       "    .dataframe thead th {\n",
       "        text-align: right;\n",
       "    }\n",
       "</style>\n",
       "<table border=\"1\" class=\"dataframe\">\n",
       "  <thead>\n",
       "    <tr style=\"text-align: right;\">\n",
       "      <th>age_range</th>\n",
       "      <th>51-60</th>\n",
       "      <th>61-70</th>\n",
       "      <th>71-81</th>\n",
       "    </tr>\n",
       "    <tr>\n",
       "      <th>fam_status</th>\n",
       "      <th></th>\n",
       "      <th></th>\n",
       "      <th></th>\n",
       "    </tr>\n",
       "  </thead>\n",
       "  <tbody>\n",
       "    <tr>\n",
       "      <th>divorced/widowed</th>\n",
       "      <td>8175</td>\n",
       "      <td>90668</td>\n",
       "      <td>99809</td>\n",
       "    </tr>\n",
       "  </tbody>\n",
       "</table>\n",
       "</div>"
      ],
      "text/plain": [
       "age_range         51-60  61-70  71-81\n",
       "fam_status                           \n",
       "divorced/widowed   8175  90668  99809"
      ]
     },
     "execution_count": 349,
     "metadata": {},
     "output_type": "execute_result"
    }
   ],
   "source": [
    "crosstab_divorced_age.head()"
   ]
  },
  {
   "cell_type": "code",
   "execution_count": 350,
   "id": "31683c55",
   "metadata": {
    "hidden": true
   },
   "outputs": [],
   "source": [
    "crosstab_age_fam_status = pd.crosstab(df4['fam_status'], df4['age_range'], dropna = False)"
   ]
  },
  {
   "cell_type": "code",
   "execution_count": 351,
   "id": "321d8935",
   "metadata": {
    "hidden": true
   },
   "outputs": [
    {
     "data": {
      "text/html": [
       "<div>\n",
       "<style scoped>\n",
       "    .dataframe tbody tr th:only-of-type {\n",
       "        vertical-align: middle;\n",
       "    }\n",
       "\n",
       "    .dataframe tbody tr th {\n",
       "        vertical-align: top;\n",
       "    }\n",
       "\n",
       "    .dataframe thead th {\n",
       "        text-align: right;\n",
       "    }\n",
       "</style>\n",
       "<table border=\"1\" class=\"dataframe\">\n",
       "  <thead>\n",
       "    <tr style=\"text-align: right;\">\n",
       "      <th>age_range</th>\n",
       "      <th>18-30</th>\n",
       "      <th>31-40</th>\n",
       "      <th>41-50</th>\n",
       "      <th>51-60</th>\n",
       "      <th>61-70</th>\n",
       "      <th>71-81</th>\n",
       "    </tr>\n",
       "    <tr>\n",
       "      <th>fam_status</th>\n",
       "      <th></th>\n",
       "      <th></th>\n",
       "      <th></th>\n",
       "      <th></th>\n",
       "      <th></th>\n",
       "      <th></th>\n",
       "    </tr>\n",
       "  </thead>\n",
       "  <tbody>\n",
       "    <tr>\n",
       "      <th>divorced/widowed</th>\n",
       "      <td>0</td>\n",
       "      <td>0</td>\n",
       "      <td>0</td>\n",
       "      <td>8175</td>\n",
       "      <td>90668</td>\n",
       "      <td>99809</td>\n",
       "    </tr>\n",
       "    <tr>\n",
       "      <th>living with parents and siblings</th>\n",
       "      <td>110818</td>\n",
       "      <td>0</td>\n",
       "      <td>0</td>\n",
       "      <td>0</td>\n",
       "      <td>0</td>\n",
       "      <td>0</td>\n",
       "    </tr>\n",
       "    <tr>\n",
       "      <th>married</th>\n",
       "      <td>242649</td>\n",
       "      <td>271656</td>\n",
       "      <td>273049</td>\n",
       "      <td>268859</td>\n",
       "      <td>266398</td>\n",
       "      <td>298153</td>\n",
       "    </tr>\n",
       "    <tr>\n",
       "      <th>single</th>\n",
       "      <td>115425</td>\n",
       "      <td>90353</td>\n",
       "      <td>88638</td>\n",
       "      <td>83498</td>\n",
       "      <td>0</td>\n",
       "      <td>0</td>\n",
       "    </tr>\n",
       "  </tbody>\n",
       "</table>\n",
       "</div>"
      ],
      "text/plain": [
       "age_range                          18-30   31-40   41-50   51-60   61-70  \\\n",
       "fam_status                                                                 \n",
       "divorced/widowed                       0       0       0    8175   90668   \n",
       "living with parents and siblings  110818       0       0       0       0   \n",
       "married                           242649  271656  273049  268859  266398   \n",
       "single                            115425   90353   88638   83498       0   \n",
       "\n",
       "age_range                          71-81  \n",
       "fam_status                                \n",
       "divorced/widowed                   99809  \n",
       "living with parents and siblings       0  \n",
       "married                           298153  \n",
       "single                                 0  "
      ]
     },
     "execution_count": 351,
     "metadata": {},
     "output_type": "execute_result"
    }
   ],
   "source": [
    "crosstab_age_fam_status.head()"
   ]
  },
  {
   "cell_type": "code",
   "execution_count": 352,
   "id": "cb600a61",
   "metadata": {
    "hidden": true
   },
   "outputs": [],
   "source": [
    "crosstab_age_parent = pd.crosstab(df4['n_dependants'], df4['age_range'], dropna = False)"
   ]
  },
  {
   "cell_type": "code",
   "execution_count": 353,
   "id": "3fb86007",
   "metadata": {
    "hidden": true
   },
   "outputs": [
    {
     "data": {
      "text/html": [
       "<div>\n",
       "<style scoped>\n",
       "    .dataframe tbody tr th:only-of-type {\n",
       "        vertical-align: middle;\n",
       "    }\n",
       "\n",
       "    .dataframe tbody tr th {\n",
       "        vertical-align: top;\n",
       "    }\n",
       "\n",
       "    .dataframe thead th {\n",
       "        text-align: right;\n",
       "    }\n",
       "</style>\n",
       "<table border=\"1\" class=\"dataframe\">\n",
       "  <thead>\n",
       "    <tr style=\"text-align: right;\">\n",
       "      <th>age_range</th>\n",
       "      <th>18-30</th>\n",
       "      <th>31-40</th>\n",
       "      <th>41-50</th>\n",
       "      <th>51-60</th>\n",
       "      <th>61-70</th>\n",
       "      <th>71-81</th>\n",
       "    </tr>\n",
       "    <tr>\n",
       "      <th>n_dependants</th>\n",
       "      <th></th>\n",
       "      <th></th>\n",
       "      <th></th>\n",
       "      <th></th>\n",
       "      <th></th>\n",
       "      <th></th>\n",
       "    </tr>\n",
       "  </thead>\n",
       "  <tbody>\n",
       "    <tr>\n",
       "      <th>0</th>\n",
       "      <td>115425</td>\n",
       "      <td>90353</td>\n",
       "      <td>88638</td>\n",
       "      <td>91673</td>\n",
       "      <td>90668</td>\n",
       "      <td>99809</td>\n",
       "    </tr>\n",
       "    <tr>\n",
       "      <th>1</th>\n",
       "      <td>118027</td>\n",
       "      <td>90176</td>\n",
       "      <td>92864</td>\n",
       "      <td>90546</td>\n",
       "      <td>85517</td>\n",
       "      <td>97994</td>\n",
       "    </tr>\n",
       "    <tr>\n",
       "      <th>2</th>\n",
       "      <td>116085</td>\n",
       "      <td>92157</td>\n",
       "      <td>89378</td>\n",
       "      <td>85889</td>\n",
       "      <td>91848</td>\n",
       "      <td>101354</td>\n",
       "    </tr>\n",
       "    <tr>\n",
       "      <th>3</th>\n",
       "      <td>119355</td>\n",
       "      <td>89323</td>\n",
       "      <td>90807</td>\n",
       "      <td>92424</td>\n",
       "      <td>89033</td>\n",
       "      <td>98805</td>\n",
       "    </tr>\n",
       "  </tbody>\n",
       "</table>\n",
       "</div>"
      ],
      "text/plain": [
       "age_range      18-30  31-40  41-50  51-60  61-70   71-81\n",
       "n_dependants                                            \n",
       "0             115425  90353  88638  91673  90668   99809\n",
       "1             118027  90176  92864  90546  85517   97994\n",
       "2             116085  92157  89378  85889  91848  101354\n",
       "3             119355  89323  90807  92424  89033   98805"
      ]
     },
     "execution_count": 353,
     "metadata": {},
     "output_type": "execute_result"
    }
   ],
   "source": [
    "crosstab_age_parent.head()"
   ]
  },
  {
   "cell_type": "markdown",
   "id": "3b40a505",
   "metadata": {
    "heading_collapsed": true
   },
   "source": [
    "# Create Profiles from Crosstab Data"
   ]
  },
  {
   "cell_type": "code",
   "execution_count": 354,
   "id": "259f0943",
   "metadata": {
    "hidden": true
   },
   "outputs": [],
   "source": [
    "# create profiles on key variables\n",
    "\n",
    "# create ranges for age brackets\n",
    "def age_fam_dependants(row):\n",
    "\n",
    "  if (row['fam_status'] == 'single') and (row['age_range'] == '18-30'):\n",
    "    return 'Young Single'\n",
    "  elif (row['fam_status'] == 'divorced/widowed') and (row['age'] >60):\n",
    "    return 'Older Divorced'\n",
    "  elif(row['fam_status'] == 'married') and (row['age'] >40) and (row['age'] <61) and (row['n_dependants'] >0):\n",
    "    return 'Middle Age Married Parent'\n",
    "  elif(row['fam_status'] == 'married') and (row['age_range'] == '18-30') and (row['n_dependants'] >0):\n",
    "    return 'Young Married Parent'\n",
    "  elif(row['fam_status'] == 'living with parents and siblings') and (row['age_range'] == '18-30'):\n",
    "    return 'Young Single At Home'\n",
    "  else: return 'Not enough data'"
   ]
  },
  {
   "cell_type": "code",
   "execution_count": 355,
   "id": "086975aa",
   "metadata": {
    "hidden": true
   },
   "outputs": [
    {
     "name": "stderr",
     "output_type": "stream",
     "text": [
      "C:\\Users\\eserc\\AppData\\Local\\Temp\\ipykernel_8532\\722366474.py:3: SettingWithCopyWarning: \n",
      "A value is trying to be set on a copy of a slice from a DataFrame.\n",
      "Try using .loc[row_indexer,col_indexer] = value instead\n",
      "\n",
      "See the caveats in the documentation: https://pandas.pydata.org/pandas-docs/stable/user_guide/indexing.html#returning-a-view-versus-a-copy\n",
      "  df4['age_fam_dep'] = df4.apply(age_fam_dependants, axis=1)\n"
     ]
    }
   ],
   "source": [
    "# apply filter\n",
    "\n",
    "df4['age_fam_dep'] = df4.apply(age_fam_dependants, axis=1)"
   ]
  },
  {
   "cell_type": "code",
   "execution_count": 367,
   "id": "c41e1506",
   "metadata": {
    "hidden": true
   },
   "outputs": [
    {
     "data": {
      "text/plain": [
       "Not enough data              1106871\n",
       "Middle Age Married Parent     541908\n",
       "Young Married Parent          242649\n",
       "Older Divorced                190477\n",
       "Young Single                  115425\n",
       "Young Single At Home          110818\n",
       "Name: age_fam_dep, dtype: int64"
      ]
     },
     "execution_count": 367,
     "metadata": {},
     "output_type": "execute_result"
    }
   ],
   "source": [
    "df4['age_fam_dep'].value_counts()"
   ]
  },
  {
   "cell_type": "markdown",
   "id": "afa705fb",
   "metadata": {
    "heading_collapsed": true
   },
   "source": [
    "# 6. Marketing and Sales Questions"
   ]
  },
  {
   "cell_type": "markdown",
   "id": "1591a4b6",
   "metadata": {
    "heading_collapsed": true
   },
   "source": [
    "# 1. The sales team needs to know what the busiest days of the week and hours of the day are (i.e., the days and times with the most orders) in order to schedule ads at times when there are fewer orders."
   ]
  },
  {
   "cell_type": "code",
   "execution_count": 89,
   "id": "6b9f45dd",
   "metadata": {
    "hidden": true
   },
   "outputs": [
    {
     "data": {
      "image/png": "[encoded data removed]",
      "text/plain": [
       "<Figure size 432x288 with 1 Axes>"
      ]
     },
     "metadata": {
      "needs_background": "light"
     },
     "output_type": "display_data"
    }
   ],
   "source": [
    "bar_dow = df4['order_day_of_week'].value_counts().sort_index().plot.bar(color = ['powderblue'])"
   ]
  },
  {
   "cell_type": "code",
   "execution_count": 75,
   "id": "22213759",
   "metadata": {
    "hidden": true
   },
   "outputs": [
    {
     "data": {
      "text/plain": [
       "Index(['order_id', 'user_id', 'order_number', 'order_day_of_week',\n",
       "       'order_hour_of_day', 'days_since_prior_order', 'product_id',\n",
       "       'reordered', 'product_name', 'department_id', 'prices',\n",
       "       'price_range_loc', 'busiest_days', 'busiest_period_of_day', 'max_order',\n",
       "       'loyalty_flag', 'average_order', 'spender', 'gender', 'state', 'age',\n",
       "       'date_joined', 'n_dependants', 'fam_status', 'income', 'region'],\n",
       "      dtype='object')"
      ]
     },
     "execution_count": 75,
     "metadata": {},
     "output_type": "execute_result"
    }
   ],
   "source": [
    "df4.columns"
   ]
  },
  {
   "cell_type": "code",
   "execution_count": 88,
   "id": "9f5655be",
   "metadata": {
    "hidden": true,
    "scrolled": true
   },
   "outputs": [
    {
     "data": {
      "image/png": "[encoded data removed]",
      "text/plain": [
       "<Figure size 432x288 with 1 Axes>"
      ]
     },
     "metadata": {
      "needs_background": "light"
     },
     "output_type": "display_data"
    }
   ],
   "source": [
    "# create lineplot for orders day of the week\n",
    "line_days = sns.lineplot(data = df4, x = 'order_day_of_week',y = 'order_id')"
   ]
  },
  {
   "cell_type": "code",
   "execution_count": 79,
   "id": "8754ef08",
   "metadata": {
    "hidden": true
   },
   "outputs": [],
   "source": [
    "# save line chart\n",
    "line_days.figure.savefig(os.path.join(path, '04 Analysis', 'Visualizations', 'bar_dow.png'))"
   ]
  },
  {
   "cell_type": "code",
   "execution_count": 90,
   "id": "92e51d47",
   "metadata": {
    "hidden": true
   },
   "outputs": [],
   "source": [
    "# save bar chart\n",
    "bar_dow.figure.savefig(os.path.join(path, '04 Analysis', 'Visualizations', 'bar_dow.png'))"
   ]
  },
  {
   "cell_type": "code",
   "execution_count": 422,
   "id": "585b752d",
   "metadata": {
    "hidden": true
   },
   "outputs": [
    {
     "data": {
      "image/png": "[encoded data removed]",
      "text/plain": [
       "<Figure size 432x288 with 1 Axes>"
      ]
     },
     "metadata": {
      "needs_background": "light"
     },
     "output_type": "display_data"
    }
   ],
   "source": [
    "bar_hour_day = df4['order_hour_of_day'].value_counts().plot.bar(color = ['powderblue'])"
   ]
  },
  {
   "cell_type": "code",
   "execution_count": 423,
   "id": "b14452c9",
   "metadata": {
    "hidden": true
   },
   "outputs": [],
   "source": [
    "# save bar chart\n",
    "bar_hour_day.figure.savefig(os.path.join(path, '04 Analysis', 'Visualizations', 'bar_hour_day.png'))"
   ]
  },
  {
   "cell_type": "code",
   "execution_count": 84,
   "id": "90aa460c",
   "metadata": {
    "hidden": true
   },
   "outputs": [
    {
     "data": {
      "image/png": "[encoded data removed]",
      "text/plain": [
       "<Figure size 432x288 with 1 Axes>"
      ]
     },
     "metadata": {
      "needs_background": "light"
     },
     "output_type": "display_data"
    }
   ],
   "source": [
    "# create histogram for hours of the day\n",
    "hist_order_hod = df4['order_hour_of_day'].plot.hist(bins = 23)"
   ]
  },
  {
   "cell_type": "code",
   "execution_count": 85,
   "id": "0656aac3",
   "metadata": {
    "hidden": true
   },
   "outputs": [],
   "source": [
    "hist_order_hod.figure.savefig(os.path.join(path, '04 Analysis', 'Visualizations', 'hist_order_hod'))"
   ]
  },
  {
   "cell_type": "code",
   "execution_count": 86,
   "id": "b9af87ee",
   "metadata": {
    "hidden": true
   },
   "outputs": [
    {
     "data": {
      "image/png": "[encoded data removed]",
      "text/plain": [
       "<Figure size 432x288 with 1 Axes>"
      ]
     },
     "metadata": {
      "needs_background": "light"
     },
     "output_type": "display_data"
    }
   ],
   "source": [
    "# create lineplot for orders hour of the day\n",
    "line_days = sns.lineplot(data = df4, x = 'order_hour_of_day',y = 'order_id')"
   ]
  },
  {
   "cell_type": "code",
   "execution_count": 252,
   "id": "24c7c25e",
   "metadata": {
    "hidden": true
   },
   "outputs": [],
   "source": [
    "crosstab_day_time = pd.crosstab(df4['order_hour_of_day'], df4['order_day_of_week'], dropna = False)"
   ]
  },
  {
   "cell_type": "code",
   "execution_count": 254,
   "id": "7a9fc5a8",
   "metadata": {
    "hidden": true
   },
   "outputs": [
    {
     "data": {
      "text/html": [
       "<div>\n",
       "<style scoped>\n",
       "    .dataframe tbody tr th:only-of-type {\n",
       "        vertical-align: middle;\n",
       "    }\n",
       "\n",
       "    .dataframe tbody tr th {\n",
       "        vertical-align: top;\n",
       "    }\n",
       "\n",
       "    .dataframe thead th {\n",
       "        text-align: right;\n",
       "    }\n",
       "</style>\n",
       "<table border=\"1\" class=\"dataframe\">\n",
       "  <thead>\n",
       "    <tr style=\"text-align: right;\">\n",
       "      <th>order_day_of_week</th>\n",
       "      <th>0</th>\n",
       "      <th>1</th>\n",
       "      <th>2</th>\n",
       "      <th>3</th>\n",
       "      <th>4</th>\n",
       "      <th>5</th>\n",
       "      <th>6</th>\n",
       "    </tr>\n",
       "    <tr>\n",
       "      <th>order_hour_of_day</th>\n",
       "      <th></th>\n",
       "      <th></th>\n",
       "      <th></th>\n",
       "      <th></th>\n",
       "      <th></th>\n",
       "      <th></th>\n",
       "      <th></th>\n",
       "    </tr>\n",
       "  </thead>\n",
       "  <tbody>\n",
       "    <tr>\n",
       "      <th>0</th>\n",
       "      <td>2816</td>\n",
       "      <td>2572</td>\n",
       "      <td>2029</td>\n",
       "      <td>1961</td>\n",
       "      <td>1725</td>\n",
       "      <td>2040</td>\n",
       "      <td>2096</td>\n",
       "    </tr>\n",
       "    <tr>\n",
       "      <th>1</th>\n",
       "      <td>1430</td>\n",
       "      <td>1334</td>\n",
       "      <td>963</td>\n",
       "      <td>881</td>\n",
       "      <td>918</td>\n",
       "      <td>1101</td>\n",
       "      <td>1278</td>\n",
       "    </tr>\n",
       "    <tr>\n",
       "      <th>2</th>\n",
       "      <td>890</td>\n",
       "      <td>723</td>\n",
       "      <td>553</td>\n",
       "      <td>574</td>\n",
       "      <td>550</td>\n",
       "      <td>657</td>\n",
       "      <td>772</td>\n",
       "    </tr>\n",
       "    <tr>\n",
       "      <th>3</th>\n",
       "      <td>600</td>\n",
       "      <td>524</td>\n",
       "      <td>502</td>\n",
       "      <td>375</td>\n",
       "      <td>428</td>\n",
       "      <td>549</td>\n",
       "      <td>467</td>\n",
       "    </tr>\n",
       "    <tr>\n",
       "      <th>4</th>\n",
       "      <td>564</td>\n",
       "      <td>570</td>\n",
       "      <td>452</td>\n",
       "      <td>451</td>\n",
       "      <td>462</td>\n",
       "      <td>616</td>\n",
       "      <td>557</td>\n",
       "    </tr>\n",
       "    <tr>\n",
       "      <th>5</th>\n",
       "      <td>825</td>\n",
       "      <td>1070</td>\n",
       "      <td>933</td>\n",
       "      <td>844</td>\n",
       "      <td>814</td>\n",
       "      <td>1178</td>\n",
       "      <td>763</td>\n",
       "    </tr>\n",
       "    <tr>\n",
       "      <th>6</th>\n",
       "      <td>2437</td>\n",
       "      <td>4085</td>\n",
       "      <td>3291</td>\n",
       "      <td>3007</td>\n",
       "      <td>2953</td>\n",
       "      <td>3484</td>\n",
       "      <td>2294</td>\n",
       "    </tr>\n",
       "    <tr>\n",
       "      <th>7</th>\n",
       "      <td>9923</td>\n",
       "      <td>12401</td>\n",
       "      <td>9084</td>\n",
       "      <td>8299</td>\n",
       "      <td>8436</td>\n",
       "      <td>9574</td>\n",
       "      <td>8772</td>\n",
       "    </tr>\n",
       "    <tr>\n",
       "      <th>8</th>\n",
       "      <td>22461</td>\n",
       "      <td>25017</td>\n",
       "      <td>16572</td>\n",
       "      <td>14404</td>\n",
       "      <td>14297</td>\n",
       "      <td>16567</td>\n",
       "      <td>17679</td>\n",
       "    </tr>\n",
       "    <tr>\n",
       "      <th>9</th>\n",
       "      <td>32159</td>\n",
       "      <td>37649</td>\n",
       "      <td>24440</td>\n",
       "      <td>20387</td>\n",
       "      <td>20139</td>\n",
       "      <td>22854</td>\n",
       "      <td>23106</td>\n",
       "    </tr>\n",
       "    <tr>\n",
       "      <th>10</th>\n",
       "      <td>36417</td>\n",
       "      <td>40621</td>\n",
       "      <td>26079</td>\n",
       "      <td>22879</td>\n",
       "      <td>22353</td>\n",
       "      <td>26122</td>\n",
       "      <td>25566</td>\n",
       "    </tr>\n",
       "    <tr>\n",
       "      <th>11</th>\n",
       "      <td>37757</td>\n",
       "      <td>37028</td>\n",
       "      <td>25293</td>\n",
       "      <td>21998</td>\n",
       "      <td>21867</td>\n",
       "      <td>25620</td>\n",
       "      <td>25932</td>\n",
       "    </tr>\n",
       "    <tr>\n",
       "      <th>12</th>\n",
       "      <td>36953</td>\n",
       "      <td>32552</td>\n",
       "      <td>23183</td>\n",
       "      <td>21210</td>\n",
       "      <td>20831</td>\n",
       "      <td>24113</td>\n",
       "      <td>26058</td>\n",
       "    </tr>\n",
       "    <tr>\n",
       "      <th>13</th>\n",
       "      <td>39012</td>\n",
       "      <td>32665</td>\n",
       "      <td>23964</td>\n",
       "      <td>21682</td>\n",
       "      <td>21229</td>\n",
       "      <td>24425</td>\n",
       "      <td>26465</td>\n",
       "    </tr>\n",
       "    <tr>\n",
       "      <th>14</th>\n",
       "      <td>39378</td>\n",
       "      <td>32169</td>\n",
       "      <td>23837</td>\n",
       "      <td>21262</td>\n",
       "      <td>21558</td>\n",
       "      <td>25056</td>\n",
       "      <td>27538</td>\n",
       "    </tr>\n",
       "    <tr>\n",
       "      <th>15</th>\n",
       "      <td>38012</td>\n",
       "      <td>31167</td>\n",
       "      <td>23653</td>\n",
       "      <td>22540</td>\n",
       "      <td>21636</td>\n",
       "      <td>24759</td>\n",
       "      <td>26306</td>\n",
       "    </tr>\n",
       "    <tr>\n",
       "      <th>16</th>\n",
       "      <td>34520</td>\n",
       "      <td>28974</td>\n",
       "      <td>23411</td>\n",
       "      <td>21550</td>\n",
       "      <td>21615</td>\n",
       "      <td>23523</td>\n",
       "      <td>24536</td>\n",
       "    </tr>\n",
       "    <tr>\n",
       "      <th>17</th>\n",
       "      <td>26706</td>\n",
       "      <td>23226</td>\n",
       "      <td>19523</td>\n",
       "      <td>18321</td>\n",
       "      <td>18268</td>\n",
       "      <td>19154</td>\n",
       "      <td>20024</td>\n",
       "    </tr>\n",
       "    <tr>\n",
       "      <th>18</th>\n",
       "      <td>19279</td>\n",
       "      <td>17309</td>\n",
       "      <td>15757</td>\n",
       "      <td>14927</td>\n",
       "      <td>14687</td>\n",
       "      <td>15227</td>\n",
       "      <td>15375</td>\n",
       "    </tr>\n",
       "    <tr>\n",
       "      <th>19</th>\n",
       "      <td>14814</td>\n",
       "      <td>13429</td>\n",
       "      <td>11949</td>\n",
       "      <td>11311</td>\n",
       "      <td>11937</td>\n",
       "      <td>11659</td>\n",
       "      <td>12107</td>\n",
       "    </tr>\n",
       "    <tr>\n",
       "      <th>20</th>\n",
       "      <td>12775</td>\n",
       "      <td>10793</td>\n",
       "      <td>9036</td>\n",
       "      <td>8548</td>\n",
       "      <td>9321</td>\n",
       "      <td>8928</td>\n",
       "      <td>9202</td>\n",
       "    </tr>\n",
       "    <tr>\n",
       "      <th>21</th>\n",
       "      <td>10891</td>\n",
       "      <td>8422</td>\n",
       "      <td>7366</td>\n",
       "      <td>7202</td>\n",
       "      <td>7971</td>\n",
       "      <td>7106</td>\n",
       "      <td>8042</td>\n",
       "    </tr>\n",
       "    <tr>\n",
       "      <th>22</th>\n",
       "      <td>8594</td>\n",
       "      <td>6402</td>\n",
       "      <td>5797</td>\n",
       "      <td>5736</td>\n",
       "      <td>6411</td>\n",
       "      <td>5598</td>\n",
       "      <td>6617</td>\n",
       "    </tr>\n",
       "  </tbody>\n",
       "</table>\n",
       "</div>"
      ],
      "text/plain": [
       "order_day_of_week      0      1      2      3      4      5      6\n",
       "order_hour_of_day                                                 \n",
       "0                   2816   2572   2029   1961   1725   2040   2096\n",
       "1                   1430   1334    963    881    918   1101   1278\n",
       "2                    890    723    553    574    550    657    772\n",
       "3                    600    524    502    375    428    549    467\n",
       "4                    564    570    452    451    462    616    557\n",
       "5                    825   1070    933    844    814   1178    763\n",
       "6                   2437   4085   3291   3007   2953   3484   2294\n",
       "7                   9923  12401   9084   8299   8436   9574   8772\n",
       "8                  22461  25017  16572  14404  14297  16567  17679\n",
       "9                  32159  37649  24440  20387  20139  22854  23106\n",
       "10                 36417  40621  26079  22879  22353  26122  25566\n",
       "11                 37757  37028  25293  21998  21867  25620  25932\n",
       "12                 36953  32552  23183  21210  20831  24113  26058\n",
       "13                 39012  32665  23964  21682  21229  24425  26465\n",
       "14                 39378  32169  23837  21262  21558  25056  27538\n",
       "15                 38012  31167  23653  22540  21636  24759  26306\n",
       "16                 34520  28974  23411  21550  21615  23523  24536\n",
       "17                 26706  23226  19523  18321  18268  19154  20024\n",
       "18                 19279  17309  15757  14927  14687  15227  15375\n",
       "19                 14814  13429  11949  11311  11937  11659  12107\n",
       "20                 12775  10793   9036   8548   9321   8928   9202\n",
       "21                 10891   8422   7366   7202   7971   7106   8042\n",
       "22                  8594   6402   5797   5736   6411   5598   6617"
      ]
     },
     "execution_count": 254,
     "metadata": {},
     "output_type": "execute_result"
    }
   ],
   "source": [
    "crosstab_day_time.head(23)"
   ]
  },
  {
   "cell_type": "markdown",
   "id": "1d0669a3",
   "metadata": {
    "hidden": true
   },
   "source": [
    "The busiest to least busy days are as follows: Saturday, Sunday, Friday, Thursday, Monday, Wednesday, Tuesday.\n",
    "9am to 4am is the busiest time of day, 10pm to 6am is the slowest, and the hours between those are moderate.\n",
    "Our absolute slowest period is 3am on Tuesday."
   ]
  },
  {
   "cell_type": "markdown",
   "id": "e9d071b2",
   "metadata": {
    "heading_collapsed": true
   },
   "source": [
    "# 2. They also want to know whether there are particular times of the day when people spend the most money, as this might inform the type of products they advertise at these times."
   ]
  },
  {
   "cell_type": "code",
   "execution_count": 100,
   "id": "48b35a18",
   "metadata": {
    "hidden": true
   },
   "outputs": [],
   "source": [
    "df5 = df4[df4['spender']=='High Spender']"
   ]
  },
  {
   "cell_type": "code",
   "execution_count": 101,
   "id": "99e6c360",
   "metadata": {
    "hidden": true
   },
   "outputs": [
    {
     "data": {
      "image/png": "[encoded data removed]",
      "text/plain": [
       "<Figure size 432x288 with 1 Axes>"
      ]
     },
     "metadata": {
      "needs_background": "light"
     },
     "output_type": "display_data"
    }
   ],
   "source": [
    "spender_times = df5['order_hour_of_day'].plot.hist(bins = 23)"
   ]
  },
  {
   "cell_type": "code",
   "execution_count": 102,
   "id": "45d0fd19",
   "metadata": {
    "hidden": true
   },
   "outputs": [],
   "source": [
    "spender_times.figure.savefig(os.path.join(path, '04 Analysis', 'Visualizations', 'line_prices'))"
   ]
  },
  {
   "cell_type": "code",
   "execution_count": 93,
   "id": "a8c752dd",
   "metadata": {
    "hidden": true
   },
   "outputs": [
    {
     "data": {
      "image/png": "[encoded data removed]",
      "text/plain": [
       "<Figure size 432x288 with 1 Axes>"
      ]
     },
     "metadata": {
      "needs_background": "light"
     },
     "output_type": "display_data"
    }
   ],
   "source": [
    "# create lineplot for orders hour of the day and prices\n",
    "line_prices = sns.lineplot(data = df4, x = 'order_hour_of_day',y = 'prices')"
   ]
  },
  {
   "cell_type": "code",
   "execution_count": 97,
   "id": "7b2b3f50",
   "metadata": {
    "hidden": true
   },
   "outputs": [
    {
     "data": {
      "image/png": "[encoded data removed]",
      "text/plain": [
       "<Figure size 432x288 with 1 Axes>"
      ]
     },
     "metadata": {
      "needs_background": "light"
     },
     "output_type": "display_data"
    }
   ],
   "source": [
    "scatter_price_hour = sns.scatterplot(x = 'order_hour_of_day', y = 'prices',data = df4)"
   ]
  },
  {
   "cell_type": "code",
   "execution_count": null,
   "id": "9a30d7e8",
   "metadata": {
    "hidden": true
   },
   "outputs": [],
   "source": []
  },
  {
   "cell_type": "code",
   "execution_count": 103,
   "id": "eccbdbcc",
   "metadata": {
    "hidden": true
   },
   "outputs": [],
   "source": [
    "# save line plot\n",
    "line_prices.figure.savefig(os.path.join(path, '04 Analysis', 'Visualizations', 'line_prices'))"
   ]
  },
  {
   "cell_type": "code",
   "execution_count": 424,
   "id": "85b75fef",
   "metadata": {
    "hidden": true
   },
   "outputs": [],
   "source": [
    "# save histogram\n",
    "spender_times.figure.savefig(os.path.join(path, '04 Analysis', 'Visualizations', 'spender_times.png'))"
   ]
  },
  {
   "cell_type": "code",
   "execution_count": 141,
   "id": "6d1af98b",
   "metadata": {
    "hidden": true
   },
   "outputs": [],
   "source": [
    "df6 = df4[df4['price_range_loc']=='High-range product']"
   ]
  },
  {
   "cell_type": "code",
   "execution_count": 143,
   "id": "7fe774f1",
   "metadata": {
    "hidden": true
   },
   "outputs": [
    {
     "data": {
      "image/png": "[encoded data removed]",
      "text/plain": [
       "<Figure size 432x288 with 1 Axes>"
      ]
     },
     "metadata": {
      "needs_background": "light"
     },
     "output_type": "display_data"
    }
   ],
   "source": [
    "high_range_times = df6['order_hour_of_day'].plot.hist(bins = 23)"
   ]
  },
  {
   "cell_type": "code",
   "execution_count": 425,
   "id": "cdf46b2b",
   "metadata": {
    "hidden": true
   },
   "outputs": [],
   "source": [
    "# save histogram\n",
    "high_range_times.figure.savefig(os.path.join(path, '04 Analysis', 'Visualizations', 'high_times.png'))"
   ]
  },
  {
   "cell_type": "markdown",
   "id": "cfcb945e",
   "metadata": {
    "heading_collapsed": true
   },
   "source": [
    "# 3. Instacart has a lot of products with different price tags. Marketing and sales want to use simpler price range groupings to help direct their efforts."
   ]
  },
  {
   "cell_type": "code",
   "execution_count": 120,
   "id": "ab446227",
   "metadata": {
    "hidden": true
   },
   "outputs": [
    {
     "data": {
      "text/plain": [
       "Mid=range product     1558386\n",
       "Low-range product      721005\n",
       "High-range product      28757\n",
       "Name: price_range_loc, dtype: int64"
      ]
     },
     "execution_count": 120,
     "metadata": {},
     "output_type": "execute_result"
    }
   ],
   "source": [
    "df4['price_range_loc'].value_counts()"
   ]
  },
  {
   "cell_type": "markdown",
   "id": "107c4e8f",
   "metadata": {
    "heading_collapsed": true
   },
   "source": [
    "# 4. Are there certain types of products that are more popular than others? The marketing and sales teams want to know which departments have the highest frequency of product orders."
   ]
  },
  {
   "cell_type": "code",
   "execution_count": 105,
   "id": "ba82a4f7",
   "metadata": {
    "hidden": true
   },
   "outputs": [],
   "source": [
    "# create filter to assign department names to department_id\n",
    "\n",
    "def department_names(row):\n",
    "\n",
    "  if row['department_id'] == 1:\n",
    "    return 'Frozen'\n",
    "  elif row['department_id'] == 2:\n",
    "    return 'Other'\n",
    "  elif row['department_id'] == 3:\n",
    "    return 'Bakery'\n",
    "  elif row['department_id'] == 4:\n",
    "    return 'Produce'\n",
    "  elif row['department_id'] == 5:\n",
    "    return 'Alcohol'\n",
    "  elif row['department_id'] == 6:\n",
    "    return 'International'\n",
    "  elif row['department_id'] == 7:\n",
    "    return 'Beverages'\n",
    "  elif row['department_id'] == 8:\n",
    "    return 'Pets'\n",
    "  elif row['department_id'] == 9:\n",
    "    return 'Dry goods Pasta'\n",
    "  elif row['department_id'] == 10:\n",
    "    return 'Bulk'\n",
    "  elif row['department_id'] == 11:\n",
    "    return 'Personal care'\n",
    "  elif row['department_id'] == 12:\n",
    "    return 'Meat Seafood'\n",
    "  elif row['department_id'] == 13:\n",
    "    return 'Pantry'\n",
    "  elif row['department_id'] == 14:\n",
    "    return 'Breakfast'\n",
    "  elif row['department_id'] == 15:\n",
    "    return 'Canned goods'\n",
    "  elif row['department_id'] == 16:\n",
    "    return 'Dairy'\n",
    "  elif row['department_id'] == 17:\n",
    "    return 'Household'\n",
    "  elif row['department_id'] == 18:\n",
    "    return 'Babies'\n",
    "  elif row['department_id'] == 19:\n",
    "    return 'Snacks'\n",
    "  elif row['department_id'] == 20:\n",
    "    return 'Deli'\n",
    "  elif row['department_id'] == 21:\n",
    "    return 'Missing'\n",
    "  else: return 'Not enough data'"
   ]
  },
  {
   "cell_type": "code",
   "execution_count": 106,
   "id": "26f2ee79",
   "metadata": {
    "hidden": true
   },
   "outputs": [
    {
     "name": "stderr",
     "output_type": "stream",
     "text": [
      "C:\\Users\\eserc\\AppData\\Local\\Temp\\ipykernel_2852\\10709665.py:3: SettingWithCopyWarning: \n",
      "A value is trying to be set on a copy of a slice from a DataFrame.\n",
      "Try using .loc[row_indexer,col_indexer] = value instead\n",
      "\n",
      "See the caveats in the documentation: https://pandas.pydata.org/pandas-docs/stable/user_guide/indexing.html#returning-a-view-versus-a-copy\n",
      "  df4['department'] = df4.apply(department_names, axis=1)\n"
     ]
    }
   ],
   "source": [
    "# apply filter\n",
    "\n",
    "df4['department'] = df4.apply(department_names, axis=1)"
   ]
  },
  {
   "cell_type": "code",
   "execution_count": 107,
   "id": "1fd0b4ce",
   "metadata": {
    "hidden": true
   },
   "outputs": [
    {
     "data": {
      "image/png": "[encoded data removed]",
      "text/plain": [
       "<Figure size 432x288 with 1 Axes>"
      ]
     },
     "metadata": {
      "needs_background": "light"
     },
     "output_type": "display_data"
    }
   ],
   "source": [
    "bar_departments = df4['department'].value_counts().plot.bar(color =['darkseagreen'])"
   ]
  },
  {
   "cell_type": "code",
   "execution_count": 108,
   "id": "0de4af30",
   "metadata": {
    "hidden": true
   },
   "outputs": [],
   "source": [
    "# save bar depatments\n",
    "bar_departments.figure.savefig(os.path.join(path, '04 Analysis', 'Visualizations', 'departments.png'))"
   ]
  },
  {
   "cell_type": "markdown",
   "id": "e1f42706",
   "metadata": {
    "hidden": true
   },
   "source": [
    "The most popular department is produce followed by dairy and snacks. The least popular categories are bulk, pets, and alcohol."
   ]
  },
  {
   "cell_type": "markdown",
   "id": "ebaddebf",
   "metadata": {
    "heading_collapsed": true
   },
   "source": [
    "# 5. The marketing and sales teams are particularly interested in the different types of customers in their system and how their ordering behaviors differ. For example:"
   ]
  },
  {
   "cell_type": "markdown",
   "id": "3fb403bc",
   "metadata": {
    "heading_collapsed": true
   },
   "source": [
    "# A.What’s the distribution among users in regards to their brand loyalty (i.e., how often do they return to Instacart)?"
   ]
  },
  {
   "cell_type": "code",
   "execution_count": 153,
   "id": "f5290937",
   "metadata": {
    "hidden": true
   },
   "outputs": [
    {
     "data": {
      "image/png": "[encoded data removed]",
      "text/plain": [
       "<Figure size 432x288 with 1 Axes>"
      ]
     },
     "metadata": {
      "needs_background": "light"
     },
     "output_type": "display_data"
    }
   ],
   "source": [
    "# create histogram for returning customers\n",
    "returning_customers = df4['max_order'].plot.hist(bins = 110)"
   ]
  },
  {
   "cell_type": "code",
   "execution_count": 427,
   "id": "9159102e",
   "metadata": {
    "hidden": true
   },
   "outputs": [],
   "source": [
    "# save histogram\n",
    "returning_customers.figure.savefig(os.path.join(path, '04 Analysis', 'Visualizations', 'returns.png'))"
   ]
  },
  {
   "cell_type": "markdown",
   "id": "c63e7de8",
   "metadata": {
    "hidden": true
   },
   "source": [
    "Our max_orders for users peak around 10-15 and very gradually decline. However, there is a very strange phenomenon where we have an extremely high number of \"max_orders\" right around a hundred. This leads me to believe that there is an issue with our data."
   ]
  },
  {
   "cell_type": "markdown",
   "id": "5b95c42d",
   "metadata": {
    "heading_collapsed": true
   },
   "source": [
    "# B.Are there differences in ordering habits based on a customer’s loyalty status?"
   ]
  },
  {
   "cell_type": "code",
   "execution_count": 110,
   "id": "4e79c72e",
   "metadata": {
    "hidden": true
   },
   "outputs": [],
   "source": [
    "# create subset for loyal customers\n",
    "df_loyal = df4[df4['loyalty_flag']== 'Loyal customer']"
   ]
  },
  {
   "cell_type": "code",
   "execution_count": 111,
   "id": "650b6dee",
   "metadata": {
    "hidden": true
   },
   "outputs": [
    {
     "data": {
      "text/plain": [
       "Regular customer    1220563\n",
       "Loyal customer       932014\n",
       "New customer         155571\n",
       "Name: loyalty_flag, dtype: int64"
      ]
     },
     "execution_count": 111,
     "metadata": {},
     "output_type": "execute_result"
    }
   ],
   "source": [
    "# get distribution of loyalty\n",
    "df4['loyalty_flag'].value_counts() 2308148"
   ]
  },
  {
   "cell_type": "code",
   "execution_count": 112,
   "id": "83b64e15",
   "metadata": {
    "hidden": true
   },
   "outputs": [
    {
     "data": {
      "image/png": "[encoded data removed]",
      "text/plain": [
       "<Figure size 432x288 with 1 Axes>"
      ]
     },
     "metadata": {
      "needs_background": "light"
     },
     "output_type": "display_data"
    }
   ],
   "source": [
    "# bar chart for loyalty\n",
    "loyal_bar = df4['loyalty_flag'].value_counts().plot.bar(color = ['powderblue'])"
   ]
  },
  {
   "cell_type": "code",
   "execution_count": 113,
   "id": "7657a163",
   "metadata": {
    "hidden": true
   },
   "outputs": [],
   "source": [
    "# save bar\n",
    "loyal_bar.figure.savefig(os.path.join(path, '04 Analysis', 'Visualizations', 'loyal_bar.png'))"
   ]
  },
  {
   "cell_type": "code",
   "execution_count": 114,
   "id": "5e1b690e",
   "metadata": {
    "hidden": true
   },
   "outputs": [
    {
     "name": "stderr",
     "output_type": "stream",
     "text": [
      "C:\\Users\\eserc\\anaconda3\\lib\\site-packages\\numpy\\lib\\function_base.py:4009: RuntimeWarning: invalid value encountered in subtract\n",
      "  diff_b_a = subtract(b, a)\n"
     ]
    },
    {
     "data": {
      "text/html": [
       "<div>\n",
       "<style scoped>\n",
       "    .dataframe tbody tr th:only-of-type {\n",
       "        vertical-align: middle;\n",
       "    }\n",
       "\n",
       "    .dataframe tbody tr th {\n",
       "        vertical-align: top;\n",
       "    }\n",
       "\n",
       "    .dataframe thead th {\n",
       "        text-align: right;\n",
       "    }\n",
       "</style>\n",
       "<table border=\"1\" class=\"dataframe\">\n",
       "  <thead>\n",
       "    <tr style=\"text-align: right;\">\n",
       "      <th></th>\n",
       "      <th>order_id</th>\n",
       "      <th>order_number</th>\n",
       "      <th>order_day_of_week</th>\n",
       "      <th>order_hour_of_day</th>\n",
       "      <th>days_since_prior_order</th>\n",
       "      <th>product_id</th>\n",
       "      <th>reordered</th>\n",
       "      <th>department_id</th>\n",
       "      <th>prices</th>\n",
       "      <th>max_order</th>\n",
       "      <th>average_order</th>\n",
       "      <th>age</th>\n",
       "      <th>n_dependants</th>\n",
       "      <th>income</th>\n",
       "    </tr>\n",
       "  </thead>\n",
       "  <tbody>\n",
       "    <tr>\n",
       "      <th>count</th>\n",
       "      <td>932014.0</td>\n",
       "      <td>932014.000000</td>\n",
       "      <td>932014.000000</td>\n",
       "      <td>932014.000000</td>\n",
       "      <td>932014.0</td>\n",
       "      <td>932014.0</td>\n",
       "      <td>932014.0</td>\n",
       "      <td>932014.00000</td>\n",
       "      <td>932014.000000</td>\n",
       "      <td>932014.0</td>\n",
       "      <td>932014.000000</td>\n",
       "      <td>932014.000000</td>\n",
       "      <td>932014.000000</td>\n",
       "      <td>932014.000000</td>\n",
       "    </tr>\n",
       "    <tr>\n",
       "      <th>mean</th>\n",
       "      <td>NaN</td>\n",
       "      <td>34.493018</td>\n",
       "      <td>2.787496</td>\n",
       "      <td>13.194589</td>\n",
       "      <td>NaN</td>\n",
       "      <td>NaN</td>\n",
       "      <td>NaN</td>\n",
       "      <td>9.95768</td>\n",
       "      <td>NaN</td>\n",
       "      <td>NaN</td>\n",
       "      <td>NaN</td>\n",
       "      <td>49.580064</td>\n",
       "      <td>1.499085</td>\n",
       "      <td>100285.996378</td>\n",
       "    </tr>\n",
       "    <tr>\n",
       "      <th>std</th>\n",
       "      <td>NaN</td>\n",
       "      <td>20.616496</td>\n",
       "      <td>2.045207</td>\n",
       "      <td>4.261820</td>\n",
       "      <td>0.0</td>\n",
       "      <td>NaN</td>\n",
       "      <td>0.0</td>\n",
       "      <td>6.28297</td>\n",
       "      <td>0.000000</td>\n",
       "      <td>0.0</td>\n",
       "      <td>NaN</td>\n",
       "      <td>18.450155</td>\n",
       "      <td>1.120284</td>\n",
       "      <td>43659.215498</td>\n",
       "    </tr>\n",
       "    <tr>\n",
       "      <th>min</th>\n",
       "      <td>4.0</td>\n",
       "      <td>5.000000</td>\n",
       "      <td>0.000000</td>\n",
       "      <td>0.000000</td>\n",
       "      <td>0.0</td>\n",
       "      <td>1.0</td>\n",
       "      <td>0.0</td>\n",
       "      <td>1.00000</td>\n",
       "      <td>1.000000</td>\n",
       "      <td>41.0</td>\n",
       "      <td>2.386719</td>\n",
       "      <td>18.000000</td>\n",
       "      <td>0.000000</td>\n",
       "      <td>25955.000000</td>\n",
       "    </tr>\n",
       "    <tr>\n",
       "      <th>25%</th>\n",
       "      <td>NaN</td>\n",
       "      <td>18.000000</td>\n",
       "      <td>1.000000</td>\n",
       "      <td>10.000000</td>\n",
       "      <td>3.0</td>\n",
       "      <td>13576.0</td>\n",
       "      <td>1.0</td>\n",
       "      <td>4.00000</td>\n",
       "      <td>4.199219</td>\n",
       "      <td>49.0</td>\n",
       "      <td>7.414062</td>\n",
       "      <td>34.000000</td>\n",
       "      <td>0.000000</td>\n",
       "      <td>67951.000000</td>\n",
       "    </tr>\n",
       "    <tr>\n",
       "      <th>50%</th>\n",
       "      <td>NaN</td>\n",
       "      <td>32.000000</td>\n",
       "      <td>3.000000</td>\n",
       "      <td>13.000000</td>\n",
       "      <td>5.0</td>\n",
       "      <td>25152.0</td>\n",
       "      <td>1.0</td>\n",
       "      <td>8.00000</td>\n",
       "      <td>7.398438</td>\n",
       "      <td>59.0</td>\n",
       "      <td>7.816406</td>\n",
       "      <td>50.000000</td>\n",
       "      <td>1.000000</td>\n",
       "      <td>96853.000000</td>\n",
       "    </tr>\n",
       "    <tr>\n",
       "      <th>75%</th>\n",
       "      <td>NaN</td>\n",
       "      <td>46.000000</td>\n",
       "      <td>5.000000</td>\n",
       "      <td>16.000000</td>\n",
       "      <td>7.0</td>\n",
       "      <td>37824.0</td>\n",
       "      <td>1.0</td>\n",
       "      <td>16.00000</td>\n",
       "      <td>11.203125</td>\n",
       "      <td>78.0</td>\n",
       "      <td>8.210938</td>\n",
       "      <td>66.000000</td>\n",
       "      <td>3.000000</td>\n",
       "      <td>127916.000000</td>\n",
       "    </tr>\n",
       "    <tr>\n",
       "      <th>max</th>\n",
       "      <td>inf</td>\n",
       "      <td>99.000000</td>\n",
       "      <td>6.000000</td>\n",
       "      <td>23.000000</td>\n",
       "      <td>30.0</td>\n",
       "      <td>49696.0</td>\n",
       "      <td>1.0</td>\n",
       "      <td>21.00000</td>\n",
       "      <td>25.000000</td>\n",
       "      <td>100.0</td>\n",
       "      <td>8792.000000</td>\n",
       "      <td>81.000000</td>\n",
       "      <td>3.000000</td>\n",
       "      <td>593901.000000</td>\n",
       "    </tr>\n",
       "  </tbody>\n",
       "</table>\n",
       "</div>"
      ],
      "text/plain": [
       "       order_id   order_number  order_day_of_week  order_hour_of_day  \\\n",
       "count  932014.0  932014.000000      932014.000000      932014.000000   \n",
       "mean        NaN      34.493018           2.787496          13.194589   \n",
       "std         NaN      20.616496           2.045207           4.261820   \n",
       "min         4.0       5.000000           0.000000           0.000000   \n",
       "25%         NaN      18.000000           1.000000          10.000000   \n",
       "50%         NaN      32.000000           3.000000          13.000000   \n",
       "75%         NaN      46.000000           5.000000          16.000000   \n",
       "max         inf      99.000000           6.000000          23.000000   \n",
       "\n",
       "       days_since_prior_order  product_id  reordered  department_id  \\\n",
       "count                932014.0    932014.0   932014.0   932014.00000   \n",
       "mean                      NaN         NaN        NaN        9.95768   \n",
       "std                       0.0         NaN        0.0        6.28297   \n",
       "min                       0.0         1.0        0.0        1.00000   \n",
       "25%                       3.0     13576.0        1.0        4.00000   \n",
       "50%                       5.0     25152.0        1.0        8.00000   \n",
       "75%                       7.0     37824.0        1.0       16.00000   \n",
       "max                      30.0     49696.0        1.0       21.00000   \n",
       "\n",
       "              prices  max_order  average_order            age   n_dependants  \\\n",
       "count  932014.000000   932014.0  932014.000000  932014.000000  932014.000000   \n",
       "mean             NaN        NaN            NaN      49.580064       1.499085   \n",
       "std         0.000000        0.0            NaN      18.450155       1.120284   \n",
       "min         1.000000       41.0       2.386719      18.000000       0.000000   \n",
       "25%         4.199219       49.0       7.414062      34.000000       0.000000   \n",
       "50%         7.398438       59.0       7.816406      50.000000       1.000000   \n",
       "75%        11.203125       78.0       8.210938      66.000000       3.000000   \n",
       "max        25.000000      100.0    8792.000000      81.000000       3.000000   \n",
       "\n",
       "              income  \n",
       "count  932014.000000  \n",
       "mean   100285.996378  \n",
       "std     43659.215498  \n",
       "min     25955.000000  \n",
       "25%     67951.000000  \n",
       "50%     96853.000000  \n",
       "75%    127916.000000  \n",
       "max    593901.000000  "
      ]
     },
     "execution_count": 114,
     "metadata": {},
     "output_type": "execute_result"
    }
   ],
   "source": [
    "# get info on loyal customers\n",
    "df_loyal.describe()"
   ]
  },
  {
   "cell_type": "code",
   "execution_count": 115,
   "id": "c3787d90",
   "metadata": {
    "hidden": true
   },
   "outputs": [
    {
     "data": {
      "image/png": "[encoded data removed]",
      "text/plain": [
       "<Figure size 432x288 with 1 Axes>"
      ]
     },
     "metadata": {
      "needs_background": "light"
     },
     "output_type": "display_data"
    }
   ],
   "source": [
    "# loyal customer time of day\n",
    "loyal_customer_times = df_loyal['order_hour_of_day'].plot.hist(bins = 23)"
   ]
  },
  {
   "cell_type": "code",
   "execution_count": 120,
   "id": "7e253517",
   "metadata": {
    "hidden": true
   },
   "outputs": [
    {
     "data": {
      "image/png": "[encoded data removed]",
      "text/plain": [
       "<Figure size 432x288 with 1 Axes>"
      ]
     },
     "metadata": {
      "needs_background": "light"
     },
     "output_type": "display_data"
    }
   ],
   "source": [
    "# loyal customer day of week\n",
    "loyal_customer_days = df_loyal['order_day_of_week'].value_counts().sort_index().plot.bar(color = ['powderblue'])"
   ]
  },
  {
   "cell_type": "code",
   "execution_count": 121,
   "id": "04daae1e",
   "metadata": {
    "hidden": true
   },
   "outputs": [],
   "source": [
    "# save histogram\n",
    "loyal_customer_days.figure.savefig(os.path.join(path, '04 Analysis', 'Visualizations', 'loyal_customer_days.png'))"
   ]
  },
  {
   "cell_type": "code",
   "execution_count": 176,
   "id": "5b825ee4",
   "metadata": {
    "hidden": true
   },
   "outputs": [
    {
     "data": {
      "image/png": "[encoded data removed]",
      "text/plain": [
       "<Figure size 432x288 with 1 Axes>"
      ]
     },
     "metadata": {
      "needs_background": "light"
     },
     "output_type": "display_data"
    }
   ],
   "source": [
    "# loyal customer spender\n",
    "loyal_spender_bar = df_loyal['spender'].value_counts().plot.bar(color = ['powderblue'])"
   ]
  },
  {
   "cell_type": "code",
   "execution_count": 177,
   "id": "6a310781",
   "metadata": {
    "hidden": true
   },
   "outputs": [],
   "source": [
    "# create df for regular customer\n",
    "df_regular = df4[df4['loyalty_flag']== 'Regular customer']"
   ]
  },
  {
   "cell_type": "code",
   "execution_count": 179,
   "id": "fed76285",
   "metadata": {
    "hidden": true
   },
   "outputs": [
    {
     "data": {
      "text/html": [
       "<div>\n",
       "<style scoped>\n",
       "    .dataframe tbody tr th:only-of-type {\n",
       "        vertical-align: middle;\n",
       "    }\n",
       "\n",
       "    .dataframe tbody tr th {\n",
       "        vertical-align: top;\n",
       "    }\n",
       "\n",
       "    .dataframe thead th {\n",
       "        text-align: right;\n",
       "    }\n",
       "</style>\n",
       "<table border=\"1\" class=\"dataframe\">\n",
       "  <thead>\n",
       "    <tr style=\"text-align: right;\">\n",
       "      <th></th>\n",
       "      <th>order_number</th>\n",
       "      <th>order_day_of_week</th>\n",
       "      <th>order_hour_of_day</th>\n",
       "      <th>days_since_prior_order</th>\n",
       "      <th>department_id</th>\n",
       "      <th>prices</th>\n",
       "      <th>max_order</th>\n",
       "      <th>average_order</th>\n",
       "      <th>age</th>\n",
       "      <th>n_dependants</th>\n",
       "      <th>income</th>\n",
       "    </tr>\n",
       "  </thead>\n",
       "  <tbody>\n",
       "    <tr>\n",
       "      <th>count</th>\n",
       "      <td>1.220563e+06</td>\n",
       "      <td>1.220563e+06</td>\n",
       "      <td>1.220563e+06</td>\n",
       "      <td>1220563.0</td>\n",
       "      <td>1.220563e+06</td>\n",
       "      <td>1.220563e+06</td>\n",
       "      <td>1.220563e+06</td>\n",
       "      <td>1.220563e+06</td>\n",
       "      <td>1.220563e+06</td>\n",
       "      <td>1.220563e+06</td>\n",
       "      <td>1.220563e+06</td>\n",
       "    </tr>\n",
       "    <tr>\n",
       "      <th>mean</th>\n",
       "      <td>1.430699e+01</td>\n",
       "      <td>2.722224e+00</td>\n",
       "      <td>1.346557e+01</td>\n",
       "      <td>NaN</td>\n",
       "      <td>9.902565e+00</td>\n",
       "      <td>NaN</td>\n",
       "      <td>2.425153e+01</td>\n",
       "      <td>NaN</td>\n",
       "      <td>4.940911e+01</td>\n",
       "      <td>1.505921e+00</td>\n",
       "      <td>9.995078e+04</td>\n",
       "    </tr>\n",
       "    <tr>\n",
       "      <th>std</th>\n",
       "      <td>7.500883e+00</td>\n",
       "      <td>2.107448e+00</td>\n",
       "      <td>4.238409e+00</td>\n",
       "      <td>0.0</td>\n",
       "      <td>6.286188e+00</td>\n",
       "      <td>0.000000e+00</td>\n",
       "      <td>8.445893e+00</td>\n",
       "      <td>NaN</td>\n",
       "      <td>1.849700e+01</td>\n",
       "      <td>1.117941e+00</td>\n",
       "      <td>4.320261e+04</td>\n",
       "    </tr>\n",
       "    <tr>\n",
       "      <th>min</th>\n",
       "      <td>5.000000e+00</td>\n",
       "      <td>0.000000e+00</td>\n",
       "      <td>0.000000e+00</td>\n",
       "      <td>0.0</td>\n",
       "      <td>1.000000e+00</td>\n",
       "      <td>1.000000e+00</td>\n",
       "      <td>1.100000e+01</td>\n",
       "      <td>1.695312e+00</td>\n",
       "      <td>1.800000e+01</td>\n",
       "      <td>0.000000e+00</td>\n",
       "      <td>2.597200e+04</td>\n",
       "    </tr>\n",
       "    <tr>\n",
       "      <th>25%</th>\n",
       "      <td>8.000000e+00</td>\n",
       "      <td>1.000000e+00</td>\n",
       "      <td>1.000000e+01</td>\n",
       "      <td>6.0</td>\n",
       "      <td>4.000000e+00</td>\n",
       "      <td>4.199219e+00</td>\n",
       "      <td>1.700000e+01</td>\n",
       "      <td>7.398438e+00</td>\n",
       "      <td>3.300000e+01</td>\n",
       "      <td>1.000000e+00</td>\n",
       "      <td>6.758100e+04</td>\n",
       "    </tr>\n",
       "    <tr>\n",
       "      <th>50%</th>\n",
       "      <td>1.200000e+01</td>\n",
       "      <td>2.000000e+00</td>\n",
       "      <td>1.300000e+01</td>\n",
       "      <td>9.0</td>\n",
       "      <td>9.000000e+00</td>\n",
       "      <td>7.398438e+00</td>\n",
       "      <td>2.400000e+01</td>\n",
       "      <td>7.832031e+00</td>\n",
       "      <td>4.900000e+01</td>\n",
       "      <td>2.000000e+00</td>\n",
       "      <td>9.696800e+04</td>\n",
       "    </tr>\n",
       "    <tr>\n",
       "      <th>75%</th>\n",
       "      <td>1.900000e+01</td>\n",
       "      <td>5.000000e+00</td>\n",
       "      <td>1.600000e+01</td>\n",
       "      <td>16.0</td>\n",
       "      <td>1.600000e+01</td>\n",
       "      <td>1.129688e+01</td>\n",
       "      <td>3.100000e+01</td>\n",
       "      <td>8.257812e+00</td>\n",
       "      <td>6.500000e+01</td>\n",
       "      <td>3.000000e+00</td>\n",
       "      <td>1.285530e+05</td>\n",
       "    </tr>\n",
       "    <tr>\n",
       "      <th>max</th>\n",
       "      <td>3.900000e+01</td>\n",
       "      <td>6.000000e+00</td>\n",
       "      <td>2.300000e+01</td>\n",
       "      <td>30.0</td>\n",
       "      <td>2.100000e+01</td>\n",
       "      <td>2.500000e+01</td>\n",
       "      <td>4.000000e+01</td>\n",
       "      <td>1.500800e+04</td>\n",
       "      <td>8.100000e+01</td>\n",
       "      <td>3.000000e+00</td>\n",
       "      <td>5.910890e+05</td>\n",
       "    </tr>\n",
       "  </tbody>\n",
       "</table>\n",
       "</div>"
      ],
      "text/plain": [
       "       order_number  order_day_of_week  order_hour_of_day  \\\n",
       "count  1.220563e+06       1.220563e+06       1.220563e+06   \n",
       "mean   1.430699e+01       2.722224e+00       1.346557e+01   \n",
       "std    7.500883e+00       2.107448e+00       4.238409e+00   \n",
       "min    5.000000e+00       0.000000e+00       0.000000e+00   \n",
       "25%    8.000000e+00       1.000000e+00       1.000000e+01   \n",
       "50%    1.200000e+01       2.000000e+00       1.300000e+01   \n",
       "75%    1.900000e+01       5.000000e+00       1.600000e+01   \n",
       "max    3.900000e+01       6.000000e+00       2.300000e+01   \n",
       "\n",
       "       days_since_prior_order  department_id        prices     max_order  \\\n",
       "count               1220563.0   1.220563e+06  1.220563e+06  1.220563e+06   \n",
       "mean                      NaN   9.902565e+00           NaN  2.425153e+01   \n",
       "std                       0.0   6.286188e+00  0.000000e+00  8.445893e+00   \n",
       "min                       0.0   1.000000e+00  1.000000e+00  1.100000e+01   \n",
       "25%                       6.0   4.000000e+00  4.199219e+00  1.700000e+01   \n",
       "50%                       9.0   9.000000e+00  7.398438e+00  2.400000e+01   \n",
       "75%                      16.0   1.600000e+01  1.129688e+01  3.100000e+01   \n",
       "max                      30.0   2.100000e+01  2.500000e+01  4.000000e+01   \n",
       "\n",
       "       average_order           age  n_dependants        income  \n",
       "count   1.220563e+06  1.220563e+06  1.220563e+06  1.220563e+06  \n",
       "mean             NaN  4.940911e+01  1.505921e+00  9.995078e+04  \n",
       "std              NaN  1.849700e+01  1.117941e+00  4.320261e+04  \n",
       "min     1.695312e+00  1.800000e+01  0.000000e+00  2.597200e+04  \n",
       "25%     7.398438e+00  3.300000e+01  1.000000e+00  6.758100e+04  \n",
       "50%     7.832031e+00  4.900000e+01  2.000000e+00  9.696800e+04  \n",
       "75%     8.257812e+00  6.500000e+01  3.000000e+00  1.285530e+05  \n",
       "max     1.500800e+04  8.100000e+01  3.000000e+00  5.910890e+05  "
      ]
     },
     "execution_count": 179,
     "metadata": {},
     "output_type": "execute_result"
    }
   ],
   "source": [
    "# get info on regular customers\n",
    "df_regular.describe()"
   ]
  },
  {
   "cell_type": "code",
   "execution_count": 180,
   "id": "41d08337",
   "metadata": {
    "hidden": true
   },
   "outputs": [
    {
     "data": {
      "image/png": "[encoded data removed]",
      "text/plain": [
       "<Figure size 432x288 with 1 Axes>"
      ]
     },
     "metadata": {
      "needs_background": "light"
     },
     "output_type": "display_data"
    }
   ],
   "source": [
    "# regular customer hour of day\n",
    "regular_customer_times = df_regular['order_hour_of_day'].plot.hist(bins = 23)"
   ]
  },
  {
   "cell_type": "code",
   "execution_count": 182,
   "id": "dcf5d23d",
   "metadata": {
    "hidden": true
   },
   "outputs": [
    {
     "data": {
      "image/png": "[encoded data removed]",
      "text/plain": [
       "<Figure size 432x288 with 1 Axes>"
      ]
     },
     "metadata": {
      "needs_background": "light"
     },
     "output_type": "display_data"
    }
   ],
   "source": [
    "# regular customer day of week\n",
    "regular_customer_days = df_regular['order_day_of_week'].plot.hist(bins = 7)"
   ]
  },
  {
   "cell_type": "code",
   "execution_count": 183,
   "id": "a04ea435",
   "metadata": {
    "hidden": true,
    "scrolled": true
   },
   "outputs": [
    {
     "data": {
      "image/png": "[encoded data removed]",
      "text/plain": [
       "<Figure size 432x288 with 1 Axes>"
      ]
     },
     "metadata": {
      "needs_background": "light"
     },
     "output_type": "display_data"
    }
   ],
   "source": [
    "# regular customer spender\n",
    "regular_spender_bar = df_regular['spender'].value_counts().plot.bar(color = ['powderblue'])"
   ]
  },
  {
   "cell_type": "code",
   "execution_count": 184,
   "id": "4f144b8a",
   "metadata": {
    "hidden": true
   },
   "outputs": [],
   "source": [
    "# create data frame for new customer\n",
    "df_new = df4[df4['loyalty_flag']== 'New customer']"
   ]
  },
  {
   "cell_type": "code",
   "execution_count": 185,
   "id": "2174b5e3",
   "metadata": {
    "hidden": true
   },
   "outputs": [
    {
     "data": {
      "text/html": [
       "<div>\n",
       "<style scoped>\n",
       "    .dataframe tbody tr th:only-of-type {\n",
       "        vertical-align: middle;\n",
       "    }\n",
       "\n",
       "    .dataframe tbody tr th {\n",
       "        vertical-align: top;\n",
       "    }\n",
       "\n",
       "    .dataframe thead th {\n",
       "        text-align: right;\n",
       "    }\n",
       "</style>\n",
       "<table border=\"1\" class=\"dataframe\">\n",
       "  <thead>\n",
       "    <tr style=\"text-align: right;\">\n",
       "      <th></th>\n",
       "      <th>order_number</th>\n",
       "      <th>order_day_of_week</th>\n",
       "      <th>order_hour_of_day</th>\n",
       "      <th>days_since_prior_order</th>\n",
       "      <th>department_id</th>\n",
       "      <th>prices</th>\n",
       "      <th>max_order</th>\n",
       "      <th>average_order</th>\n",
       "      <th>age</th>\n",
       "      <th>n_dependants</th>\n",
       "      <th>income</th>\n",
       "    </tr>\n",
       "  </thead>\n",
       "  <tbody>\n",
       "    <tr>\n",
       "      <th>count</th>\n",
       "      <td>155571.000000</td>\n",
       "      <td>155571.000000</td>\n",
       "      <td>155571.000000</td>\n",
       "      <td>155571.0</td>\n",
       "      <td>155571.000000</td>\n",
       "      <td>155571.000000</td>\n",
       "      <td>155571.000000</td>\n",
       "      <td>155571.000000</td>\n",
       "      <td>155571.000000</td>\n",
       "      <td>155571.000000</td>\n",
       "      <td>155571.000000</td>\n",
       "    </tr>\n",
       "    <tr>\n",
       "      <th>mean</th>\n",
       "      <td>6.228526</td>\n",
       "      <td>2.696820</td>\n",
       "      <td>13.625110</td>\n",
       "      <td>NaN</td>\n",
       "      <td>9.882684</td>\n",
       "      <td>NaN</td>\n",
       "      <td>8.437434</td>\n",
       "      <td>NaN</td>\n",
       "      <td>49.516060</td>\n",
       "      <td>1.494797</td>\n",
       "      <td>97285.443560</td>\n",
       "    </tr>\n",
       "    <tr>\n",
       "      <th>std</th>\n",
       "      <td>1.218178</td>\n",
       "      <td>2.108667</td>\n",
       "      <td>4.190225</td>\n",
       "      <td>0.0</td>\n",
       "      <td>6.263793</td>\n",
       "      <td>0.000000</td>\n",
       "      <td>1.309156</td>\n",
       "      <td>NaN</td>\n",
       "      <td>18.573518</td>\n",
       "      <td>1.118011</td>\n",
       "      <td>41140.180531</td>\n",
       "    </tr>\n",
       "    <tr>\n",
       "      <th>min</th>\n",
       "      <td>5.000000</td>\n",
       "      <td>0.000000</td>\n",
       "      <td>0.000000</td>\n",
       "      <td>0.0</td>\n",
       "      <td>1.000000</td>\n",
       "      <td>1.000000</td>\n",
       "      <td>6.000000</td>\n",
       "      <td>1.400391</td>\n",
       "      <td>18.000000</td>\n",
       "      <td>0.000000</td>\n",
       "      <td>25903.000000</td>\n",
       "    </tr>\n",
       "    <tr>\n",
       "      <th>25%</th>\n",
       "      <td>5.000000</td>\n",
       "      <td>1.000000</td>\n",
       "      <td>11.000000</td>\n",
       "      <td>8.0</td>\n",
       "      <td>4.000000</td>\n",
       "      <td>4.199219</td>\n",
       "      <td>7.000000</td>\n",
       "      <td>7.320312</td>\n",
       "      <td>33.000000</td>\n",
       "      <td>0.000000</td>\n",
       "      <td>64810.000000</td>\n",
       "    </tr>\n",
       "    <tr>\n",
       "      <th>50%</th>\n",
       "      <td>6.000000</td>\n",
       "      <td>2.000000</td>\n",
       "      <td>14.000000</td>\n",
       "      <td>17.0</td>\n",
       "      <td>9.000000</td>\n",
       "      <td>7.398438</td>\n",
       "      <td>9.000000</td>\n",
       "      <td>7.824219</td>\n",
       "      <td>50.000000</td>\n",
       "      <td>1.000000</td>\n",
       "      <td>95604.000000</td>\n",
       "    </tr>\n",
       "    <tr>\n",
       "      <th>75%</th>\n",
       "      <td>7.000000</td>\n",
       "      <td>5.000000</td>\n",
       "      <td>17.000000</td>\n",
       "      <td>30.0</td>\n",
       "      <td>16.000000</td>\n",
       "      <td>11.296875</td>\n",
       "      <td>10.000000</td>\n",
       "      <td>8.312500</td>\n",
       "      <td>66.000000</td>\n",
       "      <td>2.000000</td>\n",
       "      <td>126738.000000</td>\n",
       "    </tr>\n",
       "    <tr>\n",
       "      <th>max</th>\n",
       "      <td>9.000000</td>\n",
       "      <td>6.000000</td>\n",
       "      <td>23.000000</td>\n",
       "      <td>30.0</td>\n",
       "      <td>21.000000</td>\n",
       "      <td>25.000000</td>\n",
       "      <td>10.000000</td>\n",
       "      <td>6388.000000</td>\n",
       "      <td>81.000000</td>\n",
       "      <td>3.000000</td>\n",
       "      <td>590790.000000</td>\n",
       "    </tr>\n",
       "  </tbody>\n",
       "</table>\n",
       "</div>"
      ],
      "text/plain": [
       "        order_number  order_day_of_week  order_hour_of_day  \\\n",
       "count  155571.000000      155571.000000      155571.000000   \n",
       "mean        6.228526           2.696820          13.625110   \n",
       "std         1.218178           2.108667           4.190225   \n",
       "min         5.000000           0.000000           0.000000   \n",
       "25%         5.000000           1.000000          11.000000   \n",
       "50%         6.000000           2.000000          14.000000   \n",
       "75%         7.000000           5.000000          17.000000   \n",
       "max         9.000000           6.000000          23.000000   \n",
       "\n",
       "       days_since_prior_order  department_id         prices      max_order  \\\n",
       "count                155571.0  155571.000000  155571.000000  155571.000000   \n",
       "mean                      NaN       9.882684            NaN       8.437434   \n",
       "std                       0.0       6.263793       0.000000       1.309156   \n",
       "min                       0.0       1.000000       1.000000       6.000000   \n",
       "25%                       8.0       4.000000       4.199219       7.000000   \n",
       "50%                      17.0       9.000000       7.398438       9.000000   \n",
       "75%                      30.0      16.000000      11.296875      10.000000   \n",
       "max                      30.0      21.000000      25.000000      10.000000   \n",
       "\n",
       "       average_order            age   n_dependants         income  \n",
       "count  155571.000000  155571.000000  155571.000000  155571.000000  \n",
       "mean             NaN      49.516060       1.494797   97285.443560  \n",
       "std              NaN      18.573518       1.118011   41140.180531  \n",
       "min         1.400391      18.000000       0.000000   25903.000000  \n",
       "25%         7.320312      33.000000       0.000000   64810.000000  \n",
       "50%         7.824219      50.000000       1.000000   95604.000000  \n",
       "75%         8.312500      66.000000       2.000000  126738.000000  \n",
       "max      6388.000000      81.000000       3.000000  590790.000000  "
      ]
     },
     "execution_count": 185,
     "metadata": {},
     "output_type": "execute_result"
    }
   ],
   "source": [
    "# get statistics on new customers\n",
    "df_new.describe()"
   ]
  },
  {
   "cell_type": "code",
   "execution_count": 186,
   "id": "8eeb952c",
   "metadata": {
    "hidden": true
   },
   "outputs": [
    {
     "data": {
      "image/png": "[encoded data removed]",
      "text/plain": [
       "<Figure size 432x288 with 1 Axes>"
      ]
     },
     "metadata": {
      "needs_background": "light"
     },
     "output_type": "display_data"
    }
   ],
   "source": [
    "# get hour of day for new customers\n",
    "new_customer_times = df_new['order_hour_of_day'].plot.hist(bins = 23)"
   ]
  },
  {
   "cell_type": "code",
   "execution_count": 188,
   "id": "58378cf7",
   "metadata": {
    "hidden": true
   },
   "outputs": [
    {
     "data": {
      "image/png": "[encoded data removed]",
      "text/plain": [
       "<Figure size 432x288 with 1 Axes>"
      ]
     },
     "metadata": {
      "needs_background": "light"
     },
     "output_type": "display_data"
    }
   ],
   "source": [
    "# get order day of week for regular customers\n",
    "new_customer_days = df_new['order_day_of_week'].plot.hist(bins = 7)"
   ]
  },
  {
   "cell_type": "code",
   "execution_count": 189,
   "id": "b6b33ad3",
   "metadata": {
    "hidden": true
   },
   "outputs": [
    {
     "data": {
      "image/png": "[encoded data removed]",
      "text/plain": [
       "<Figure size 432x288 with 1 Axes>"
      ]
     },
     "metadata": {
      "needs_background": "light"
     },
     "output_type": "display_data"
    }
   ],
   "source": [
    "# new customer spender\n",
    "new_spender_bar = df_new['spender'].value_counts().plot.bar(color = ['powderblue'])"
   ]
  },
  {
   "cell_type": "markdown",
   "id": "5cba08ac",
   "metadata": {
    "heading_collapsed": true
   },
   "source": [
    "# C. Are there differences in ordering habits based on a customer’s region?"
   ]
  },
  {
   "cell_type": "code",
   "execution_count": 123,
   "id": "e931876e",
   "metadata": {
    "hidden": true
   },
   "outputs": [
    {
     "data": {
      "image/png": "[encoded data removed]",
      "text/plain": [
       "<Figure size 432x288 with 1 Axes>"
      ]
     },
     "metadata": {
      "needs_background": "light"
     },
     "output_type": "display_data"
    }
   ],
   "source": [
    "bar_region = df4['region'].value_counts().sort_index().plot.bar(color = ['lightgray'])"
   ]
  },
  {
   "cell_type": "code",
   "execution_count": 124,
   "id": "913e5865",
   "metadata": {
    "hidden": true
   },
   "outputs": [],
   "source": [
    "bar_region.figure.savefig(os.path.join(path, '04 Analysis', 'Visualizations', 'bar_region.png'))"
   ]
  },
  {
   "cell_type": "code",
   "execution_count": 192,
   "id": "f3c6ebb7",
   "metadata": {
    "hidden": true
   },
   "outputs": [],
   "source": [
    "# create crosstab for regions and spenders\n",
    "crosstab_region_spender = pd.crosstab(df4['region'], df4['spender'], dropna = False)"
   ]
  },
  {
   "cell_type": "code",
   "execution_count": 193,
   "id": "c9eefcbb",
   "metadata": {
    "hidden": true
   },
   "outputs": [
    {
     "data": {
      "text/html": [
       "<div>\n",
       "<style scoped>\n",
       "    .dataframe tbody tr th:only-of-type {\n",
       "        vertical-align: middle;\n",
       "    }\n",
       "\n",
       "    .dataframe tbody tr th {\n",
       "        vertical-align: top;\n",
       "    }\n",
       "\n",
       "    .dataframe thead th {\n",
       "        text-align: right;\n",
       "    }\n",
       "</style>\n",
       "<table border=\"1\" class=\"dataframe\">\n",
       "  <thead>\n",
       "    <tr style=\"text-align: right;\">\n",
       "      <th>spender</th>\n",
       "      <th>High Spender</th>\n",
       "      <th>Low Spender</th>\n",
       "    </tr>\n",
       "    <tr>\n",
       "      <th>region</th>\n",
       "      <th></th>\n",
       "      <th></th>\n",
       "    </tr>\n",
       "  </thead>\n",
       "  <tbody>\n",
       "    <tr>\n",
       "      <th>Region 1</th>\n",
       "      <td>7651</td>\n",
       "      <td>401890</td>\n",
       "    </tr>\n",
       "    <tr>\n",
       "      <th>Region 2</th>\n",
       "      <td>11444</td>\n",
       "      <td>528901</td>\n",
       "    </tr>\n",
       "    <tr>\n",
       "      <th>Region 3</th>\n",
       "      <td>14765</td>\n",
       "      <td>753237</td>\n",
       "    </tr>\n",
       "    <tr>\n",
       "      <th>Region 4</th>\n",
       "      <td>11212</td>\n",
       "      <td>579048</td>\n",
       "    </tr>\n",
       "  </tbody>\n",
       "</table>\n",
       "</div>"
      ],
      "text/plain": [
       "spender   High Spender  Low Spender\n",
       "region                             \n",
       "Region 1          7651       401890\n",
       "Region 2         11444       528901\n",
       "Region 3         14765       753237\n",
       "Region 4         11212       579048"
      ]
     },
     "execution_count": 193,
     "metadata": {},
     "output_type": "execute_result"
    }
   ],
   "source": [
    "# look at crosstab\n",
    "crosstab_region_spender.head()"
   ]
  },
  {
   "cell_type": "code",
   "execution_count": 196,
   "id": "be570c40",
   "metadata": {
    "hidden": true
   },
   "outputs": [],
   "source": [
    "# look at crosstab for regions and loyalty\n",
    "crosstab_region_loyalty = pd.crosstab(df4['region'], df4['loyalty_flag'], dropna = False)"
   ]
  },
  {
   "cell_type": "code",
   "execution_count": 197,
   "id": "b4b06609",
   "metadata": {
    "hidden": true
   },
   "outputs": [
    {
     "data": {
      "text/html": [
       "<div>\n",
       "<style scoped>\n",
       "    .dataframe tbody tr th:only-of-type {\n",
       "        vertical-align: middle;\n",
       "    }\n",
       "\n",
       "    .dataframe tbody tr th {\n",
       "        vertical-align: top;\n",
       "    }\n",
       "\n",
       "    .dataframe thead th {\n",
       "        text-align: right;\n",
       "    }\n",
       "</style>\n",
       "<table border=\"1\" class=\"dataframe\">\n",
       "  <thead>\n",
       "    <tr style=\"text-align: right;\">\n",
       "      <th>loyalty_flag</th>\n",
       "      <th>Loyal customer</th>\n",
       "      <th>New customer</th>\n",
       "      <th>Regular customer</th>\n",
       "    </tr>\n",
       "    <tr>\n",
       "      <th>region</th>\n",
       "      <th></th>\n",
       "      <th></th>\n",
       "      <th></th>\n",
       "    </tr>\n",
       "  </thead>\n",
       "  <tbody>\n",
       "    <tr>\n",
       "      <th>Region 1</th>\n",
       "      <td>167128</td>\n",
       "      <td>27464</td>\n",
       "      <td>214949</td>\n",
       "    </tr>\n",
       "    <tr>\n",
       "      <th>Region 2</th>\n",
       "      <td>215318</td>\n",
       "      <td>36183</td>\n",
       "      <td>288844</td>\n",
       "    </tr>\n",
       "    <tr>\n",
       "      <th>Region 3</th>\n",
       "      <td>307873</td>\n",
       "      <td>51865</td>\n",
       "      <td>408264</td>\n",
       "    </tr>\n",
       "    <tr>\n",
       "      <th>Region 4</th>\n",
       "      <td>241695</td>\n",
       "      <td>40059</td>\n",
       "      <td>308506</td>\n",
       "    </tr>\n",
       "  </tbody>\n",
       "</table>\n",
       "</div>"
      ],
      "text/plain": [
       "loyalty_flag  Loyal customer  New customer  Regular customer\n",
       "region                                                      \n",
       "Region 1              167128         27464            214949\n",
       "Region 2              215318         36183            288844\n",
       "Region 3              307873         51865            408264\n",
       "Region 4              241695         40059            308506"
      ]
     },
     "execution_count": 197,
     "metadata": {},
     "output_type": "execute_result"
    }
   ],
   "source": [
    "# look at crosstab\n",
    "crosstab_region_loyalty.head()"
   ]
  },
  {
   "cell_type": "markdown",
   "id": "3cea86db",
   "metadata": {
    "hidden": true
   },
   "source": [
    "Region 3 has the most total customers, both in high spenders, low spenders, and loyal customers. It's followed by region 4 and then region 1. They have similar ratios of high to low spenrs, all fallling around 2 percent. In terms of the split of regular to loyal to new, they are also similar. About 50-54 percent are regular, 6 percent are new, and 40 percent are loyal. "
   ]
  },
  {
   "cell_type": "code",
   "execution_count": 198,
   "id": "6d13b735",
   "metadata": {
    "hidden": true
   },
   "outputs": [],
   "source": [
    "# copy crosstab\n",
    "crosstab_region_loyalty.to_clipboard()"
   ]
  },
  {
   "cell_type": "markdown",
   "id": "127bb88e",
   "metadata": {
    "heading_collapsed": true
   },
   "source": [
    "# D. Is there a connection between age and family status in terms of ordering habits?"
   ]
  },
  {
   "cell_type": "markdown",
   "id": "1e4e0022",
   "metadata": {
    "hidden": true
   },
   "source": [
    "One thing I've come across with this exercise is ordering habits is very broad. There are many factors I could examine (departments, number of orders, spending, loyalty, time of day, day of week etc.) Since I am looking at over 20 combinations of age/family status, I decided to go with some very broad categories to see if there were major differences."
   ]
  },
  {
   "cell_type": "code",
   "execution_count": 222,
   "id": "66da1a3e",
   "metadata": {
    "hidden": true
   },
   "outputs": [],
   "source": [
    "# create crosstab for age range and loyalty\n",
    "crosstab_age_range_loyalty = pd.crosstab(df4['age_range'], df4['loyalty_flag'], dropna = False)"
   ]
  },
  {
   "cell_type": "code",
   "execution_count": 224,
   "id": "71620710",
   "metadata": {
    "hidden": true
   },
   "outputs": [
    {
     "data": {
      "text/html": [
       "<div>\n",
       "<style scoped>\n",
       "    .dataframe tbody tr th:only-of-type {\n",
       "        vertical-align: middle;\n",
       "    }\n",
       "\n",
       "    .dataframe tbody tr th {\n",
       "        vertical-align: top;\n",
       "    }\n",
       "\n",
       "    .dataframe thead th {\n",
       "        text-align: right;\n",
       "    }\n",
       "</style>\n",
       "<table border=\"1\" class=\"dataframe\">\n",
       "  <thead>\n",
       "    <tr style=\"text-align: right;\">\n",
       "      <th>loyalty_flag</th>\n",
       "      <th>Loyal customer</th>\n",
       "      <th>New customer</th>\n",
       "      <th>Regular customer</th>\n",
       "    </tr>\n",
       "    <tr>\n",
       "      <th>age_range</th>\n",
       "      <th></th>\n",
       "      <th></th>\n",
       "      <th></th>\n",
       "    </tr>\n",
       "  </thead>\n",
       "  <tbody>\n",
       "    <tr>\n",
       "      <th>18-30</th>\n",
       "      <td>186018</td>\n",
       "      <td>32245</td>\n",
       "      <td>250629</td>\n",
       "    </tr>\n",
       "    <tr>\n",
       "      <th>31-40</th>\n",
       "      <td>146898</td>\n",
       "      <td>23346</td>\n",
       "      <td>191765</td>\n",
       "    </tr>\n",
       "    <tr>\n",
       "      <th>41-50</th>\n",
       "      <td>146955</td>\n",
       "      <td>24281</td>\n",
       "      <td>190451</td>\n",
       "    </tr>\n",
       "    <tr>\n",
       "      <th>51-60</th>\n",
       "      <td>146029</td>\n",
       "      <td>24365</td>\n",
       "      <td>190138</td>\n",
       "    </tr>\n",
       "    <tr>\n",
       "      <th>61-70</th>\n",
       "      <td>145616</td>\n",
       "      <td>24192</td>\n",
       "      <td>187258</td>\n",
       "    </tr>\n",
       "    <tr>\n",
       "      <th>71-81</th>\n",
       "      <td>160498</td>\n",
       "      <td>27142</td>\n",
       "      <td>210322</td>\n",
       "    </tr>\n",
       "  </tbody>\n",
       "</table>\n",
       "</div>"
      ],
      "text/plain": [
       "loyalty_flag  Loyal customer  New customer  Regular customer\n",
       "age_range                                                   \n",
       "18-30                 186018         32245            250629\n",
       "31-40                 146898         23346            191765\n",
       "41-50                 146955         24281            190451\n",
       "51-60                 146029         24365            190138\n",
       "61-70                 145616         24192            187258\n",
       "71-81                 160498         27142            210322"
      ]
     },
     "execution_count": 224,
     "metadata": {},
     "output_type": "execute_result"
    }
   ],
   "source": [
    "# look at crosstab\n",
    "crosstab_age_range_loyalty.head(7)"
   ]
  },
  {
   "cell_type": "code",
   "execution_count": 235,
   "id": "d8f5d418",
   "metadata": {
    "hidden": true
   },
   "outputs": [],
   "source": [
    "# copy crosstab\n",
    "crosstab_age_range_loyalty.to_clipboard()"
   ]
  },
  {
   "cell_type": "code",
   "execution_count": 228,
   "id": "8413aae9",
   "metadata": {
    "hidden": true
   },
   "outputs": [],
   "source": [
    "# create crosstab for family status and loyalty\n",
    "crosstab_fam_status_loyalty = pd.crosstab(df4['fam_status'], df4['loyalty_flag'], dropna = False)"
   ]
  },
  {
   "cell_type": "code",
   "execution_count": 229,
   "id": "d1c714a7",
   "metadata": {
    "hidden": true
   },
   "outputs": [
    {
     "data": {
      "text/html": [
       "<div>\n",
       "<style scoped>\n",
       "    .dataframe tbody tr th:only-of-type {\n",
       "        vertical-align: middle;\n",
       "    }\n",
       "\n",
       "    .dataframe tbody tr th {\n",
       "        vertical-align: top;\n",
       "    }\n",
       "\n",
       "    .dataframe thead th {\n",
       "        text-align: right;\n",
       "    }\n",
       "</style>\n",
       "<table border=\"1\" class=\"dataframe\">\n",
       "  <thead>\n",
       "    <tr style=\"text-align: right;\">\n",
       "      <th>loyalty_flag</th>\n",
       "      <th>Loyal customer</th>\n",
       "      <th>New customer</th>\n",
       "      <th>Regular customer</th>\n",
       "    </tr>\n",
       "    <tr>\n",
       "      <th>fam_status</th>\n",
       "      <th></th>\n",
       "      <th></th>\n",
       "      <th></th>\n",
       "    </tr>\n",
       "  </thead>\n",
       "  <tbody>\n",
       "    <tr>\n",
       "      <th>divorced/widowed</th>\n",
       "      <td>80370</td>\n",
       "      <td>13179</td>\n",
       "      <td>105103</td>\n",
       "    </tr>\n",
       "    <tr>\n",
       "      <th>living with parents and siblings</th>\n",
       "      <td>44354</td>\n",
       "      <td>7124</td>\n",
       "      <td>59340</td>\n",
       "    </tr>\n",
       "    <tr>\n",
       "      <th>married</th>\n",
       "      <td>653230</td>\n",
       "      <td>109309</td>\n",
       "      <td>858225</td>\n",
       "    </tr>\n",
       "    <tr>\n",
       "      <th>single</th>\n",
       "      <td>154060</td>\n",
       "      <td>25959</td>\n",
       "      <td>197895</td>\n",
       "    </tr>\n",
       "  </tbody>\n",
       "</table>\n",
       "</div>"
      ],
      "text/plain": [
       "loyalty_flag                      Loyal customer  New customer  \\\n",
       "fam_status                                                       \n",
       "divorced/widowed                           80370         13179   \n",
       "living with parents and siblings           44354          7124   \n",
       "married                                   653230        109309   \n",
       "single                                    154060         25959   \n",
       "\n",
       "loyalty_flag                      Regular customer  \n",
       "fam_status                                          \n",
       "divorced/widowed                            105103  \n",
       "living with parents and siblings             59340  \n",
       "married                                     858225  \n",
       "single                                      197895  "
      ]
     },
     "execution_count": 229,
     "metadata": {},
     "output_type": "execute_result"
    }
   ],
   "source": [
    "# look at crosstab\n",
    "crosstab_fam_status_loyalty.head(7)"
   ]
  },
  {
   "cell_type": "code",
   "execution_count": 230,
   "id": "b180811a",
   "metadata": {
    "hidden": true
   },
   "outputs": [],
   "source": [
    "# create crosstab for age and spender\n",
    "crosstab_age_spender = pd.crosstab(df4['age_range'], df4['spender'], dropna = False)"
   ]
  },
  {
   "cell_type": "code",
   "execution_count": 237,
   "id": "85a8b6ee",
   "metadata": {
    "hidden": true
   },
   "outputs": [],
   "source": [
    "# copy to clipboard\n",
    "crosstab_fam_status_loyalty.to_clipboard()"
   ]
  },
  {
   "cell_type": "code",
   "execution_count": 231,
   "id": "2a045ea5",
   "metadata": {
    "hidden": true
   },
   "outputs": [
    {
     "data": {
      "text/html": [
       "<div>\n",
       "<style scoped>\n",
       "    .dataframe tbody tr th:only-of-type {\n",
       "        vertical-align: middle;\n",
       "    }\n",
       "\n",
       "    .dataframe tbody tr th {\n",
       "        vertical-align: top;\n",
       "    }\n",
       "\n",
       "    .dataframe thead th {\n",
       "        text-align: right;\n",
       "    }\n",
       "</style>\n",
       "<table border=\"1\" class=\"dataframe\">\n",
       "  <thead>\n",
       "    <tr style=\"text-align: right;\">\n",
       "      <th>spender</th>\n",
       "      <th>High Spender</th>\n",
       "      <th>Low Spender</th>\n",
       "    </tr>\n",
       "    <tr>\n",
       "      <th>age_range</th>\n",
       "      <th></th>\n",
       "      <th></th>\n",
       "    </tr>\n",
       "  </thead>\n",
       "  <tbody>\n",
       "    <tr>\n",
       "      <th>18-30</th>\n",
       "      <td>8438</td>\n",
       "      <td>460454</td>\n",
       "    </tr>\n",
       "    <tr>\n",
       "      <th>31-40</th>\n",
       "      <td>6863</td>\n",
       "      <td>355146</td>\n",
       "    </tr>\n",
       "    <tr>\n",
       "      <th>41-50</th>\n",
       "      <td>8099</td>\n",
       "      <td>353588</td>\n",
       "    </tr>\n",
       "    <tr>\n",
       "      <th>51-60</th>\n",
       "      <td>6826</td>\n",
       "      <td>353706</td>\n",
       "    </tr>\n",
       "    <tr>\n",
       "      <th>61-70</th>\n",
       "      <td>7410</td>\n",
       "      <td>349656</td>\n",
       "    </tr>\n",
       "    <tr>\n",
       "      <th>71-81</th>\n",
       "      <td>7436</td>\n",
       "      <td>390526</td>\n",
       "    </tr>\n",
       "  </tbody>\n",
       "</table>\n",
       "</div>"
      ],
      "text/plain": [
       "spender    High Spender  Low Spender\n",
       "age_range                           \n",
       "18-30              8438       460454\n",
       "31-40              6863       355146\n",
       "41-50              8099       353588\n",
       "51-60              6826       353706\n",
       "61-70              7410       349656\n",
       "71-81              7436       390526"
      ]
     },
     "execution_count": 231,
     "metadata": {},
     "output_type": "execute_result"
    }
   ],
   "source": [
    "# look at crosstab\n",
    "crosstab_age_spender.head(7)"
   ]
  },
  {
   "cell_type": "code",
   "execution_count": 238,
   "id": "fb01430e",
   "metadata": {
    "hidden": true
   },
   "outputs": [],
   "source": [
    "# copy to clipboard\n",
    "crosstab_age_spender.to_clipboard()"
   ]
  },
  {
   "cell_type": "code",
   "execution_count": 233,
   "id": "0597f82d",
   "metadata": {
    "hidden": true
   },
   "outputs": [],
   "source": [
    "# create crosstab for family status and spending\n",
    "crosstab_fam_spender = pd.crosstab(df4['fam_status'], df4['spender'], dropna = False)"
   ]
  },
  {
   "cell_type": "code",
   "execution_count": 234,
   "id": "28ee471b",
   "metadata": {
    "hidden": true
   },
   "outputs": [
    {
     "data": {
      "text/html": [
       "<div>\n",
       "<style scoped>\n",
       "    .dataframe tbody tr th:only-of-type {\n",
       "        vertical-align: middle;\n",
       "    }\n",
       "\n",
       "    .dataframe tbody tr th {\n",
       "        vertical-align: top;\n",
       "    }\n",
       "\n",
       "    .dataframe thead th {\n",
       "        text-align: right;\n",
       "    }\n",
       "</style>\n",
       "<table border=\"1\" class=\"dataframe\">\n",
       "  <thead>\n",
       "    <tr style=\"text-align: right;\">\n",
       "      <th>spender</th>\n",
       "      <th>High Spender</th>\n",
       "      <th>Low Spender</th>\n",
       "    </tr>\n",
       "    <tr>\n",
       "      <th>fam_status</th>\n",
       "      <th></th>\n",
       "      <th></th>\n",
       "    </tr>\n",
       "  </thead>\n",
       "  <tbody>\n",
       "    <tr>\n",
       "      <th>divorced/widowed</th>\n",
       "      <td>3960</td>\n",
       "      <td>194692</td>\n",
       "    </tr>\n",
       "    <tr>\n",
       "      <th>living with parents and siblings</th>\n",
       "      <td>2170</td>\n",
       "      <td>108648</td>\n",
       "    </tr>\n",
       "    <tr>\n",
       "      <th>married</th>\n",
       "      <td>31710</td>\n",
       "      <td>1589054</td>\n",
       "    </tr>\n",
       "    <tr>\n",
       "      <th>single</th>\n",
       "      <td>7232</td>\n",
       "      <td>370682</td>\n",
       "    </tr>\n",
       "  </tbody>\n",
       "</table>\n",
       "</div>"
      ],
      "text/plain": [
       "spender                           High Spender  Low Spender\n",
       "fam_status                                                 \n",
       "divorced/widowed                          3960       194692\n",
       "living with parents and siblings          2170       108648\n",
       "married                                  31710      1589054\n",
       "single                                    7232       370682"
      ]
     },
     "execution_count": 234,
     "metadata": {},
     "output_type": "execute_result"
    }
   ],
   "source": [
    "# look at crosstab\n",
    "crosstab_fam_spender.head(7)"
   ]
  },
  {
   "cell_type": "code",
   "execution_count": 239,
   "id": "1f4375c0",
   "metadata": {
    "hidden": true
   },
   "outputs": [],
   "source": [
    "# copy to clipboard\n",
    "crosstab_fam_spender.to_clipboard()"
   ]
  },
  {
   "cell_type": "markdown",
   "id": "237b1c93",
   "metadata": {
    "hidden": true
   },
   "source": [
    "I did an analysis of loyalty status and spending habbits. In all of the categories of age range and family status, we got very similar answer and percentage rates."
   ]
  },
  {
   "cell_type": "markdown",
   "id": "4cc826ff",
   "metadata": {},
   "source": [
    "# E. What different classifications does the demographic information suggest? Age? Income? Certain types of goods? Family status?"
   ]
  },
  {
   "cell_type": "markdown",
   "id": "be3e683a",
   "metadata": {},
   "source": [
    "The different demographic information suggests classifications based on age, income, family status etc. We can look at what age ranges, types of family units, and income brackets do in turms of their purchasing behavior. We can also learn about them from what they purchase (ie whether they have pets, young kids, how health conscious they are etc.)"
   ]
  },
  {
   "cell_type": "markdown",
   "id": "3581656b",
   "metadata": {
    "heading_collapsed": true
   },
   "source": [
    "# F. What differences can you find in ordering habits of different customer profiles? Consider the price of orders, the frequency of orders, the products customers are ordering, and anything else you can think of."
   ]
  },
  {
   "cell_type": "code",
   "execution_count": 400,
   "id": "3413598b",
   "metadata": {
    "hidden": true
   },
   "outputs": [],
   "source": [
    "# look at profiles, delete not enough data profiles\n",
    "df5 = df4[df4.age_fam_dep != 'Not enough data']"
   ]
  },
  {
   "cell_type": "code",
   "execution_count": 401,
   "id": "01354ec5",
   "metadata": {
    "hidden": true
   },
   "outputs": [],
   "source": [
    "# create crosstab for profiles and spenders\n",
    "crosstab_profile_spender = pd.crosstab(df5['age_fam_dep'], df5['spender'], dropna = False)"
   ]
  },
  {
   "cell_type": "code",
   "execution_count": 402,
   "id": "97515dfe",
   "metadata": {
    "hidden": true
   },
   "outputs": [
    {
     "data": {
      "text/plain": [
       "<matplotlib.legend.Legend at 0x1feb4c35a90>"
      ]
     },
     "execution_count": 402,
     "metadata": {},
     "output_type": "execute_result"
    },
    {
     "data": {
      "image/png": "[encoded data removed]",
      "text/plain": [
       "<Figure size 432x288 with 1 Axes>"
      ]
     },
     "metadata": {
      "needs_background": "light"
     },
     "output_type": "display_data"
    }
   ],
   "source": [
    "# Create a stacked bar of profile/spend\n",
    "stacked_profile_spender = crosstab_profile_spender.plot(kind = 'bar', stacked = True)\n",
    "plp.legend(loc='right', bbox_to_anchor=(1.5, 0.50))"
   ]
  },
  {
   "cell_type": "code",
   "execution_count": 403,
   "id": "197eea49",
   "metadata": {
    "hidden": true
   },
   "outputs": [],
   "source": [
    "# create crosstabe for profile loyalty\n",
    "crosstab_profile_loyalty = pd.crosstab(df5['age_fam_dep'], df5['loyalty_flag'], dropna = False)"
   ]
  },
  {
   "cell_type": "code",
   "execution_count": 404,
   "id": "36bf1bf9",
   "metadata": {
    "hidden": true
   },
   "outputs": [
    {
     "data": {
      "text/plain": [
       "<matplotlib.legend.Legend at 0x2003ebc0100>"
      ]
     },
     "execution_count": 404,
     "metadata": {},
     "output_type": "execute_result"
    },
    {
     "data": {
      "image/png": "[encoded data removed]",
      "text/plain": [
       "<Figure size 432x288 with 1 Axes>"
      ]
     },
     "metadata": {
      "needs_background": "light"
     },
     "output_type": "display_data"
    }
   ],
   "source": [
    "# Create a stacked bar of profile/spend\n",
    "stacked_profile_loyalty = crosstab_profile_loyalty.plot(kind = 'bar', stacked = True)\n",
    "plp.legend(loc='right', bbox_to_anchor=(1.5, 0.50))"
   ]
  },
  {
   "cell_type": "code",
   "execution_count": 405,
   "id": "12372e45",
   "metadata": {
    "hidden": true
   },
   "outputs": [],
   "source": [
    "# create crosstab for profiles and departments\n",
    "crosstab_profile_departments = pd.crosstab(df5['age_fam_dep'], df5['department'], dropna = False)"
   ]
  },
  {
   "cell_type": "code",
   "execution_count": 406,
   "id": "4eb2ccff",
   "metadata": {
    "hidden": true
   },
   "outputs": [
    {
     "data": {
      "text/plain": [
       "<matplotlib.legend.Legend at 0x1fe929452e0>"
      ]
     },
     "execution_count": 406,
     "metadata": {},
     "output_type": "execute_result"
    },
    {
     "data": {
      "image/png": "[encoded data removed]",
      "text/plain": [
       "<Figure size 432x288 with 1 Axes>"
      ]
     },
     "metadata": {
      "needs_background": "light"
     },
     "output_type": "display_data"
    }
   ],
   "source": [
    "# Create a stacked bar of profile/spend\n",
    "stacked_profile_departments = crosstab_profile_departments.plot(kind = 'bar', stacked = True)\n",
    "plp.legend(loc='right', bbox_to_anchor=(1.5, 0.50))"
   ]
  },
  {
   "cell_type": "code",
   "execution_count": 432,
   "id": "3c515357",
   "metadata": {
    "hidden": true
   },
   "outputs": [],
   "source": [
    "# create column for sum of orders\n",
    "crosstab_profile_max_order = pd.crosstab(df5['age_fam_dep'], df5['max_order'], dropna = False)"
   ]
  },
  {
   "cell_type": "code",
   "execution_count": 411,
   "id": "7327f9b2",
   "metadata": {
    "hidden": true
   },
   "outputs": [
    {
     "name": "stderr",
     "output_type": "stream",
     "text": [
      "C:\\Users\\eserc\\AppData\\Local\\Temp\\ipykernel_8532\\4041585852.py:1: SettingWithCopyWarning: \n",
      "A value is trying to be set on a copy of a slice from a DataFrame.\n",
      "Try using .loc[row_indexer,col_indexer] = value instead\n",
      "\n",
      "See the caveats in the documentation: https://pandas.pydata.org/pandas-docs/stable/user_guide/indexing.html#returning-a-view-versus-a-copy\n",
      "  df5['order_sum'] = df5.groupby('order_id').agg({'prices': ['sum']})\n"
     ]
    }
   ],
   "source": [
    "# create column for sum of orders\n",
    "df5['order_sum'] = df5.groupby('order_id').agg({'prices': ['sum']})"
   ]
  },
  {
   "cell_type": "code",
   "execution_count": 431,
   "id": "fc9ba7b2",
   "metadata": {
    "hidden": true
   },
   "outputs": [
    {
     "data": {
      "text/plain": [
       "count    223.000000\n",
       "mean      36.312500\n",
       "std       33.531250\n",
       "min        1.299805\n",
       "25%       11.703125\n",
       "50%       25.093750\n",
       "75%       52.125000\n",
       "max      184.000000\n",
       "Name: order_sum, dtype: float64"
      ]
     },
     "execution_count": 431,
     "metadata": {},
     "output_type": "execute_result"
    }
   ],
   "source": [
    "# calculate the sum of orders\n",
    "df5['order_sum'].describe()"
   ]
  },
  {
   "cell_type": "code",
   "execution_count": 413,
   "id": "a3c5fdef",
   "metadata": {
    "hidden": true
   },
   "outputs": [
    {
     "data": {
      "text/html": [
       "<div>\n",
       "<style scoped>\n",
       "    .dataframe tbody tr th:only-of-type {\n",
       "        vertical-align: middle;\n",
       "    }\n",
       "\n",
       "    .dataframe tbody tr th {\n",
       "        vertical-align: top;\n",
       "    }\n",
       "\n",
       "    .dataframe thead tr th {\n",
       "        text-align: left;\n",
       "    }\n",
       "\n",
       "    .dataframe thead tr:last-of-type th {\n",
       "        text-align: right;\n",
       "    }\n",
       "</style>\n",
       "<table border=\"1\" class=\"dataframe\">\n",
       "  <thead>\n",
       "    <tr>\n",
       "      <th></th>\n",
       "      <th>order_sum</th>\n",
       "    </tr>\n",
       "    <tr>\n",
       "      <th></th>\n",
       "      <th>mean</th>\n",
       "    </tr>\n",
       "    <tr>\n",
       "      <th>age_fam_dep</th>\n",
       "      <th></th>\n",
       "    </tr>\n",
       "  </thead>\n",
       "  <tbody>\n",
       "    <tr>\n",
       "      <th>Middle Age Married Parent</th>\n",
       "      <td>48.562500</td>\n",
       "    </tr>\n",
       "    <tr>\n",
       "      <th>Older Divorced</th>\n",
       "      <td>41.781250</td>\n",
       "    </tr>\n",
       "    <tr>\n",
       "      <th>Young Married Parent</th>\n",
       "      <td>30.031250</td>\n",
       "    </tr>\n",
       "    <tr>\n",
       "      <th>Young Single</th>\n",
       "      <td>30.281250</td>\n",
       "    </tr>\n",
       "    <tr>\n",
       "      <th>Young Single At Home</th>\n",
       "      <td>30.078125</td>\n",
       "    </tr>\n",
       "  </tbody>\n",
       "</table>\n",
       "</div>"
      ],
      "text/plain": [
       "                           order_sum\n",
       "                                mean\n",
       "age_fam_dep                         \n",
       "Middle Age Married Parent  48.562500\n",
       "Older Divorced             41.781250\n",
       "Young Married Parent       30.031250\n",
       "Young Single               30.281250\n",
       "Young Single At Home       30.078125"
      ]
     },
     "execution_count": 413,
     "metadata": {},
     "output_type": "execute_result"
    }
   ],
   "source": [
    "# create gropu for average order cost and profile\n",
    "df5.groupby('age_fam_dep').agg({'order_sum': ['mean']})"
   ]
  },
  {
   "cell_type": "code",
   "execution_count": 415,
   "id": "7706a533",
   "metadata": {
    "hidden": true
   },
   "outputs": [
    {
     "data": {
      "text/html": [
       "<div>\n",
       "<style scoped>\n",
       "    .dataframe tbody tr th:only-of-type {\n",
       "        vertical-align: middle;\n",
       "    }\n",
       "\n",
       "    .dataframe tbody tr th {\n",
       "        vertical-align: top;\n",
       "    }\n",
       "\n",
       "    .dataframe thead tr th {\n",
       "        text-align: left;\n",
       "    }\n",
       "\n",
       "    .dataframe thead tr:last-of-type th {\n",
       "        text-align: right;\n",
       "    }\n",
       "</style>\n",
       "<table border=\"1\" class=\"dataframe\">\n",
       "  <thead>\n",
       "    <tr>\n",
       "      <th></th>\n",
       "      <th>days_since_prior_order</th>\n",
       "    </tr>\n",
       "    <tr>\n",
       "      <th></th>\n",
       "      <th>mean</th>\n",
       "    </tr>\n",
       "    <tr>\n",
       "      <th>age_fam_dep</th>\n",
       "      <th></th>\n",
       "    </tr>\n",
       "  </thead>\n",
       "  <tbody>\n",
       "    <tr>\n",
       "      <th>Middle Age Married Parent</th>\n",
       "      <td>10.125000</td>\n",
       "    </tr>\n",
       "    <tr>\n",
       "      <th>Older Divorced</th>\n",
       "      <td>10.015625</td>\n",
       "    </tr>\n",
       "    <tr>\n",
       "      <th>Young Married Parent</th>\n",
       "      <td>10.125000</td>\n",
       "    </tr>\n",
       "    <tr>\n",
       "      <th>Young Single</th>\n",
       "      <td>10.273438</td>\n",
       "    </tr>\n",
       "    <tr>\n",
       "      <th>Young Single At Home</th>\n",
       "      <td>10.085938</td>\n",
       "    </tr>\n",
       "  </tbody>\n",
       "</table>\n",
       "</div>"
      ],
      "text/plain": [
       "                          days_since_prior_order\n",
       "                                            mean\n",
       "age_fam_dep                                     \n",
       "Middle Age Married Parent              10.125000\n",
       "Older Divorced                         10.015625\n",
       "Young Married Parent                   10.125000\n",
       "Young Single                           10.273438\n",
       "Young Single At Home                   10.085938"
      ]
     },
     "execution_count": 415,
     "metadata": {},
     "output_type": "execute_result"
    }
   ],
   "source": [
    "# create group for average space between orders and profiles\n",
    "df5.groupby('age_fam_dep').agg({'days_since_prior_order': ['mean']})"
   ]
  },
  {
   "cell_type": "code",
   "execution_count": 416,
   "id": "70c1b150",
   "metadata": {
    "hidden": true
   },
   "outputs": [
    {
     "data": {
      "text/html": [
       "<div>\n",
       "<style scoped>\n",
       "    .dataframe tbody tr th:only-of-type {\n",
       "        vertical-align: middle;\n",
       "    }\n",
       "\n",
       "    .dataframe tbody tr th {\n",
       "        vertical-align: top;\n",
       "    }\n",
       "\n",
       "    .dataframe thead tr th {\n",
       "        text-align: left;\n",
       "    }\n",
       "\n",
       "    .dataframe thead tr:last-of-type th {\n",
       "        text-align: right;\n",
       "    }\n",
       "</style>\n",
       "<table border=\"1\" class=\"dataframe\">\n",
       "  <thead>\n",
       "    <tr>\n",
       "      <th></th>\n",
       "      <th>max_order</th>\n",
       "    </tr>\n",
       "    <tr>\n",
       "      <th></th>\n",
       "      <th>mean</th>\n",
       "    </tr>\n",
       "    <tr>\n",
       "      <th>age_fam_dep</th>\n",
       "      <th></th>\n",
       "    </tr>\n",
       "  </thead>\n",
       "  <tbody>\n",
       "    <tr>\n",
       "      <th>Middle Age Married Parent</th>\n",
       "      <td>39.12500</td>\n",
       "    </tr>\n",
       "    <tr>\n",
       "      <th>Older Divorced</th>\n",
       "      <td>39.84375</td>\n",
       "    </tr>\n",
       "    <tr>\n",
       "      <th>Young Married Parent</th>\n",
       "      <td>39.00000</td>\n",
       "    </tr>\n",
       "    <tr>\n",
       "      <th>Young Single</th>\n",
       "      <td>38.75000</td>\n",
       "    </tr>\n",
       "    <tr>\n",
       "      <th>Young Single At Home</th>\n",
       "      <td>39.81250</td>\n",
       "    </tr>\n",
       "  </tbody>\n",
       "</table>\n",
       "</div>"
      ],
      "text/plain": [
       "                          max_order\n",
       "                               mean\n",
       "age_fam_dep                        \n",
       "Middle Age Married Parent  39.12500\n",
       "Older Divorced             39.84375\n",
       "Young Married Parent       39.00000\n",
       "Young Single               38.75000\n",
       "Young Single At Home       39.81250"
      ]
     },
     "execution_count": 416,
     "metadata": {},
     "output_type": "execute_result"
    }
   ],
   "source": [
    "# create group for avg max order among \n",
    "df5.groupby('age_fam_dep').agg({'max_order': ['mean']})"
   ]
  },
  {
   "cell_type": "markdown",
   "id": "ee56b8e2",
   "metadata": {
    "heading_collapsed": true
   },
   "source": [
    "# Export Data"
   ]
  },
  {
   "cell_type": "code",
   "execution_count": null,
   "id": "5c1a980e",
   "metadata": {
    "hidden": true
   },
   "outputs": [],
   "source": [
    "#export to pickle\n",
    "\n",
    "df4.to_pickle(os.path.join(path, '02 Data', 'Prepared Data', 'ords_prods_large_10.pkl'))"
   ]
  }
 ],
 "metadata": {
  "kernelspec": {
   "display_name": "Python 3 (ipykernel)",
   "language": "python",
   "name": "python3"
  },
  "language_info": {
   "codemirror_mode": {
    "name": "ipython",
    "version": 3
   },
   "file_extension": ".py",
   "mimetype": "text/x-python",
   "name": "python",
   "nbconvert_exporter": "python",
   "pygments_lexer": "ipython3",
   "version": "3.9.12"
  },
  "toc": {
   "base_numbering": 1,
   "nav_menu": {},
   "number_sections": true,
   "sideBar": true,
   "skip_h1_title": false,
   "title_cell": "Table of Contents",
   "title_sidebar": "Contents",
   "toc_cell": false,
   "toc_position": {},
   "toc_section_display": true,
   "toc_window_display": false
  }
 },
 "nbformat": 4,
 "nbformat_minor": 5
}

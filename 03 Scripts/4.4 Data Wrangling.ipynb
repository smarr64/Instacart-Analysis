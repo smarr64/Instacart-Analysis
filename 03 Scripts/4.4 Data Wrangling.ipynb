{
 "cells": [
  {
   "cell_type": "markdown",
   "id": "ca750d97",
   "metadata": {},
   "source": [
    "# Table of Contents\n",
    "## 1. Data Import and Checks\n",
    "## 2. Data Wrangling\n",
    "## 3. Data Wrangling Questions\n",
    "## 4. Export Data"
   ]
  },
  {
   "cell_type": "markdown",
   "id": "dac04dcf",
   "metadata": {},
   "source": [
    "# 1. Data Import and Checks"
   ]
  },
  {
   "cell_type": "code",
   "execution_count": 2,
   "id": "b978d722",
   "metadata": {},
   "outputs": [],
   "source": [
    "# import libraries\n",
    "import pandas as pd\n",
    "import numpy as np\n",
    "import os"
   ]
  },
  {
   "cell_type": "code",
   "execution_count": 3,
   "id": "cbcdb53e",
   "metadata": {},
   "outputs": [],
   "source": [
    "# create path\n",
    "path = r'C:\\Users\\18602\\Documents\\Data Analytics\\Data Immersion\\Month 4\\Instacart Basket Analysis'"
   ]
  },
  {
   "cell_type": "code",
   "execution_count": 4,
   "id": "29896744",
   "metadata": {},
   "outputs": [],
   "source": [
    "# importing dataset products \n",
    "df_prods = pd.read_csv(os.path.join(path, '02 Data', 'Original Data', 'products.csv'), index_col = False)"
   ]
  },
  {
   "cell_type": "code",
   "execution_count": 5,
   "id": "e93becab",
   "metadata": {},
   "outputs": [],
   "source": [
    "# importing dataset departments \n",
    "df_dep = pd.read_csv(os.path.join(path, '02 Data', 'Original Data', 'departments.csv'), index_col = False)"
   ]
  },
  {
   "cell_type": "code",
   "execution_count": 6,
   "id": "b251310d",
   "metadata": {},
   "outputs": [],
   "source": [
    "# importing dataset orders \n",
    "df_ords = pd.read_csv(os.path.join(path, '02 Data', 'Original Data', 'orders.csv'), index_col = False)"
   ]
  },
  {
   "cell_type": "markdown",
   "id": "51adefe3",
   "metadata": {},
   "source": [
    "# 2. Data Wrangling"
   ]
  },
  {
   "cell_type": "code",
   "execution_count": 7,
   "id": "d7f85900",
   "metadata": {},
   "outputs": [],
   "source": [
    "# dropping eval_set from df_ords\n",
    "df_ords = df_ords.drop(columns = ['eval_set'])"
   ]
  },
  {
   "cell_type": "code",
   "execution_count": 8,
   "id": "a737c198",
   "metadata": {},
   "outputs": [],
   "source": [
    "# Renaming order dow to order day of week\n",
    "df_ords.rename(columns = {'order_dow' : 'order_day_of_week'}, inplace = True)"
   ]
  },
  {
   "cell_type": "code",
   "execution_count": 9,
   "id": "dbb8259d",
   "metadata": {},
   "outputs": [],
   "source": [
    "# change order_id to a string\n",
    "df_ords['order_id'] = df_ords['order_id'].astype('str')"
   ]
  },
  {
   "cell_type": "code",
   "execution_count": 10,
   "id": "9dbf1eb6",
   "metadata": {},
   "outputs": [],
   "source": [
    "# Transposing df_def \n",
    "df_dep_t = df_dep.T"
   ]
  },
  {
   "cell_type": "code",
   "execution_count": 11,
   "id": "6988fbdf",
   "metadata": {},
   "outputs": [
    {
     "data": {
      "text/html": [
       "<div>\n",
       "<style scoped>\n",
       "    .dataframe tbody tr th:only-of-type {\n",
       "        vertical-align: middle;\n",
       "    }\n",
       "\n",
       "    .dataframe tbody tr th {\n",
       "        vertical-align: top;\n",
       "    }\n",
       "\n",
       "    .dataframe thead th {\n",
       "        text-align: right;\n",
       "    }\n",
       "</style>\n",
       "<table border=\"1\" class=\"dataframe\">\n",
       "  <thead>\n",
       "    <tr style=\"text-align: right;\">\n",
       "      <th></th>\n",
       "      <th>index</th>\n",
       "      <th>0</th>\n",
       "    </tr>\n",
       "  </thead>\n",
       "  <tbody>\n",
       "    <tr>\n",
       "      <th>0</th>\n",
       "      <td>department_id</td>\n",
       "      <td>department</td>\n",
       "    </tr>\n",
       "    <tr>\n",
       "      <th>1</th>\n",
       "      <td>1</td>\n",
       "      <td>frozen</td>\n",
       "    </tr>\n",
       "    <tr>\n",
       "      <th>2</th>\n",
       "      <td>2</td>\n",
       "      <td>other</td>\n",
       "    </tr>\n",
       "    <tr>\n",
       "      <th>3</th>\n",
       "      <td>3</td>\n",
       "      <td>bakery</td>\n",
       "    </tr>\n",
       "    <tr>\n",
       "      <th>4</th>\n",
       "      <td>4</td>\n",
       "      <td>produce</td>\n",
       "    </tr>\n",
       "    <tr>\n",
       "      <th>5</th>\n",
       "      <td>5</td>\n",
       "      <td>alcohol</td>\n",
       "    </tr>\n",
       "    <tr>\n",
       "      <th>6</th>\n",
       "      <td>6</td>\n",
       "      <td>international</td>\n",
       "    </tr>\n",
       "    <tr>\n",
       "      <th>7</th>\n",
       "      <td>7</td>\n",
       "      <td>beverages</td>\n",
       "    </tr>\n",
       "    <tr>\n",
       "      <th>8</th>\n",
       "      <td>8</td>\n",
       "      <td>pets</td>\n",
       "    </tr>\n",
       "    <tr>\n",
       "      <th>9</th>\n",
       "      <td>9</td>\n",
       "      <td>dry goods pasta</td>\n",
       "    </tr>\n",
       "    <tr>\n",
       "      <th>10</th>\n",
       "      <td>10</td>\n",
       "      <td>bulk</td>\n",
       "    </tr>\n",
       "    <tr>\n",
       "      <th>11</th>\n",
       "      <td>11</td>\n",
       "      <td>personal care</td>\n",
       "    </tr>\n",
       "    <tr>\n",
       "      <th>12</th>\n",
       "      <td>12</td>\n",
       "      <td>meat seafood</td>\n",
       "    </tr>\n",
       "    <tr>\n",
       "      <th>13</th>\n",
       "      <td>13</td>\n",
       "      <td>pantry</td>\n",
       "    </tr>\n",
       "    <tr>\n",
       "      <th>14</th>\n",
       "      <td>14</td>\n",
       "      <td>breakfast</td>\n",
       "    </tr>\n",
       "    <tr>\n",
       "      <th>15</th>\n",
       "      <td>15</td>\n",
       "      <td>canned goods</td>\n",
       "    </tr>\n",
       "    <tr>\n",
       "      <th>16</th>\n",
       "      <td>16</td>\n",
       "      <td>dairy eggs</td>\n",
       "    </tr>\n",
       "    <tr>\n",
       "      <th>17</th>\n",
       "      <td>17</td>\n",
       "      <td>household</td>\n",
       "    </tr>\n",
       "    <tr>\n",
       "      <th>18</th>\n",
       "      <td>18</td>\n",
       "      <td>babies</td>\n",
       "    </tr>\n",
       "    <tr>\n",
       "      <th>19</th>\n",
       "      <td>19</td>\n",
       "      <td>snacks</td>\n",
       "    </tr>\n",
       "    <tr>\n",
       "      <th>20</th>\n",
       "      <td>20</td>\n",
       "      <td>deli</td>\n",
       "    </tr>\n",
       "    <tr>\n",
       "      <th>21</th>\n",
       "      <td>21</td>\n",
       "      <td>missing</td>\n",
       "    </tr>\n",
       "  </tbody>\n",
       "</table>\n",
       "</div>"
      ],
      "text/plain": [
       "            index                0\n",
       "0   department_id       department\n",
       "1               1           frozen\n",
       "2               2            other\n",
       "3               3           bakery\n",
       "4               4          produce\n",
       "5               5          alcohol\n",
       "6               6    international\n",
       "7               7        beverages\n",
       "8               8             pets\n",
       "9               9  dry goods pasta\n",
       "10             10             bulk\n",
       "11             11    personal care\n",
       "12             12     meat seafood\n",
       "13             13           pantry\n",
       "14             14        breakfast\n",
       "15             15     canned goods\n",
       "16             16       dairy eggs\n",
       "17             17        household\n",
       "18             18           babies\n",
       "19             19           snacks\n",
       "20             20             deli\n",
       "21             21          missing"
      ]
     },
     "execution_count": 11,
     "metadata": {},
     "output_type": "execute_result"
    }
   ],
   "source": [
    "# Resetting Index\n",
    "df_dep_t.reset_index()"
   ]
  },
  {
   "cell_type": "code",
   "execution_count": 12,
   "id": "84e5794a",
   "metadata": {},
   "outputs": [],
   "source": [
    "# Take the first row of df_dep_t and make it the header\n",
    "new_header = df_dep_t.iloc[0]"
   ]
  },
  {
   "cell_type": "code",
   "execution_count": 13,
   "id": "3b0b1d33",
   "metadata": {},
   "outputs": [],
   "source": [
    "# Create a new df starting at row 1\n",
    "df_dep_t_new = df_dep_t[1:]"
   ]
  },
  {
   "cell_type": "code",
   "execution_count": 14,
   "id": "4f3c1292",
   "metadata": {},
   "outputs": [],
   "source": [
    "# Combine header with df_dep_t_new\n",
    "df_dep_t_new.columns = new_header"
   ]
  },
  {
   "cell_type": "code",
   "execution_count": 15,
   "id": "82792afe",
   "metadata": {},
   "outputs": [
    {
     "data": {
      "text/html": [
       "<div>\n",
       "<style scoped>\n",
       "    .dataframe tbody tr th:only-of-type {\n",
       "        vertical-align: middle;\n",
       "    }\n",
       "\n",
       "    .dataframe tbody tr th {\n",
       "        vertical-align: top;\n",
       "    }\n",
       "\n",
       "    .dataframe thead th {\n",
       "        text-align: right;\n",
       "    }\n",
       "</style>\n",
       "<table border=\"1\" class=\"dataframe\">\n",
       "  <thead>\n",
       "    <tr style=\"text-align: right;\">\n",
       "      <th>department_id</th>\n",
       "      <th>department</th>\n",
       "    </tr>\n",
       "  </thead>\n",
       "  <tbody>\n",
       "    <tr>\n",
       "      <th>1</th>\n",
       "      <td>frozen</td>\n",
       "    </tr>\n",
       "    <tr>\n",
       "      <th>2</th>\n",
       "      <td>other</td>\n",
       "    </tr>\n",
       "    <tr>\n",
       "      <th>3</th>\n",
       "      <td>bakery</td>\n",
       "    </tr>\n",
       "    <tr>\n",
       "      <th>4</th>\n",
       "      <td>produce</td>\n",
       "    </tr>\n",
       "    <tr>\n",
       "      <th>5</th>\n",
       "      <td>alcohol</td>\n",
       "    </tr>\n",
       "    <tr>\n",
       "      <th>6</th>\n",
       "      <td>international</td>\n",
       "    </tr>\n",
       "    <tr>\n",
       "      <th>7</th>\n",
       "      <td>beverages</td>\n",
       "    </tr>\n",
       "    <tr>\n",
       "      <th>8</th>\n",
       "      <td>pets</td>\n",
       "    </tr>\n",
       "    <tr>\n",
       "      <th>9</th>\n",
       "      <td>dry goods pasta</td>\n",
       "    </tr>\n",
       "    <tr>\n",
       "      <th>10</th>\n",
       "      <td>bulk</td>\n",
       "    </tr>\n",
       "    <tr>\n",
       "      <th>11</th>\n",
       "      <td>personal care</td>\n",
       "    </tr>\n",
       "    <tr>\n",
       "      <th>12</th>\n",
       "      <td>meat seafood</td>\n",
       "    </tr>\n",
       "    <tr>\n",
       "      <th>13</th>\n",
       "      <td>pantry</td>\n",
       "    </tr>\n",
       "    <tr>\n",
       "      <th>14</th>\n",
       "      <td>breakfast</td>\n",
       "    </tr>\n",
       "    <tr>\n",
       "      <th>15</th>\n",
       "      <td>canned goods</td>\n",
       "    </tr>\n",
       "    <tr>\n",
       "      <th>16</th>\n",
       "      <td>dairy eggs</td>\n",
       "    </tr>\n",
       "    <tr>\n",
       "      <th>17</th>\n",
       "      <td>household</td>\n",
       "    </tr>\n",
       "    <tr>\n",
       "      <th>18</th>\n",
       "      <td>babies</td>\n",
       "    </tr>\n",
       "    <tr>\n",
       "      <th>19</th>\n",
       "      <td>snacks</td>\n",
       "    </tr>\n",
       "    <tr>\n",
       "      <th>20</th>\n",
       "      <td>deli</td>\n",
       "    </tr>\n",
       "    <tr>\n",
       "      <th>21</th>\n",
       "      <td>missing</td>\n",
       "    </tr>\n",
       "  </tbody>\n",
       "</table>\n",
       "</div>"
      ],
      "text/plain": [
       "department_id       department\n",
       "1                       frozen\n",
       "2                        other\n",
       "3                       bakery\n",
       "4                      produce\n",
       "5                      alcohol\n",
       "6                international\n",
       "7                    beverages\n",
       "8                         pets\n",
       "9              dry goods pasta\n",
       "10                        bulk\n",
       "11               personal care\n",
       "12                meat seafood\n",
       "13                      pantry\n",
       "14                   breakfast\n",
       "15                canned goods\n",
       "16                  dairy eggs\n",
       "17                   household\n",
       "18                      babies\n",
       "19                      snacks\n",
       "20                        deli\n",
       "21                     missing"
      ]
     },
     "execution_count": 15,
     "metadata": {},
     "output_type": "execute_result"
    }
   ],
   "source": [
    "# create new dataframe for dep\n",
    "df_dep_t_new"
   ]
  },
  {
   "cell_type": "code",
   "execution_count": 16,
   "id": "94e05888",
   "metadata": {},
   "outputs": [],
   "source": [
    "# create a data dictionary for product deparments\n",
    "data_dict = df_dep_t_new.to_dict('index')"
   ]
  },
  {
   "cell_type": "code",
   "execution_count": 17,
   "id": "95c9db0e",
   "metadata": {},
   "outputs": [],
   "source": [
    "#create dataframe for department 19 'snacks'\n",
    "df_snacks =  df_prods[df_prods['department_id']==19]"
   ]
  },
  {
   "cell_type": "code",
   "execution_count": 18,
   "id": "81b6f336",
   "metadata": {},
   "outputs": [],
   "source": [
    "#export df_ords\n",
    "df_ords.to_csv(os.path.join(path, '02 Data','Prepared Data', 'orders_wrangled.csv'))"
   ]
  },
  {
   "cell_type": "markdown",
   "id": "cac84674",
   "metadata": {},
   "source": [
    "# 3. Data Wrangling Questions"
   ]
  },
  {
   "cell_type": "code",
   "execution_count": 19,
   "id": "aaa4b754",
   "metadata": {},
   "outputs": [],
   "source": [
    "# Change user_id from a int to a str\n",
    "df_ords['user_id'] = df_ords['user_id'].astype('str')"
   ]
  },
  {
   "cell_type": "code",
   "execution_count": 20,
   "id": "37775302",
   "metadata": {},
   "outputs": [
    {
     "data": {
      "text/plain": [
       "dtype('O')"
      ]
     },
     "execution_count": 20,
     "metadata": {},
     "output_type": "execute_result"
    }
   ],
   "source": [
    "df_ords['user_id'].dtype"
   ]
  },
  {
   "cell_type": "code",
   "execution_count": 21,
   "id": "374dad73",
   "metadata": {},
   "outputs": [
    {
     "data": {
      "text/html": [
       "<div>\n",
       "<style scoped>\n",
       "    .dataframe tbody tr th:only-of-type {\n",
       "        vertical-align: middle;\n",
       "    }\n",
       "\n",
       "    .dataframe tbody tr th {\n",
       "        vertical-align: top;\n",
       "    }\n",
       "\n",
       "    .dataframe thead th {\n",
       "        text-align: right;\n",
       "    }\n",
       "</style>\n",
       "<table border=\"1\" class=\"dataframe\">\n",
       "  <thead>\n",
       "    <tr style=\"text-align: right;\">\n",
       "      <th></th>\n",
       "      <th>order_id</th>\n",
       "      <th>user_id</th>\n",
       "      <th>order_number</th>\n",
       "      <th>order_day_of_week</th>\n",
       "      <th>order_hour_of_day</th>\n",
       "      <th>days_since_last_order</th>\n",
       "    </tr>\n",
       "  </thead>\n",
       "  <tbody>\n",
       "    <tr>\n",
       "      <th>0</th>\n",
       "      <td>2539329</td>\n",
       "      <td>1</td>\n",
       "      <td>1</td>\n",
       "      <td>2</td>\n",
       "      <td>8</td>\n",
       "      <td>NaN</td>\n",
       "    </tr>\n",
       "    <tr>\n",
       "      <th>1</th>\n",
       "      <td>2398795</td>\n",
       "      <td>1</td>\n",
       "      <td>2</td>\n",
       "      <td>3</td>\n",
       "      <td>7</td>\n",
       "      <td>15.0</td>\n",
       "    </tr>\n",
       "    <tr>\n",
       "      <th>2</th>\n",
       "      <td>473747</td>\n",
       "      <td>1</td>\n",
       "      <td>3</td>\n",
       "      <td>3</td>\n",
       "      <td>12</td>\n",
       "      <td>21.0</td>\n",
       "    </tr>\n",
       "    <tr>\n",
       "      <th>3</th>\n",
       "      <td>2254736</td>\n",
       "      <td>1</td>\n",
       "      <td>4</td>\n",
       "      <td>4</td>\n",
       "      <td>7</td>\n",
       "      <td>29.0</td>\n",
       "    </tr>\n",
       "    <tr>\n",
       "      <th>4</th>\n",
       "      <td>431534</td>\n",
       "      <td>1</td>\n",
       "      <td>5</td>\n",
       "      <td>4</td>\n",
       "      <td>15</td>\n",
       "      <td>28.0</td>\n",
       "    </tr>\n",
       "    <tr>\n",
       "      <th>...</th>\n",
       "      <td>...</td>\n",
       "      <td>...</td>\n",
       "      <td>...</td>\n",
       "      <td>...</td>\n",
       "      <td>...</td>\n",
       "      <td>...</td>\n",
       "    </tr>\n",
       "    <tr>\n",
       "      <th>3421078</th>\n",
       "      <td>2266710</td>\n",
       "      <td>206209</td>\n",
       "      <td>10</td>\n",
       "      <td>5</td>\n",
       "      <td>18</td>\n",
       "      <td>29.0</td>\n",
       "    </tr>\n",
       "    <tr>\n",
       "      <th>3421079</th>\n",
       "      <td>1854736</td>\n",
       "      <td>206209</td>\n",
       "      <td>11</td>\n",
       "      <td>4</td>\n",
       "      <td>10</td>\n",
       "      <td>30.0</td>\n",
       "    </tr>\n",
       "    <tr>\n",
       "      <th>3421080</th>\n",
       "      <td>626363</td>\n",
       "      <td>206209</td>\n",
       "      <td>12</td>\n",
       "      <td>1</td>\n",
       "      <td>12</td>\n",
       "      <td>18.0</td>\n",
       "    </tr>\n",
       "    <tr>\n",
       "      <th>3421081</th>\n",
       "      <td>2977660</td>\n",
       "      <td>206209</td>\n",
       "      <td>13</td>\n",
       "      <td>1</td>\n",
       "      <td>12</td>\n",
       "      <td>7.0</td>\n",
       "    </tr>\n",
       "    <tr>\n",
       "      <th>3421082</th>\n",
       "      <td>272231</td>\n",
       "      <td>206209</td>\n",
       "      <td>14</td>\n",
       "      <td>6</td>\n",
       "      <td>14</td>\n",
       "      <td>30.0</td>\n",
       "    </tr>\n",
       "  </tbody>\n",
       "</table>\n",
       "<p>3421083 rows × 6 columns</p>\n",
       "</div>"
      ],
      "text/plain": [
       "        order_id user_id  order_number  order_day_of_week  order_hour_of_day  \\\n",
       "0        2539329       1             1                  2                  8   \n",
       "1        2398795       1             2                  3                  7   \n",
       "2         473747       1             3                  3                 12   \n",
       "3        2254736       1             4                  4                  7   \n",
       "4         431534       1             5                  4                 15   \n",
       "...          ...     ...           ...                ...                ...   \n",
       "3421078  2266710  206209            10                  5                 18   \n",
       "3421079  1854736  206209            11                  4                 10   \n",
       "3421080   626363  206209            12                  1                 12   \n",
       "3421081  2977660  206209            13                  1                 12   \n",
       "3421082   272231  206209            14                  6                 14   \n",
       "\n",
       "         days_since_last_order  \n",
       "0                          NaN  \n",
       "1                         15.0  \n",
       "2                         21.0  \n",
       "3                         29.0  \n",
       "4                         28.0  \n",
       "...                        ...  \n",
       "3421078                   29.0  \n",
       "3421079                   30.0  \n",
       "3421080                   18.0  \n",
       "3421081                    7.0  \n",
       "3421082                   30.0  \n",
       "\n",
       "[3421083 rows x 6 columns]"
      ]
     },
     "execution_count": 21,
     "metadata": {},
     "output_type": "execute_result"
    }
   ],
   "source": [
    "# Rename days_since_prior_order to days_since_last_order w/o overwriting\n",
    "df_ords.rename(columns = {'days_since_prior_order' : 'days_since_last_order'})"
   ]
  },
  {
   "cell_type": "code",
   "execution_count": 22,
   "id": "3e724fe0",
   "metadata": {},
   "outputs": [
    {
     "data": {
      "text/plain": [
       "10    288418\n",
       "11    284728\n",
       "15    283639\n",
       "14    283042\n",
       "13    277999\n",
       "12    272841\n",
       "16    272553\n",
       "9     257812\n",
       "17    228795\n",
       "18    182912\n",
       "8     178201\n",
       "19    140569\n",
       "20    104292\n",
       "7      91868\n",
       "21     78109\n",
       "22     61468\n",
       "23     40043\n",
       "6      30529\n",
       "0      22758\n",
       "1      12398\n",
       "5       9569\n",
       "2       7539\n",
       "4       5527\n",
       "3       5474\n",
       "Name: order_hour_of_day, dtype: int64"
      ]
     },
     "execution_count": 22,
     "metadata": {},
     "output_type": "execute_result"
    }
   ],
   "source": [
    "# order counts by time of day\n",
    "df_ords['order_hour_of_day'].value_counts(dropna = False)"
   ]
  },
  {
   "cell_type": "markdown",
   "id": "4b6fef55",
   "metadata": {},
   "source": [
    "Our busiest hour of the day for orders is 10am with a total of 288,418 orders"
   ]
  },
  {
   "cell_type": "code",
   "execution_count": 23,
   "id": "515135e9",
   "metadata": {},
   "outputs": [
    {
     "name": "stdout",
     "output_type": "stream",
     "text": [
      "{'department': 'produce'}\n"
     ]
    }
   ],
   "source": [
    "# Search section 4 \n",
    "print(data_dict.get('4'))"
   ]
  },
  {
   "cell_type": "markdown",
   "id": "4a1b764c",
   "metadata": {},
   "source": [
    "Department 4 is Produce"
   ]
  },
  {
   "cell_type": "code",
   "execution_count": 24,
   "id": "0345a0a9",
   "metadata": {},
   "outputs": [],
   "source": [
    "# created df_breakfast for breakfast foods\n",
    "df_breakfast =  df_prods[df_prods['department_id']==14]"
   ]
  },
  {
   "cell_type": "code",
   "execution_count": 25,
   "id": "ddcea811",
   "metadata": {},
   "outputs": [
    {
     "data": {
      "text/html": [
       "<div>\n",
       "<style scoped>\n",
       "    .dataframe tbody tr th:only-of-type {\n",
       "        vertical-align: middle;\n",
       "    }\n",
       "\n",
       "    .dataframe tbody tr th {\n",
       "        vertical-align: top;\n",
       "    }\n",
       "\n",
       "    .dataframe thead th {\n",
       "        text-align: right;\n",
       "    }\n",
       "</style>\n",
       "<table border=\"1\" class=\"dataframe\">\n",
       "  <thead>\n",
       "    <tr style=\"text-align: right;\">\n",
       "      <th></th>\n",
       "      <th>product_id</th>\n",
       "      <th>product_name</th>\n",
       "      <th>aisle_id</th>\n",
       "      <th>department_id</th>\n",
       "      <th>prices</th>\n",
       "    </tr>\n",
       "  </thead>\n",
       "  <tbody>\n",
       "    <tr>\n",
       "      <th>27</th>\n",
       "      <td>28</td>\n",
       "      <td>Wheat Chex Cereal</td>\n",
       "      <td>121</td>\n",
       "      <td>14</td>\n",
       "      <td>10.1</td>\n",
       "    </tr>\n",
       "    <tr>\n",
       "      <th>33</th>\n",
       "      <td>34</td>\n",
       "      <td>NaN</td>\n",
       "      <td>121</td>\n",
       "      <td>14</td>\n",
       "      <td>12.2</td>\n",
       "    </tr>\n",
       "    <tr>\n",
       "      <th>67</th>\n",
       "      <td>68</td>\n",
       "      <td>Pancake Mix, Buttermilk</td>\n",
       "      <td>130</td>\n",
       "      <td>14</td>\n",
       "      <td>13.7</td>\n",
       "    </tr>\n",
       "    <tr>\n",
       "      <th>89</th>\n",
       "      <td>90</td>\n",
       "      <td>Smorz Cereal</td>\n",
       "      <td>121</td>\n",
       "      <td>14</td>\n",
       "      <td>3.9</td>\n",
       "    </tr>\n",
       "    <tr>\n",
       "      <th>210</th>\n",
       "      <td>211</td>\n",
       "      <td>Gluten Free Organic Cereal Coconut Maple Vanilla</td>\n",
       "      <td>130</td>\n",
       "      <td>14</td>\n",
       "      <td>3.6</td>\n",
       "    </tr>\n",
       "  </tbody>\n",
       "</table>\n",
       "</div>"
      ],
      "text/plain": [
       "     product_id                                      product_name  aisle_id  \\\n",
       "27           28                                 Wheat Chex Cereal       121   \n",
       "33           34                                               NaN       121   \n",
       "67           68                           Pancake Mix, Buttermilk       130   \n",
       "89           90                                      Smorz Cereal       121   \n",
       "210         211  Gluten Free Organic Cereal Coconut Maple Vanilla       130   \n",
       "\n",
       "     department_id  prices  \n",
       "27              14    10.1  \n",
       "33              14    12.2  \n",
       "67              14    13.7  \n",
       "89              14     3.9  \n",
       "210             14     3.6  "
      ]
     },
     "execution_count": 25,
     "metadata": {},
     "output_type": "execute_result"
    }
   ],
   "source": [
    "df_breakfast.head()"
   ]
  },
  {
   "cell_type": "code",
   "execution_count": 26,
   "id": "9eb41c7a",
   "metadata": {},
   "outputs": [],
   "source": [
    "# dinner party data frame\n",
    "df_dinner_party = df_prods.loc[df_prods['department_id'].isin([5,7,12,20])]"
   ]
  },
  {
   "cell_type": "code",
   "execution_count": 27,
   "id": "78dd62e3",
   "metadata": {},
   "outputs": [
    {
     "data": {
      "text/plain": [
       "{'1': {'department': 'frozen'},\n",
       " '2': {'department': 'other'},\n",
       " '3': {'department': 'bakery'},\n",
       " '4': {'department': 'produce'},\n",
       " '5': {'department': 'alcohol'},\n",
       " '6': {'department': 'international'},\n",
       " '7': {'department': 'beverages'},\n",
       " '8': {'department': 'pets'},\n",
       " '9': {'department': 'dry goods pasta'},\n",
       " '10': {'department': 'bulk'},\n",
       " '11': {'department': 'personal care'},\n",
       " '12': {'department': 'meat seafood'},\n",
       " '13': {'department': 'pantry'},\n",
       " '14': {'department': 'breakfast'},\n",
       " '15': {'department': 'canned goods'},\n",
       " '16': {'department': 'dairy eggs'},\n",
       " '17': {'department': 'household'},\n",
       " '18': {'department': 'babies'},\n",
       " '19': {'department': 'snacks'},\n",
       " '20': {'department': 'deli'},\n",
       " '21': {'department': 'missing'}}"
      ]
     },
     "execution_count": 27,
     "metadata": {},
     "output_type": "execute_result"
    }
   ],
   "source": [
    "data_dict"
   ]
  },
  {
   "cell_type": "code",
   "execution_count": 28,
   "id": "867430df",
   "metadata": {},
   "outputs": [
    {
     "data": {
      "text/plain": [
       "<bound method DataFrame.info of        product_id                                    product_name  aisle_id  \\\n",
       "2               3            Robust Golden Unsweetened Oolong Tea        94   \n",
       "6               7                  Pure Coconut Water With Orange        98   \n",
       "9              10  Sparkling Orange Juice & Prickly Pear Beverage       115   \n",
       "10             11                               Peach Mango Juice        31   \n",
       "16             17                               Rendered Duck Fat        35   \n",
       "...           ...                                             ...       ...   \n",
       "49676       49672                          Cafe Mocha K-Cup Packs        26   \n",
       "49679       49675             Cinnamon Dolce Keurig Brewed K Cups        26   \n",
       "49680       49676                          Ultra Red Energy Drink        64   \n",
       "49686       49682                              California Limeade        98   \n",
       "49688       49684       Vodka, Triple Distilled, Twist of Vanilla       124   \n",
       "\n",
       "       department_id  prices  \n",
       "2                  7     4.5  \n",
       "6                  7     4.4  \n",
       "9                  7     8.4  \n",
       "10                 7     2.8  \n",
       "16                12    17.1  \n",
       "...              ...     ...  \n",
       "49676              7     6.5  \n",
       "49679              7    14.0  \n",
       "49680              7    14.5  \n",
       "49686              7     4.3  \n",
       "49688              5     5.3  \n",
       "\n",
       "[7650 rows x 5 columns]>"
      ]
     },
     "execution_count": 28,
     "metadata": {},
     "output_type": "execute_result"
    }
   ],
   "source": [
    "df_dinner_party.info"
   ]
  },
  {
   "cell_type": "markdown",
   "id": "ccd4f825",
   "metadata": {},
   "source": [
    "The df_dinner_party has 1750 rows"
   ]
  },
  {
   "cell_type": "code",
   "execution_count": 29,
   "id": "000f45d7",
   "metadata": {},
   "outputs": [],
   "source": [
    "# create user 1 data frame\n",
    "df_user_id_one = df_ords.loc[df_ords['user_id'] == \"1\"]"
   ]
  },
  {
   "cell_type": "code",
   "execution_count": 34,
   "id": "cc384dab",
   "metadata": {
    "scrolled": true
   },
   "outputs": [
    {
     "data": {
      "text/html": [
       "<div>\n",
       "<style scoped>\n",
       "    .dataframe tbody tr th:only-of-type {\n",
       "        vertical-align: middle;\n",
       "    }\n",
       "\n",
       "    .dataframe tbody tr th {\n",
       "        vertical-align: top;\n",
       "    }\n",
       "\n",
       "    .dataframe thead th {\n",
       "        text-align: right;\n",
       "    }\n",
       "</style>\n",
       "<table border=\"1\" class=\"dataframe\">\n",
       "  <thead>\n",
       "    <tr style=\"text-align: right;\">\n",
       "      <th></th>\n",
       "      <th>order_number</th>\n",
       "      <th>order_day_of_week</th>\n",
       "      <th>order_hour_of_day</th>\n",
       "      <th>days_since_prior_order</th>\n",
       "    </tr>\n",
       "  </thead>\n",
       "  <tbody>\n",
       "    <tr>\n",
       "      <th>count</th>\n",
       "      <td>11.000000</td>\n",
       "      <td>11.000000</td>\n",
       "      <td>11.000000</td>\n",
       "      <td>10.000000</td>\n",
       "    </tr>\n",
       "    <tr>\n",
       "      <th>mean</th>\n",
       "      <td>6.000000</td>\n",
       "      <td>2.636364</td>\n",
       "      <td>10.090909</td>\n",
       "      <td>19.000000</td>\n",
       "    </tr>\n",
       "    <tr>\n",
       "      <th>std</th>\n",
       "      <td>3.316625</td>\n",
       "      <td>1.286291</td>\n",
       "      <td>3.477198</td>\n",
       "      <td>9.030811</td>\n",
       "    </tr>\n",
       "    <tr>\n",
       "      <th>min</th>\n",
       "      <td>1.000000</td>\n",
       "      <td>1.000000</td>\n",
       "      <td>7.000000</td>\n",
       "      <td>0.000000</td>\n",
       "    </tr>\n",
       "    <tr>\n",
       "      <th>25%</th>\n",
       "      <td>3.500000</td>\n",
       "      <td>1.500000</td>\n",
       "      <td>7.500000</td>\n",
       "      <td>14.250000</td>\n",
       "    </tr>\n",
       "    <tr>\n",
       "      <th>50%</th>\n",
       "      <td>6.000000</td>\n",
       "      <td>3.000000</td>\n",
       "      <td>8.000000</td>\n",
       "      <td>19.500000</td>\n",
       "    </tr>\n",
       "    <tr>\n",
       "      <th>75%</th>\n",
       "      <td>8.500000</td>\n",
       "      <td>4.000000</td>\n",
       "      <td>13.000000</td>\n",
       "      <td>26.250000</td>\n",
       "    </tr>\n",
       "    <tr>\n",
       "      <th>max</th>\n",
       "      <td>11.000000</td>\n",
       "      <td>4.000000</td>\n",
       "      <td>16.000000</td>\n",
       "      <td>30.000000</td>\n",
       "    </tr>\n",
       "  </tbody>\n",
       "</table>\n",
       "</div>"
      ],
      "text/plain": [
       "       order_number  order_day_of_week  order_hour_of_day  \\\n",
       "count     11.000000          11.000000          11.000000   \n",
       "mean       6.000000           2.636364          10.090909   \n",
       "std        3.316625           1.286291           3.477198   \n",
       "min        1.000000           1.000000           7.000000   \n",
       "25%        3.500000           1.500000           7.500000   \n",
       "50%        6.000000           3.000000           8.000000   \n",
       "75%        8.500000           4.000000          13.000000   \n",
       "max       11.000000           4.000000          16.000000   \n",
       "\n",
       "       days_since_prior_order  \n",
       "count               10.000000  \n",
       "mean                19.000000  \n",
       "std                  9.030811  \n",
       "min                  0.000000  \n",
       "25%                 14.250000  \n",
       "50%                 19.500000  \n",
       "75%                 26.250000  \n",
       "max                 30.000000  "
      ]
     },
     "execution_count": 34,
     "metadata": {},
     "output_type": "execute_result"
    }
   ],
   "source": [
    "df_user_id_one.describe()"
   ]
  },
  {
   "cell_type": "code",
   "execution_count": null,
   "id": "1319bcaa",
   "metadata": {},
   "outputs": [],
   "source": [
    "user_id stats:\n",
    "-Total of 11 orders\n",
    "-Averages 19 days between orders\n",
    "-Orders happen from the 1st to 4th day of the week\n",
    "-Order happen from 7am to 3pm"
   ]
  },
  {
   "cell_type": "markdown",
   "id": "4c435b60",
   "metadata": {},
   "source": [
    "# 4. Export Data"
   ]
  },
  {
   "cell_type": "code",
   "execution_count": 136,
   "id": "74185572",
   "metadata": {},
   "outputs": [],
   "source": [
    "# export departments wrangled to csv\n",
    "df_dep_t_new.to_csv(os.path.join(path, '02 Data','Prepared Data', 'departments_wrangled.csv'))"
   ]
  },
  {
   "cell_type": "code",
   "execution_count": null,
   "id": "b268c132",
   "metadata": {},
   "outputs": [],
   "source": []
  }
 ],
 "metadata": {
  "kernelspec": {
   "display_name": "Python 3 (ipykernel)",
   "language": "python",
   "name": "python3"
  },
  "language_info": {
   "codemirror_mode": {
    "name": "ipython",
    "version": 3
   },
   "file_extension": ".py",
   "mimetype": "text/x-python",
   "name": "python",
   "nbconvert_exporter": "python",
   "pygments_lexer": "ipython3",
   "version": "3.9.12"
  }
 },
 "nbformat": 4,
 "nbformat_minor": 5
}

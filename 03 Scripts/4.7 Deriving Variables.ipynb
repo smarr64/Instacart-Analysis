{
 "cells": [
  {
   "cell_type": "markdown",
   "id": "e35d8cb6",
   "metadata": {},
   "source": [
    "# Table of Contents\n",
    "## 1. Data Import and Checks\n",
    "## 2. Create Price Ranges\n",
    "## 3. Create Busiest Day Flag\n",
    "## 4. Create Flag for Busiest Hours\n",
    "## 5. Export Data"
   ]
  },
  {
   "cell_type": "markdown",
   "id": "84a6483b",
   "metadata": {},
   "source": [
    "# 1. Data Import and Checks"
   ]
  },
  {
   "cell_type": "code",
   "execution_count": 12,
   "id": "bde32620",
   "metadata": {},
   "outputs": [],
   "source": [
    "# import libraries\n",
    "import pandas as pd\n",
    "import numpy as np\n",
    "import os"
   ]
  },
  {
   "cell_type": "code",
   "execution_count": 13,
   "id": "91c34060",
   "metadata": {},
   "outputs": [],
   "source": [
    "# create path \n",
    "path = r'C:\\Users\\18602\\Documents\\Data Analytics\\Data Immersion\\Month 4\\Instacart Basket Analysis'"
   ]
  },
  {
   "cell_type": "code",
   "execution_count": 16,
   "id": "998abc06",
   "metadata": {},
   "outputs": [],
   "source": [
    "# import order_products_combined\n",
    "df_ords_prods_combined = pd.read_pickle(os.path.join(path, '02 Data', 'Prepared Data', 'orders_products_combined_2.pkl'))"
   ]
  },
  {
   "cell_type": "code",
   "execution_count": 17,
   "id": "aebf86be",
   "metadata": {},
   "outputs": [
    {
     "data": {
      "text/html": [
       "<div>\n",
       "<style scoped>\n",
       "    .dataframe tbody tr th:only-of-type {\n",
       "        vertical-align: middle;\n",
       "    }\n",
       "\n",
       "    .dataframe tbody tr th {\n",
       "        vertical-align: top;\n",
       "    }\n",
       "\n",
       "    .dataframe thead th {\n",
       "        text-align: right;\n",
       "    }\n",
       "</style>\n",
       "<table border=\"1\" class=\"dataframe\">\n",
       "  <thead>\n",
       "    <tr style=\"text-align: right;\">\n",
       "      <th></th>\n",
       "      <th>Unnamed: 0_x</th>\n",
       "      <th>order_id</th>\n",
       "      <th>user_id</th>\n",
       "      <th>order_number</th>\n",
       "      <th>order_day_of_week</th>\n",
       "      <th>order_hour_of_day</th>\n",
       "      <th>days_since_prior_order</th>\n",
       "      <th>product_id</th>\n",
       "      <th>add_to_cart_order</th>\n",
       "      <th>reordered</th>\n",
       "      <th>_merge</th>\n",
       "      <th>Unnamed: 0_y</th>\n",
       "      <th>product_name</th>\n",
       "      <th>aisle_id</th>\n",
       "      <th>department_id</th>\n",
       "      <th>prices</th>\n",
       "    </tr>\n",
       "  </thead>\n",
       "  <tbody>\n",
       "    <tr>\n",
       "      <th>0</th>\n",
       "      <td>0.0</td>\n",
       "      <td>2539329.0</td>\n",
       "      <td>1.0</td>\n",
       "      <td>1.0</td>\n",
       "      <td>2.0</td>\n",
       "      <td>8.0</td>\n",
       "      <td>NaN</td>\n",
       "      <td>196.0</td>\n",
       "      <td>1.0</td>\n",
       "      <td>0.0</td>\n",
       "      <td>both</td>\n",
       "      <td>195.0</td>\n",
       "      <td>Soda</td>\n",
       "      <td>77.0</td>\n",
       "      <td>7.0</td>\n",
       "      <td>9.0</td>\n",
       "    </tr>\n",
       "    <tr>\n",
       "      <th>1</th>\n",
       "      <td>1.0</td>\n",
       "      <td>2398795.0</td>\n",
       "      <td>1.0</td>\n",
       "      <td>2.0</td>\n",
       "      <td>3.0</td>\n",
       "      <td>7.0</td>\n",
       "      <td>15.0</td>\n",
       "      <td>196.0</td>\n",
       "      <td>1.0</td>\n",
       "      <td>1.0</td>\n",
       "      <td>both</td>\n",
       "      <td>195.0</td>\n",
       "      <td>Soda</td>\n",
       "      <td>77.0</td>\n",
       "      <td>7.0</td>\n",
       "      <td>9.0</td>\n",
       "    </tr>\n",
       "    <tr>\n",
       "      <th>2</th>\n",
       "      <td>2.0</td>\n",
       "      <td>473747.0</td>\n",
       "      <td>1.0</td>\n",
       "      <td>3.0</td>\n",
       "      <td>3.0</td>\n",
       "      <td>12.0</td>\n",
       "      <td>21.0</td>\n",
       "      <td>196.0</td>\n",
       "      <td>1.0</td>\n",
       "      <td>1.0</td>\n",
       "      <td>both</td>\n",
       "      <td>195.0</td>\n",
       "      <td>Soda</td>\n",
       "      <td>77.0</td>\n",
       "      <td>7.0</td>\n",
       "      <td>9.0</td>\n",
       "    </tr>\n",
       "    <tr>\n",
       "      <th>3</th>\n",
       "      <td>3.0</td>\n",
       "      <td>2254736.0</td>\n",
       "      <td>1.0</td>\n",
       "      <td>4.0</td>\n",
       "      <td>4.0</td>\n",
       "      <td>7.0</td>\n",
       "      <td>29.0</td>\n",
       "      <td>196.0</td>\n",
       "      <td>1.0</td>\n",
       "      <td>1.0</td>\n",
       "      <td>both</td>\n",
       "      <td>195.0</td>\n",
       "      <td>Soda</td>\n",
       "      <td>77.0</td>\n",
       "      <td>7.0</td>\n",
       "      <td>9.0</td>\n",
       "    </tr>\n",
       "    <tr>\n",
       "      <th>4</th>\n",
       "      <td>4.0</td>\n",
       "      <td>431534.0</td>\n",
       "      <td>1.0</td>\n",
       "      <td>5.0</td>\n",
       "      <td>4.0</td>\n",
       "      <td>15.0</td>\n",
       "      <td>28.0</td>\n",
       "      <td>196.0</td>\n",
       "      <td>1.0</td>\n",
       "      <td>1.0</td>\n",
       "      <td>both</td>\n",
       "      <td>195.0</td>\n",
       "      <td>Soda</td>\n",
       "      <td>77.0</td>\n",
       "      <td>7.0</td>\n",
       "      <td>9.0</td>\n",
       "    </tr>\n",
       "  </tbody>\n",
       "</table>\n",
       "</div>"
      ],
      "text/plain": [
       "   Unnamed: 0_x   order_id  user_id  order_number  order_day_of_week  \\\n",
       "0           0.0  2539329.0      1.0           1.0                2.0   \n",
       "1           1.0  2398795.0      1.0           2.0                3.0   \n",
       "2           2.0   473747.0      1.0           3.0                3.0   \n",
       "3           3.0  2254736.0      1.0           4.0                4.0   \n",
       "4           4.0   431534.0      1.0           5.0                4.0   \n",
       "\n",
       "   order_hour_of_day  days_since_prior_order  product_id  add_to_cart_order  \\\n",
       "0                8.0                     NaN       196.0                1.0   \n",
       "1                7.0                    15.0       196.0                1.0   \n",
       "2               12.0                    21.0       196.0                1.0   \n",
       "3                7.0                    29.0       196.0                1.0   \n",
       "4               15.0                    28.0       196.0                1.0   \n",
       "\n",
       "   reordered _merge  Unnamed: 0_y product_name  aisle_id  department_id  \\\n",
       "0        0.0   both         195.0         Soda      77.0            7.0   \n",
       "1        1.0   both         195.0         Soda      77.0            7.0   \n",
       "2        1.0   both         195.0         Soda      77.0            7.0   \n",
       "3        1.0   both         195.0         Soda      77.0            7.0   \n",
       "4        1.0   both         195.0         Soda      77.0            7.0   \n",
       "\n",
       "   prices  \n",
       "0     9.0  \n",
       "1     9.0  \n",
       "2     9.0  \n",
       "3     9.0  \n",
       "4     9.0  "
      ]
     },
     "execution_count": 17,
     "metadata": {},
     "output_type": "execute_result"
    }
   ],
   "source": [
    "# Check new dataframe\n",
    "df_ords_prods_combined.head()"
   ]
  },
  {
   "cell_type": "code",
   "execution_count": 19,
   "id": "31c99221",
   "metadata": {},
   "outputs": [],
   "source": [
    "# Create a new subset\n",
    "df = df_ords_prods_combined[:1000000]"
   ]
  },
  {
   "cell_type": "code",
   "execution_count": 20,
   "id": "7ccd3dbc",
   "metadata": {},
   "outputs": [
    {
     "data": {
      "text/plain": [
       "(1000000, 16)"
      ]
     },
     "execution_count": 20,
     "metadata": {},
     "output_type": "execute_result"
    }
   ],
   "source": [
    "# Check new subset\n",
    "df.shape"
   ]
  },
  {
   "cell_type": "markdown",
   "id": "3b8cf1c6",
   "metadata": {},
   "source": [
    "# 2. Create Price Ranges"
   ]
  },
  {
   "cell_type": "code",
   "execution_count": 21,
   "id": "543f4369",
   "metadata": {},
   "outputs": [],
   "source": [
    "# create filter for high, mid, and low-range products\n",
    "\n",
    "def price_label(row):\n",
    "\n",
    "  if row['prices'] <= 5:\n",
    "    return 'Low-range product'\n",
    "  elif (row['prices'] > 5) and (row['prices'] <= 15):\n",
    "    return 'Mid-range product'\n",
    "  elif row['prices'] > 15:\n",
    "    return 'High range'\n",
    "  else: return 'Not enough data'"
   ]
  },
  {
   "cell_type": "code",
   "execution_count": 22,
   "id": "60b34862",
   "metadata": {},
   "outputs": [
    {
     "name": "stderr",
     "output_type": "stream",
     "text": [
      "C:\\Users\\18602\\AppData\\Local\\Temp\\ipykernel_15732\\2848743372.py:1: SettingWithCopyWarning: \n",
      "A value is trying to be set on a copy of a slice from a DataFrame.\n",
      "Try using .loc[row_indexer,col_indexer] = value instead\n",
      "\n",
      "See the caveats in the documentation: https://pandas.pydata.org/pandas-docs/stable/user_guide/indexing.html#returning-a-view-versus-a-copy\n",
      "  df['price_range'] = df.apply(price_label, axis=1)\n"
     ]
    }
   ],
   "source": [
    "# apply filter\n",
    "df['price_range'] = df.apply(price_label, axis=1)"
   ]
  },
  {
   "cell_type": "code",
   "execution_count": 23,
   "id": "b8a1b8c6",
   "metadata": {},
   "outputs": [
    {
     "data": {
      "text/plain": [
       "Mid-range product    581197\n",
       "Low-range product    212594\n",
       "Not enough data      206209\n",
       "Name: price_range, dtype: int64"
      ]
     },
     "execution_count": 23,
     "metadata": {},
     "output_type": "execute_result"
    }
   ],
   "source": [
    "# check filter\n",
    "\n",
    "df['price_range'].value_counts() "
   ]
  },
  {
   "cell_type": "code",
   "execution_count": 24,
   "id": "6950cffb",
   "metadata": {},
   "outputs": [
    {
     "data": {
      "text/plain": [
       "14.0"
      ]
     },
     "execution_count": 24,
     "metadata": {},
     "output_type": "execute_result"
    }
   ],
   "source": [
    "# check prices\n",
    "\n",
    "df['prices'].max()"
   ]
  },
  {
   "cell_type": "markdown",
   "id": "d6dd7121",
   "metadata": {},
   "source": [
    "Create Alternate filter using df.loc"
   ]
  },
  {
   "cell_type": "code",
   "execution_count": 27,
   "id": "da11f2c3",
   "metadata": {},
   "outputs": [],
   "source": [
    "df.loc[df['prices'] > 15, 'price_range_loc'] = 'High-range product'"
   ]
  },
  {
   "cell_type": "code",
   "execution_count": 28,
   "id": "8db04b3e",
   "metadata": {},
   "outputs": [],
   "source": [
    "df.loc[(df['prices'] <= 15) & (df['prices'] > 5), 'price_range_loc'] = 'Mid-range product'"
   ]
  },
  {
   "cell_type": "code",
   "execution_count": 29,
   "id": "aae986ef",
   "metadata": {},
   "outputs": [],
   "source": [
    "df.loc[df['prices'] <= 5, 'price_range_loc'] = 'Low-range product'"
   ]
  },
  {
   "cell_type": "code",
   "execution_count": 30,
   "id": "75c3f6e1",
   "metadata": {},
   "outputs": [
    {
     "data": {
      "text/plain": [
       "Mid-range product    581197\n",
       "Low-range product    212594\n",
       "Name: price_range_loc, dtype: int64"
      ]
     },
     "execution_count": 30,
     "metadata": {},
     "output_type": "execute_result"
    }
   ],
   "source": [
    "df['price_range_loc'].value_counts() "
   ]
  },
  {
   "cell_type": "code",
   "execution_count": 31,
   "id": "2ceca3ac",
   "metadata": {},
   "outputs": [],
   "source": [
    "df_ords_prods_combined.loc[df_ords_prods_combined['prices'] >15, 'price_range_loc'] = 'High-range product'"
   ]
  },
  {
   "cell_type": "code",
   "execution_count": 32,
   "id": "b43cc6a8",
   "metadata": {},
   "outputs": [],
   "source": [
    "df_ords_prods_combined.loc[(df_ords_prods_combined['prices'] <=15) & (df_ords_prods_combined['prices'] > 5), 'price_range_loc'] = 'Mid=range product'"
   ]
  },
  {
   "cell_type": "code",
   "execution_count": 33,
   "id": "f7d7bd05",
   "metadata": {},
   "outputs": [],
   "source": [
    "df_ords_prods_combined.loc[df_ords_prods_combined['prices'] <=5, 'price_range_loc'] = 'Low-range product'"
   ]
  },
  {
   "cell_type": "code",
   "execution_count": 34,
   "id": "8d314a5a",
   "metadata": {},
   "outputs": [
    {
     "data": {
      "text/plain": [
       "Mid=range product     21860868\n",
       "Low-range product     10126324\n",
       "High-range product      417678\n",
       "Name: price_range_loc, dtype: int64"
      ]
     },
     "execution_count": 34,
     "metadata": {},
     "output_type": "execute_result"
    }
   ],
   "source": [
    "# check filter\n",
    "\n",
    "df_ords_prods_combined['price_range_loc'].value_counts()"
   ]
  },
  {
   "cell_type": "markdown",
   "id": "2d5772e4",
   "metadata": {},
   "source": [
    "# 3. Create Busiest Day Flag"
   ]
  },
  {
   "cell_type": "code",
   "execution_count": 78,
   "id": "a0306e80",
   "metadata": {},
   "outputs": [],
   "source": [
    "# create function for busiest days\n",
    "\n",
    "result = []\n",
    "\n",
    "for value in df_ords_prods_combined[\"order_day_of_week\"]:\n",
    "  if value == 0:\n",
    "    result.append(\"Busiest days\")\n",
    "  elif value == 1:\n",
    "    result.append(\"Busiest days\")\n",
    "  elif value == 3:\n",
    "    result.append(\"Least busy days\")\n",
    "  elif value == 4:\n",
    "    result.append(\"Least busy days\")\n",
    "  else:\n",
    "    result.append(\"Regularly busy\")"
   ]
  },
  {
   "cell_type": "code",
   "execution_count": 79,
   "id": "d9d479b9",
   "metadata": {},
   "outputs": [],
   "source": [
    "# add busiest_days column\n",
    "\n",
    "df_ords_prods_combined['busiest_days'] = result"
   ]
  },
  {
   "cell_type": "code",
   "execution_count": 80,
   "id": "4e44bbd4",
   "metadata": {},
   "outputs": [
    {
     "data": {
      "text/plain": [
       "Regularly busy     13010477\n",
       "Busiest days       11949665\n",
       "Least busy days     7681137\n",
       "Name: busiest_days, dtype: int64"
      ]
     },
     "execution_count": 80,
     "metadata": {},
     "output_type": "execute_result"
    }
   ],
   "source": [
    "# check function values\n",
    "\n",
    "df_ords_prods_combined['busiest_days'].value_counts(dropna = False)"
   ]
  },
  {
   "cell_type": "code",
   "execution_count": 85,
   "id": "acea1726",
   "metadata": {},
   "outputs": [
    {
     "data": {
      "text/plain": [
       "0.0    6252941\n",
       "1.0    5696724\n",
       "6.0    4530304\n",
       "2.0    4243173\n",
       "5.0    4236989\n",
       "3.0    3868747\n",
       "4.0    3812390\n",
       "NaN         11\n",
       "Name: order_day_of_week, dtype: int64"
      ]
     },
     "execution_count": 85,
     "metadata": {},
     "output_type": "execute_result"
    }
   ],
   "source": [
    "# check counts of days of week for orders\n",
    "\n",
    "df_ords_prods_combined['order_day_of_week'].value_counts(dropna = False)"
   ]
  },
  {
   "cell_type": "code",
   "execution_count": 82,
   "id": "8e41fdc4",
   "metadata": {},
   "outputs": [],
   "source": [
    "# df to check days of week assigned\n",
    "\n",
    "df_week_frequency = df_ords_prods_combined.filter(['order_day_of_week','busiest_days'])"
   ]
  },
  {
   "cell_type": "code",
   "execution_count": 83,
   "id": "2a2d8d8f",
   "metadata": {},
   "outputs": [
    {
     "data": {
      "text/plain": [
       "order_day_of_week  busiest_days   \n",
       "0.0                Busiest days       6252941\n",
       "1.0                Busiest days       5696724\n",
       "6.0                Regularly busy     4530304\n",
       "2.0                Regularly busy     4243173\n",
       "5.0                Regularly busy     4236989\n",
       "3.0                Least busy days    3868747\n",
       "4.0                Least busy days    3812390\n",
       "dtype: int64"
      ]
     },
     "execution_count": 83,
     "metadata": {},
     "output_type": "execute_result"
    }
   ],
   "source": [
    "# check busiest days assigned\n",
    "\n",
    "df_week_frequency.value_counts()"
   ]
  },
  {
   "cell_type": "code",
   "execution_count": 84,
   "id": "2cba02d9",
   "metadata": {},
   "outputs": [
    {
     "data": {
      "text/html": [
       "<div>\n",
       "<style scoped>\n",
       "    .dataframe tbody tr th:only-of-type {\n",
       "        vertical-align: middle;\n",
       "    }\n",
       "\n",
       "    .dataframe tbody tr th {\n",
       "        vertical-align: top;\n",
       "    }\n",
       "\n",
       "    .dataframe thead th {\n",
       "        text-align: right;\n",
       "    }\n",
       "</style>\n",
       "<table border=\"1\" class=\"dataframe\">\n",
       "  <thead>\n",
       "    <tr style=\"text-align: right;\">\n",
       "      <th></th>\n",
       "      <th>Unnamed: 0_x</th>\n",
       "      <th>order_id</th>\n",
       "      <th>user_id</th>\n",
       "      <th>order_number</th>\n",
       "      <th>order_day_of_week</th>\n",
       "      <th>order_hour_of_day</th>\n",
       "      <th>days_since_prior_order</th>\n",
       "      <th>product_id</th>\n",
       "      <th>add_to_cart_order</th>\n",
       "      <th>reordered</th>\n",
       "      <th>_merge</th>\n",
       "      <th>Unnamed: 0_y</th>\n",
       "      <th>product_name</th>\n",
       "      <th>aisle_id</th>\n",
       "      <th>department_id</th>\n",
       "      <th>prices</th>\n",
       "      <th>price_range_loc</th>\n",
       "      <th>busiest_day</th>\n",
       "      <th>busiest_days</th>\n",
       "    </tr>\n",
       "  </thead>\n",
       "  <tbody>\n",
       "    <tr>\n",
       "      <th>0</th>\n",
       "      <td>0.0</td>\n",
       "      <td>2539329.0</td>\n",
       "      <td>1.0</td>\n",
       "      <td>1.0</td>\n",
       "      <td>2.0</td>\n",
       "      <td>8.0</td>\n",
       "      <td>NaN</td>\n",
       "      <td>196.0</td>\n",
       "      <td>1.0</td>\n",
       "      <td>0.0</td>\n",
       "      <td>both</td>\n",
       "      <td>195.0</td>\n",
       "      <td>Soda</td>\n",
       "      <td>77.0</td>\n",
       "      <td>7.0</td>\n",
       "      <td>9.0</td>\n",
       "      <td>Mid=range product</td>\n",
       "      <td>Regularly busy</td>\n",
       "      <td>Regularly busy</td>\n",
       "    </tr>\n",
       "    <tr>\n",
       "      <th>1</th>\n",
       "      <td>1.0</td>\n",
       "      <td>2398795.0</td>\n",
       "      <td>1.0</td>\n",
       "      <td>2.0</td>\n",
       "      <td>3.0</td>\n",
       "      <td>7.0</td>\n",
       "      <td>15.0</td>\n",
       "      <td>196.0</td>\n",
       "      <td>1.0</td>\n",
       "      <td>1.0</td>\n",
       "      <td>both</td>\n",
       "      <td>195.0</td>\n",
       "      <td>Soda</td>\n",
       "      <td>77.0</td>\n",
       "      <td>7.0</td>\n",
       "      <td>9.0</td>\n",
       "      <td>Mid=range product</td>\n",
       "      <td>Regularly busy</td>\n",
       "      <td>Least busy days</td>\n",
       "    </tr>\n",
       "    <tr>\n",
       "      <th>2</th>\n",
       "      <td>2.0</td>\n",
       "      <td>473747.0</td>\n",
       "      <td>1.0</td>\n",
       "      <td>3.0</td>\n",
       "      <td>3.0</td>\n",
       "      <td>12.0</td>\n",
       "      <td>21.0</td>\n",
       "      <td>196.0</td>\n",
       "      <td>1.0</td>\n",
       "      <td>1.0</td>\n",
       "      <td>both</td>\n",
       "      <td>195.0</td>\n",
       "      <td>Soda</td>\n",
       "      <td>77.0</td>\n",
       "      <td>7.0</td>\n",
       "      <td>9.0</td>\n",
       "      <td>Mid=range product</td>\n",
       "      <td>Regularly busy</td>\n",
       "      <td>Least busy days</td>\n",
       "    </tr>\n",
       "    <tr>\n",
       "      <th>3</th>\n",
       "      <td>3.0</td>\n",
       "      <td>2254736.0</td>\n",
       "      <td>1.0</td>\n",
       "      <td>4.0</td>\n",
       "      <td>4.0</td>\n",
       "      <td>7.0</td>\n",
       "      <td>29.0</td>\n",
       "      <td>196.0</td>\n",
       "      <td>1.0</td>\n",
       "      <td>1.0</td>\n",
       "      <td>both</td>\n",
       "      <td>195.0</td>\n",
       "      <td>Soda</td>\n",
       "      <td>77.0</td>\n",
       "      <td>7.0</td>\n",
       "      <td>9.0</td>\n",
       "      <td>Mid=range product</td>\n",
       "      <td>Least busy</td>\n",
       "      <td>Least busy days</td>\n",
       "    </tr>\n",
       "    <tr>\n",
       "      <th>4</th>\n",
       "      <td>4.0</td>\n",
       "      <td>431534.0</td>\n",
       "      <td>1.0</td>\n",
       "      <td>5.0</td>\n",
       "      <td>4.0</td>\n",
       "      <td>15.0</td>\n",
       "      <td>28.0</td>\n",
       "      <td>196.0</td>\n",
       "      <td>1.0</td>\n",
       "      <td>1.0</td>\n",
       "      <td>both</td>\n",
       "      <td>195.0</td>\n",
       "      <td>Soda</td>\n",
       "      <td>77.0</td>\n",
       "      <td>7.0</td>\n",
       "      <td>9.0</td>\n",
       "      <td>Mid=range product</td>\n",
       "      <td>Least busy</td>\n",
       "      <td>Least busy days</td>\n",
       "    </tr>\n",
       "  </tbody>\n",
       "</table>\n",
       "</div>"
      ],
      "text/plain": [
       "   Unnamed: 0_x   order_id  user_id  order_number  order_day_of_week  \\\n",
       "0           0.0  2539329.0      1.0           1.0                2.0   \n",
       "1           1.0  2398795.0      1.0           2.0                3.0   \n",
       "2           2.0   473747.0      1.0           3.0                3.0   \n",
       "3           3.0  2254736.0      1.0           4.0                4.0   \n",
       "4           4.0   431534.0      1.0           5.0                4.0   \n",
       "\n",
       "   order_hour_of_day  days_since_prior_order  product_id  add_to_cart_order  \\\n",
       "0                8.0                     NaN       196.0                1.0   \n",
       "1                7.0                    15.0       196.0                1.0   \n",
       "2               12.0                    21.0       196.0                1.0   \n",
       "3                7.0                    29.0       196.0                1.0   \n",
       "4               15.0                    28.0       196.0                1.0   \n",
       "\n",
       "   reordered _merge  Unnamed: 0_y product_name  aisle_id  department_id  \\\n",
       "0        0.0   both         195.0         Soda      77.0            7.0   \n",
       "1        1.0   both         195.0         Soda      77.0            7.0   \n",
       "2        1.0   both         195.0         Soda      77.0            7.0   \n",
       "3        1.0   both         195.0         Soda      77.0            7.0   \n",
       "4        1.0   both         195.0         Soda      77.0            7.0   \n",
       "\n",
       "   prices    price_range_loc     busiest_day     busiest_days  \n",
       "0     9.0  Mid=range product  Regularly busy   Regularly busy  \n",
       "1     9.0  Mid=range product  Regularly busy  Least busy days  \n",
       "2     9.0  Mid=range product  Regularly busy  Least busy days  \n",
       "3     9.0  Mid=range product      Least busy  Least busy days  \n",
       "4     9.0  Mid=range product      Least busy  Least busy days  "
      ]
     },
     "execution_count": 84,
     "metadata": {},
     "output_type": "execute_result"
    }
   ],
   "source": [
    "# check df_ords_prods_combined output"
   ]
  },
  {
   "cell_type": "markdown",
   "id": "1b277541",
   "metadata": {},
   "source": [
    "Everything looks as though it was correctly assigned. I edited the result[] function to have additional elifs. \n",
    "My question is was there a way to assign multiple variables in the \"if\" and \"elif\". Technically I am assigning 0 and 1 to the same output but I created 2 statements to get that result. Could that have been one statement using an ',' or 'or'. I tried to use both but was uncertain of what syntax would be appropriate."
   ]
  },
  {
   "cell_type": "markdown",
   "id": "2498efd0",
   "metadata": {},
   "source": [
    "Determine the busiest hours of the day so the tech team can help the app function at busier times."
   ]
  },
  {
   "cell_type": "code",
   "execution_count": 86,
   "id": "3735668d",
   "metadata": {},
   "outputs": [
    {
     "data": {
      "text/plain": [
       "10.0    2781009\n",
       "11.0    2755369\n",
       "14.0    2709084\n",
       "15.0    2682090\n",
       "13.0    2680171\n",
       "12.0    2637533\n",
       "16.0    2554110\n",
       "9.0     2471067\n",
       "17.0    2104225\n",
       "8.0     1729871\n",
       "18.0    1649870\n",
       "19.0    1268365\n",
       "20.0     983232\n",
       "7.0      897163\n",
       "21.0     801052\n",
       "22.0     638671\n",
       "23.0     405051\n",
       "6.0      292533\n",
       "0.0      220337\n",
       "1.0      116589\n",
       "5.0       88661\n",
       "2.0       69904\n",
       "4.0       53636\n",
       "3.0       51675\n",
       "NaN          11\n",
       "Name: order_hour_of_day, dtype: int64"
      ]
     },
     "execution_count": 86,
     "metadata": {},
     "output_type": "execute_result"
    }
   ],
   "source": [
    "df_ords_prods_combined['order_hour_of_day'].value_counts(dropna = False)"
   ]
  },
  {
   "cell_type": "markdown",
   "id": "12738bff",
   "metadata": {},
   "source": [
    "Since we don't have specific parameters as to what constitutes as \"busy\" we are going to define the most as the highest 25% of ders, average as the 26-74% and fewest as 0-25%\n",
    "\n",
    "Most Orders = 2554110< orders (hours 10-16)\n",
    "Average Orders = 220338-2554109 (6-9, 17-23)\n",
    "Fewest Orders = <220337 (0-5)"
   ]
  },
  {
   "cell_type": "markdown",
   "id": "b460eb70",
   "metadata": {},
   "source": [
    "# 4. Create Flag for Busiest Hours"
   ]
  },
  {
   "cell_type": "code",
   "execution_count": 89,
   "id": "c7a0a86a",
   "metadata": {},
   "outputs": [],
   "source": [
    "# create df to analyze hours\n",
    "\n",
    "df = df_ords_prods_combined['order_hour_of_day'].value_counts(dropna = False)"
   ]
  },
  {
   "cell_type": "code",
   "execution_count": 90,
   "id": "0750c8af",
   "metadata": {},
   "outputs": [
    {
     "data": {
      "text/plain": [
       "count    2.500000e+01\n",
       "mean     1.305651e+06\n",
       "std      1.097584e+06\n",
       "min      1.100000e+01\n",
       "25%      2.203370e+05\n",
       "50%      9.832320e+05\n",
       "75%      2.554110e+06\n",
       "max      2.781009e+06\n",
       "Name: order_hour_of_day, dtype: float64"
      ]
     },
     "execution_count": 90,
     "metadata": {},
     "output_type": "execute_result"
    }
   ],
   "source": [
    "# get statistics for hours of day\n",
    "df.describe()"
   ]
  },
  {
   "cell_type": "code",
   "execution_count": 114,
   "id": "cdced203",
   "metadata": {},
   "outputs": [],
   "source": [
    "# create function to assign hours to times of day\n",
    "\n",
    "df_ords_prods_combined.loc[(df_ords_prods_combined['order_hour_of_day'] <=16) & (df_ords_prods_combined['order_hour_of_day'] >=10),'busiest_period_of_day'] = 'Most Orders'"
   ]
  },
  {
   "cell_type": "code",
   "execution_count": 115,
   "id": "77fd4faa",
   "metadata": {},
   "outputs": [],
   "source": [
    "df_ords_prods_combined.loc[(df_ords_prods_combined['order_hour_of_day'] <=23) & (df_ords_prods_combined['order_hour_of_day']>=17),'busiest_period_of_day'] = 'Average Orders'"
   ]
  },
  {
   "cell_type": "code",
   "execution_count": 116,
   "id": "4897d3e0",
   "metadata": {},
   "outputs": [],
   "source": [
    "df_ords_prods_combined.loc[(df_ords_prods_combined['order_hour_of_day'] <=9) & (df_ords_prods_combined['order_hour_of_day']<=6),'busiest_period_of_day'] = 'Average Orders'"
   ]
  },
  {
   "cell_type": "code",
   "execution_count": 117,
   "id": "71947fc3",
   "metadata": {},
   "outputs": [],
   "source": [
    "df_ords_prods_combined.loc[(df_ords_prods_combined['order_hour_of_day'] <=5),'busiest_period_of_day'] = 'Fewest Orders'"
   ]
  },
  {
   "cell_type": "code",
   "execution_count": 118,
   "id": "69c1b37d",
   "metadata": {},
   "outputs": [
    {
     "data": {
      "text/plain": [
       "Index(['Unnamed: 0_x', 'order_id', 'user_id', 'order_number',\n",
       "       'order_day_of_week', 'order_hour_of_day', 'days_since_prior_order',\n",
       "       'product_id', 'add_to_cart_order', 'reordered', '_merge',\n",
       "       'Unnamed: 0_y', 'product_name', 'aisle_id', 'department_id', 'prices',\n",
       "       'price_range_loc', 'busiest_day', 'busiest_days',\n",
       "       'busiest_period_of_day'],\n",
       "      dtype='object')"
      ]
     },
     "execution_count": 118,
     "metadata": {},
     "output_type": "execute_result"
    }
   ],
   "source": [
    "df_ords_prods_combined.columns"
   ]
  },
  {
   "cell_type": "code",
   "execution_count": 119,
   "id": "284e7db8",
   "metadata": {},
   "outputs": [
    {
     "data": {
      "text/plain": [
       "Most Orders       18799366\n",
       "Average Orders    13241100\n",
       "Fewest Orders       600802\n",
       "NaN                     11\n",
       "Name: busiest_period_of_day, dtype: int64"
      ]
     },
     "execution_count": 119,
     "metadata": {},
     "output_type": "execute_result"
    }
   ],
   "source": [
    "#check values for times of day\n",
    "\n",
    "df_ords_prods_combined['busiest_period_of_day'].value_counts(dropna = False)"
   ]
  },
  {
   "cell_type": "code",
   "execution_count": 120,
   "id": "7bc3e2bf",
   "metadata": {},
   "outputs": [
    {
     "data": {
      "text/html": [
       "<div>\n",
       "<style scoped>\n",
       "    .dataframe tbody tr th:only-of-type {\n",
       "        vertical-align: middle;\n",
       "    }\n",
       "\n",
       "    .dataframe tbody tr th {\n",
       "        vertical-align: top;\n",
       "    }\n",
       "\n",
       "    .dataframe thead th {\n",
       "        text-align: right;\n",
       "    }\n",
       "</style>\n",
       "<table border=\"1\" class=\"dataframe\">\n",
       "  <thead>\n",
       "    <tr style=\"text-align: right;\">\n",
       "      <th></th>\n",
       "      <th>Unnamed: 0_x</th>\n",
       "      <th>order_id</th>\n",
       "      <th>user_id</th>\n",
       "      <th>order_number</th>\n",
       "      <th>order_day_of_week</th>\n",
       "      <th>order_hour_of_day</th>\n",
       "      <th>days_since_prior_order</th>\n",
       "      <th>product_id</th>\n",
       "      <th>add_to_cart_order</th>\n",
       "      <th>reordered</th>\n",
       "      <th>_merge</th>\n",
       "      <th>Unnamed: 0_y</th>\n",
       "      <th>product_name</th>\n",
       "      <th>aisle_id</th>\n",
       "      <th>department_id</th>\n",
       "      <th>prices</th>\n",
       "      <th>price_range_loc</th>\n",
       "      <th>busiest_day</th>\n",
       "      <th>busiest_days</th>\n",
       "      <th>busiest_period_of_day</th>\n",
       "    </tr>\n",
       "  </thead>\n",
       "  <tbody>\n",
       "    <tr>\n",
       "      <th>0</th>\n",
       "      <td>0.0</td>\n",
       "      <td>2539329.0</td>\n",
       "      <td>1.0</td>\n",
       "      <td>1.0</td>\n",
       "      <td>2.0</td>\n",
       "      <td>8.0</td>\n",
       "      <td>NaN</td>\n",
       "      <td>196.0</td>\n",
       "      <td>1.0</td>\n",
       "      <td>0.0</td>\n",
       "      <td>both</td>\n",
       "      <td>195.0</td>\n",
       "      <td>Soda</td>\n",
       "      <td>77.0</td>\n",
       "      <td>7.0</td>\n",
       "      <td>9.0</td>\n",
       "      <td>Mid=range product</td>\n",
       "      <td>Regularly busy</td>\n",
       "      <td>Regularly busy</td>\n",
       "      <td>Average Orders</td>\n",
       "    </tr>\n",
       "    <tr>\n",
       "      <th>1</th>\n",
       "      <td>1.0</td>\n",
       "      <td>2398795.0</td>\n",
       "      <td>1.0</td>\n",
       "      <td>2.0</td>\n",
       "      <td>3.0</td>\n",
       "      <td>7.0</td>\n",
       "      <td>15.0</td>\n",
       "      <td>196.0</td>\n",
       "      <td>1.0</td>\n",
       "      <td>1.0</td>\n",
       "      <td>both</td>\n",
       "      <td>195.0</td>\n",
       "      <td>Soda</td>\n",
       "      <td>77.0</td>\n",
       "      <td>7.0</td>\n",
       "      <td>9.0</td>\n",
       "      <td>Mid=range product</td>\n",
       "      <td>Regularly busy</td>\n",
       "      <td>Least busy days</td>\n",
       "      <td>Average Orders</td>\n",
       "    </tr>\n",
       "    <tr>\n",
       "      <th>2</th>\n",
       "      <td>2.0</td>\n",
       "      <td>473747.0</td>\n",
       "      <td>1.0</td>\n",
       "      <td>3.0</td>\n",
       "      <td>3.0</td>\n",
       "      <td>12.0</td>\n",
       "      <td>21.0</td>\n",
       "      <td>196.0</td>\n",
       "      <td>1.0</td>\n",
       "      <td>1.0</td>\n",
       "      <td>both</td>\n",
       "      <td>195.0</td>\n",
       "      <td>Soda</td>\n",
       "      <td>77.0</td>\n",
       "      <td>7.0</td>\n",
       "      <td>9.0</td>\n",
       "      <td>Mid=range product</td>\n",
       "      <td>Regularly busy</td>\n",
       "      <td>Least busy days</td>\n",
       "      <td>Most Orders</td>\n",
       "    </tr>\n",
       "    <tr>\n",
       "      <th>3</th>\n",
       "      <td>3.0</td>\n",
       "      <td>2254736.0</td>\n",
       "      <td>1.0</td>\n",
       "      <td>4.0</td>\n",
       "      <td>4.0</td>\n",
       "      <td>7.0</td>\n",
       "      <td>29.0</td>\n",
       "      <td>196.0</td>\n",
       "      <td>1.0</td>\n",
       "      <td>1.0</td>\n",
       "      <td>both</td>\n",
       "      <td>195.0</td>\n",
       "      <td>Soda</td>\n",
       "      <td>77.0</td>\n",
       "      <td>7.0</td>\n",
       "      <td>9.0</td>\n",
       "      <td>Mid=range product</td>\n",
       "      <td>Least busy</td>\n",
       "      <td>Least busy days</td>\n",
       "      <td>Average Orders</td>\n",
       "    </tr>\n",
       "    <tr>\n",
       "      <th>4</th>\n",
       "      <td>4.0</td>\n",
       "      <td>431534.0</td>\n",
       "      <td>1.0</td>\n",
       "      <td>5.0</td>\n",
       "      <td>4.0</td>\n",
       "      <td>15.0</td>\n",
       "      <td>28.0</td>\n",
       "      <td>196.0</td>\n",
       "      <td>1.0</td>\n",
       "      <td>1.0</td>\n",
       "      <td>both</td>\n",
       "      <td>195.0</td>\n",
       "      <td>Soda</td>\n",
       "      <td>77.0</td>\n",
       "      <td>7.0</td>\n",
       "      <td>9.0</td>\n",
       "      <td>Mid=range product</td>\n",
       "      <td>Least busy</td>\n",
       "      <td>Least busy days</td>\n",
       "      <td>Most Orders</td>\n",
       "    </tr>\n",
       "  </tbody>\n",
       "</table>\n",
       "</div>"
      ],
      "text/plain": [
       "   Unnamed: 0_x   order_id  user_id  order_number  order_day_of_week  \\\n",
       "0           0.0  2539329.0      1.0           1.0                2.0   \n",
       "1           1.0  2398795.0      1.0           2.0                3.0   \n",
       "2           2.0   473747.0      1.0           3.0                3.0   \n",
       "3           3.0  2254736.0      1.0           4.0                4.0   \n",
       "4           4.0   431534.0      1.0           5.0                4.0   \n",
       "\n",
       "   order_hour_of_day  days_since_prior_order  product_id  add_to_cart_order  \\\n",
       "0                8.0                     NaN       196.0                1.0   \n",
       "1                7.0                    15.0       196.0                1.0   \n",
       "2               12.0                    21.0       196.0                1.0   \n",
       "3                7.0                    29.0       196.0                1.0   \n",
       "4               15.0                    28.0       196.0                1.0   \n",
       "\n",
       "   reordered _merge  Unnamed: 0_y product_name  aisle_id  department_id  \\\n",
       "0        0.0   both         195.0         Soda      77.0            7.0   \n",
       "1        1.0   both         195.0         Soda      77.0            7.0   \n",
       "2        1.0   both         195.0         Soda      77.0            7.0   \n",
       "3        1.0   both         195.0         Soda      77.0            7.0   \n",
       "4        1.0   both         195.0         Soda      77.0            7.0   \n",
       "\n",
       "   prices    price_range_loc     busiest_day     busiest_days  \\\n",
       "0     9.0  Mid=range product  Regularly busy   Regularly busy   \n",
       "1     9.0  Mid=range product  Regularly busy  Least busy days   \n",
       "2     9.0  Mid=range product  Regularly busy  Least busy days   \n",
       "3     9.0  Mid=range product      Least busy  Least busy days   \n",
       "4     9.0  Mid=range product      Least busy  Least busy days   \n",
       "\n",
       "  busiest_period_of_day  \n",
       "0        Average Orders  \n",
       "1        Average Orders  \n",
       "2           Most Orders  \n",
       "3        Average Orders  \n",
       "4           Most Orders  "
      ]
     },
     "execution_count": 120,
     "metadata": {},
     "output_type": "execute_result"
    }
   ],
   "source": [
    "# check to make sure column was added in\n",
    "\n",
    "df_ords_prods_combined.head()"
   ]
  },
  {
   "cell_type": "code",
   "execution_count": 123,
   "id": "35abd677",
   "metadata": {},
   "outputs": [],
   "source": [
    "# create df to check hour of day filter \n",
    "df2 = df_ords_prods_combined.filter(['order_hour_of_day','busiest_period_of_day'], axis=1)"
   ]
  },
  {
   "cell_type": "code",
   "execution_count": 129,
   "id": "66298335",
   "metadata": {},
   "outputs": [
    {
     "data": {
      "text/plain": [
       "order_hour_of_day  busiest_period_of_day\n",
       "10.0               Most Orders              2781009\n",
       "11.0               Most Orders              2755369\n",
       "14.0               Most Orders              2709084\n",
       "15.0               Most Orders              2682090\n",
       "13.0               Most Orders              2680171\n",
       "12.0               Most Orders              2637533\n",
       "16.0               Most Orders              2554110\n",
       "9.0                Average Orders           2471067\n",
       "17.0               Average Orders           2104225\n",
       "8.0                Average Orders           1729871\n",
       "18.0               Average Orders           1649870\n",
       "19.0               Average Orders           1268365\n",
       "20.0               Average Orders            983232\n",
       "7.0                Average Orders            897163\n",
       "21.0               Average Orders            801052\n",
       "22.0               Average Orders            638671\n",
       "23.0               Average Orders            405051\n",
       "6.0                Average Orders            292533\n",
       "0.0                Fewest Orders             220337\n",
       "1.0                Fewest Orders             116589\n",
       "5.0                Fewest Orders              88661\n",
       "2.0                Fewest Orders              69904\n",
       "4.0                Fewest Orders              53636\n",
       "3.0                Fewest Orders              51675\n",
       "dtype: int64"
      ]
     },
     "execution_count": 129,
     "metadata": {},
     "output_type": "execute_result"
    }
   ],
   "source": [
    "# check value counts to make sure filters were applied correctly\n",
    "\n",
    "df2.value_counts()"
   ]
  },
  {
   "cell_type": "markdown",
   "id": "c4b297cd",
   "metadata": {},
   "source": [
    "# 5. Export Data"
   ]
  },
  {
   "cell_type": "code",
   "execution_count": 130,
   "id": "838a3d20",
   "metadata": {},
   "outputs": [],
   "source": [
    "#export to pickle\n",
    "\n",
    "df_ords_prods_combined.to_pickle(os.path.join(path, '02 Data', 'Prepared Data', 'ords_prods_large.pkl'))"
   ]
  },
  {
   "cell_type": "code",
   "execution_count": null,
   "id": "c10424e2",
   "metadata": {},
   "outputs": [],
   "source": []
  }
 ],
 "metadata": {
  "kernelspec": {
   "display_name": "Python 3 (ipykernel)",
   "language": "python",
   "name": "python3"
  },
  "language_info": {
   "codemirror_mode": {
    "name": "ipython",
    "version": 3
   },
   "file_extension": ".py",
   "mimetype": "text/x-python",
   "name": "python",
   "nbconvert_exporter": "python",
   "pygments_lexer": "ipython3",
   "version": "3.9.12"
  }
 },
 "nbformat": 4,
 "nbformat_minor": 5
}

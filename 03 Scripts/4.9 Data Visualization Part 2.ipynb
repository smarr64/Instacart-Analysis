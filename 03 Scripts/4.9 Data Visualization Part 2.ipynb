{
 "cells": [
  {
   "cell_type": "markdown",
   "id": "91b536a1",
   "metadata": {},
   "source": [
    "# Table of Contents\n",
    "\n",
    "## 1. Data Import and Checks\n",
    "## 2. Data Visualization: Prices and Day of Week\n",
    "## 3. Data Sampling\n",
    "## 4. Data Visualization: Day of Week, Income, Dependants, Hour of Day\n",
    "## 5. Data Export"
   ]
  },
  {
   "cell_type": "markdown",
   "id": "7d01b790",
   "metadata": {},
   "source": [
    "# 1. Data Import and Checks"
   ]
  },
  {
   "cell_type": "code",
   "execution_count": null,
   "id": "99e86e07",
   "metadata": {},
   "outputs": [],
   "source": [
    "# import libraries\n",
    "import pandas as pd\n",
    "import numpy as np\n",
    "import os\n",
    "import matplotlib.pyplot as plt\n",
    "import scipy\n",
    "import seaborn as sns"
   ]
  },
  {
   "cell_type": "code",
   "execution_count": null,
   "id": "8af6e5e5",
   "metadata": {},
   "outputs": [],
   "source": [
    "# create path\n",
    "path = r'C:\\Users\\18602\\Documents\\Data Analytics\\Data Immersion\\Month 4\\Instacart Basket Analysis'"
   ]
  },
  {
   "cell_type": "code",
   "execution_count": null,
   "id": "9b069c4a",
   "metadata": {},
   "outputs": [],
   "source": [
    "# import dataset 'customers' \n",
    "df = pd.read_pickle(os.path.join(path, '02 Data', 'Prepared Data', 'ords_prods_large_4_9.pkl'))"
   ]
  },
  {
   "cell_type": "code",
   "execution_count": null,
   "id": "58ade80c",
   "metadata": {},
   "outputs": [],
   "source": [
    "df.columns"
   ]
  },
  {
   "cell_type": "code",
   "execution_count": null,
   "id": "ed699655",
   "metadata": {},
   "outputs": [],
   "source": [
    "df.shape"
   ]
  },
  {
   "cell_type": "markdown",
   "id": "01e0e38b",
   "metadata": {},
   "source": [
    "# 2. Data Visualizations: Prices and Day of Week"
   ]
  },
  {
   "cell_type": "code",
   "execution_count": null,
   "id": "1f4cd412",
   "metadata": {},
   "outputs": [],
   "source": [
    "# create bar chart\n",
    "bar = df['order_day_of_week'].value_counts().sort_index().plot.bar(color = ['red','pink','orange','yellow','green','blue','purple'])"
   ]
  },
  {
   "cell_type": "code",
   "execution_count": null,
   "id": "88aca9b8",
   "metadata": {},
   "outputs": [],
   "source": [
    "# save bar chart\n",
    "bar.figure.savefig(os.path.join(path, '04 Analysis', 'Visualizations', 'bar_orders_dow.png'))"
   ]
  },
  {
   "cell_type": "code",
   "execution_count": null,
   "id": "e6a9d7c6",
   "metadata": {
    "scrolled": true
   },
   "outputs": [],
   "source": [
    "# create histogram\n",
    "hist = df['prices'].plot.hist(bins = 10)"
   ]
  },
  {
   "cell_type": "code",
   "execution_count": null,
   "id": "a36a1461",
   "metadata": {},
   "outputs": [],
   "source": [
    "# save histogram\n",
    "hist.figure.savefig(os.path.join(path, '04 Analysis','Visualizations', 'bar_orders_dow.png'))"
   ]
  },
  {
   "cell_type": "code",
   "execution_count": null,
   "id": "a97323b6",
   "metadata": {},
   "outputs": [],
   "source": [
    "# create scatterplot\n",
    "scat = sns.scatterplot(x = 'prices', y = 'prices',data = df)"
   ]
  },
  {
   "cell_type": "code",
   "execution_count": null,
   "id": "6020e60f",
   "metadata": {},
   "outputs": [],
   "source": [
    "# save scatterplot\n",
    "scat.figure.savefig(os.path.join(path, '04 Analysis','Visualizations', 'bar_orders_dow.png'))"
   ]
  },
  {
   "cell_type": "markdown",
   "id": "0f51b44d",
   "metadata": {},
   "source": [
    "# 3. Data Sampling"
   ]
  },
  {
   "cell_type": "code",
   "execution_count": null,
   "id": "7907203c",
   "metadata": {},
   "outputs": [],
   "source": [
    "# create a random sampling assigning each value true or false\n",
    "np.random.seed(4)\n",
    "dev = np.random.rand(len(df)) <= 0.7"
   ]
  },
  {
   "cell_type": "code",
   "execution_count": null,
   "id": "a8f522b6",
   "metadata": {},
   "outputs": [],
   "source": [
    "# store 70% of the dtata in the label 'big' and 30% in the label 'small'\n",
    "big = df[dev]\n",
    "small = df[~dev]"
   ]
  },
  {
   "cell_type": "code",
   "execution_count": null,
   "id": "5f7413cb",
   "metadata": {},
   "outputs": [],
   "source": [
    "# check length\n",
    "len(df)"
   ]
  },
  {
   "cell_type": "code",
   "execution_count": null,
   "id": "48adc4ca",
   "metadata": {},
   "outputs": [],
   "source": [
    "# check length\n",
    "len(big) + len(small)"
   ]
  },
  {
   "cell_type": "code",
   "execution_count": null,
   "id": "a9ac4169",
   "metadata": {},
   "outputs": [],
   "source": [
    "# create a random sampling assigning each value true or false\n",
    "np.random.seed(3)\n",
    "dev = np.random.rand(len(df)) <= .7"
   ]
  },
  {
   "cell_type": "code",
   "execution_count": null,
   "id": "7bfd1b5c",
   "metadata": {},
   "outputs": [],
   "source": [
    "# create a df for small sample of data\n",
    "df_2 = small[['order_day_of_week','prices']]"
   ]
  },
  {
   "cell_type": "markdown",
   "id": "c6bc5e7e",
   "metadata": {},
   "source": [
    "# 4. Data Visualizations: Day of Week, Income, Dependants, Hour of Day"
   ]
  },
  {
   "cell_type": "code",
   "execution_count": null,
   "id": "5ca9dd02",
   "metadata": {},
   "outputs": [],
   "source": [
    "# create line chart for prices over day of week\n",
    "line = sns.lineplot(data = df_2, x = 'order_day_of_week',y = 'prices')"
   ]
  },
  {
   "cell_type": "code",
   "execution_count": null,
   "id": "2ddfdd53",
   "metadata": {},
   "outputs": [],
   "source": [
    "# save chart\n",
    "line.figure.savefig(os.path.join(path, '04 Analysis','Visualizations', 'bar_orders_dow.png'))"
   ]
  },
  {
   "cell_type": "code",
   "execution_count": null,
   "id": "1c1ce8c3",
   "metadata": {},
   "outputs": [],
   "source": [
    "# create histogram for order hour of day \n",
    "hist2 = df['order_hour_of_day'].plot.hist(bins = 23)"
   ]
  },
  {
   "cell_type": "code",
   "execution_count": null,
   "id": "5ad1a5b9",
   "metadata": {},
   "outputs": [],
   "source": [
    "# save chart\n",
    "hist2.figure.savefig(os.path.join(path, '04 Analysis','Visualizations', 'bar_orders_dow.png'))"
   ]
  },
  {
   "cell_type": "markdown",
   "id": "138ed8b9",
   "metadata": {},
   "source": [
    "This histogram demonstrates the quantity of orders in each hour of the day. The bar starts at 0 (which is midnight) and continues up until 23 (11pm). From this,we can see orders peak around 10am."
   ]
  },
  {
   "cell_type": "code",
   "execution_count": null,
   "id": "c54bbc29",
   "metadata": {},
   "outputs": [],
   "source": [
    "# save bar chart\n",
    "bar2.figure.savefig(os.path.join(path, '04 Analysis','Visualizations', 'bar_orders_dow.png'))"
   ]
  },
  {
   "cell_type": "code",
   "execution_count": null,
   "id": "7da9c949",
   "metadata": {},
   "outputs": [],
   "source": [
    "# create a df for small sample of data\n",
    "df_3 = small[['order_hour_of_day','prices']]"
   ]
  },
  {
   "cell_type": "code",
   "execution_count": null,
   "id": "3f8aa2eb",
   "metadata": {
    "scrolled": true
   },
   "outputs": [],
   "source": [
    "# create line chart for order hour of day and price\n",
    "line2 = sns.lineplot(data = df_3, x = 'order_hour_of_day', y = 'prices')"
   ]
  },
  {
   "cell_type": "markdown",
   "id": "8d30e9f3",
   "metadata": {},
   "source": [
    "It looks like the averge price for items drops during our busiest time of the day (10am) and peaks at a much slower time of the day (8pm)"
   ]
  },
  {
   "cell_type": "code",
   "execution_count": null,
   "id": "3f29c56b",
   "metadata": {},
   "outputs": [],
   "source": [
    "# save line chart\n",
    "line2.figure.savefig(os.path.join(path, '04 Analysis','Visualizations', 'bar_orders_dow.png'))"
   ]
  },
  {
   "cell_type": "code",
   "execution_count": null,
   "id": "3e4dff99",
   "metadata": {},
   "outputs": [],
   "source": [
    "# create a df for small sample of data\n",
    "df_4 = small[['n_dependants','age']]"
   ]
  },
  {
   "cell_type": "code",
   "execution_count": null,
   "id": "2eb3f839",
   "metadata": {},
   "outputs": [],
   "source": [
    "line3 = sns.lineplot(data = df_4, x = 'age', y = 'n_dependants')"
   ]
  },
  {
   "cell_type": "code",
   "execution_count": null,
   "id": "51df7426",
   "metadata": {},
   "outputs": [],
   "source": [
    "# save line chart\n",
    "line3.figure.savefig(os.path.join(path, '04 Analysis','Visualizations', 'bar_orders_dow.png'))"
   ]
  },
  {
   "cell_type": "markdown",
   "id": "34bd52cc",
   "metadata": {},
   "source": [
    "This chart is not particularly clear in terms of correlation. Doing a correlation coefficient analysis would probably be more precise and clear, but there is no obvious connection and in terms of average dependents and age. One issue is slight fluctuations are too dramatic for this chart to necessarily make sense. Plotting a line in a scatterplot would be more helpful."
   ]
  },
  {
   "cell_type": "code",
   "execution_count": null,
   "id": "7716e311",
   "metadata": {},
   "outputs": [],
   "source": [
    "# create a df for small sample of data\n",
    "df_5 = small[['age','income']]"
   ]
  },
  {
   "cell_type": "code",
   "execution_count": null,
   "id": "7ca801c8",
   "metadata": {},
   "outputs": [],
   "source": [
    "# see if there is a connection between age and income\n",
    "line4 = sns.lineplot(data = df_5, x = 'income', y = 'age')"
   ]
  },
  {
   "cell_type": "markdown",
   "id": "ad7cf755",
   "metadata": {},
   "source": [
    "There does seem to be a increase in income aka spending power as age goes up, In the 20s, the highest spending point is in the 400,000 range but when we get to the 40s it increases to 600,000"
   ]
  },
  {
   "cell_type": "markdown",
   "id": "c1e68a8b",
   "metadata": {},
   "source": [
    "# 5. Export Data"
   ]
  },
  {
   "cell_type": "code",
   "execution_count": null,
   "id": "4176be7f",
   "metadata": {},
   "outputs": [],
   "source": [
    "# save line chart\n",
    "line4.figure.savefig(os.path.join(path, '04 Analysis','Visualizations', 'bar_orders_dow.png'))"
   ]
  },
  {
   "cell_type": "code",
   "execution_count": null,
   "id": "5a525a22",
   "metadata": {},
   "outputs": [],
   "source": [
    "# export to pickle\n",
    "df.to_pickle(os.path.join(path, '02 Data', 'Prepared Data', 'ords_prods_large_4_8.pkl'))"
   ]
  }
 ],
 "metadata": {
  "kernelspec": {
   "display_name": "Python 3 (ipykernel)",
   "language": "python",
   "name": "python3"
  },
  "language_info": {
   "codemirror_mode": {
    "name": "ipython",
    "version": 3
   },
   "file_extension": ".py",
   "mimetype": "text/x-python",
   "name": "python",
   "nbconvert_exporter": "python",
   "pygments_lexer": "ipython3",
   "version": "3.9.12"
  }
 },
 "nbformat": 4,
 "nbformat_minor": 5
}
